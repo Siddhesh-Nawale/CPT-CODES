{
 "cells": [
  {
   "cell_type": "code",
   "execution_count": 837,
   "metadata": {},
   "outputs": [],
   "source": [
    "import pandas as pd\n",
    "import numpy as np\n",
    "import seaborn as sb\n",
    "import matplotlib.pyplot as plt \n",
    "import missingno as mo\n",
    "import warnings\n",
    "warnings.filterwarnings('ignore')\n",
    "%matplotlib inline"
   ]
  },
  {
   "cell_type": "code",
   "execution_count": 838,
   "metadata": {},
   "outputs": [],
   "source": [
    "df=pd.read_csv('MRI.csv')"
   ]
  },
  {
   "cell_type": "code",
   "execution_count": 839,
   "metadata": {},
   "outputs": [
    {
     "data": {
      "text/html": [
       "<div>\n",
       "<style scoped>\n",
       "    .dataframe tbody tr th:only-of-type {\n",
       "        vertical-align: middle;\n",
       "    }\n",
       "\n",
       "    .dataframe tbody tr th {\n",
       "        vertical-align: top;\n",
       "    }\n",
       "\n",
       "    .dataframe thead th {\n",
       "        text-align: right;\n",
       "    }\n",
       "</style>\n",
       "<table border=\"1\" class=\"dataframe\">\n",
       "  <thead>\n",
       "    <tr style=\"text-align: right;\">\n",
       "      <th></th>\n",
       "      <th>ID</th>\n",
       "      <th>acc_itn</th>\n",
       "      <th>priority</th>\n",
       "      <th>acct</th>\n",
       "      <th>stp_dtime</th>\n",
       "      <th>ord_for_dtime</th>\n",
       "      <th>dept</th>\n",
       "      <th>proc_no</th>\n",
       "      <th>reason1</th>\n",
       "      <th>cpt_code</th>\n",
       "      <th>pt_adm_no_ext</th>\n",
       "    </tr>\n",
       "  </thead>\n",
       "  <tbody>\n",
       "    <tr>\n",
       "      <th>0</th>\n",
       "      <td>1</td>\n",
       "      <td>7231535</td>\n",
       "      <td>Routine</td>\n",
       "      <td>4004017060</td>\n",
       "      <td>12-04-2017 17:11</td>\n",
       "      <td>12-04-2017 01:56</td>\n",
       "      <td>MRI</td>\n",
       "      <td>1601</td>\n",
       "      <td>lip abscess</td>\n",
       "      <td>70543.0</td>\n",
       "      <td>4004017060</td>\n",
       "    </tr>\n",
       "    <tr>\n",
       "      <th>1</th>\n",
       "      <td>2</td>\n",
       "      <td>7231655</td>\n",
       "      <td>Routine</td>\n",
       "      <td>4004017134</td>\n",
       "      <td>13-04-2017 17:20</td>\n",
       "      <td>12-04-2017 08:06</td>\n",
       "      <td>MRI</td>\n",
       "      <td>1602</td>\n",
       "      <td>large sacral decubitus</td>\n",
       "      <td>72197.0</td>\n",
       "      <td>4004017134</td>\n",
       "    </tr>\n",
       "    <tr>\n",
       "      <th>2</th>\n",
       "      <td>3</td>\n",
       "      <td>7231760</td>\n",
       "      <td>Routine</td>\n",
       "      <td>6223112189</td>\n",
       "      <td>12-04-2017 22:07</td>\n",
       "      <td>12-04-2017 09:26</td>\n",
       "      <td>MRI</td>\n",
       "      <td>1604</td>\n",
       "      <td>panc abnormality</td>\n",
       "      <td>74183.0</td>\n",
       "      <td>6223112189</td>\n",
       "    </tr>\n",
       "    <tr>\n",
       "      <th>3</th>\n",
       "      <td>4</td>\n",
       "      <td>7231762</td>\n",
       "      <td>Routine</td>\n",
       "      <td>6223112302</td>\n",
       "      <td>12-04-2017 16:16</td>\n",
       "      <td>12-04-2017 09:32</td>\n",
       "      <td>MRI</td>\n",
       "      <td>1554</td>\n",
       "      <td>rule out CNS mets</td>\n",
       "      <td>70553.0</td>\n",
       "      <td>6223112302</td>\n",
       "    </tr>\n",
       "    <tr>\n",
       "      <th>4</th>\n",
       "      <td>5</td>\n",
       "      <td>7231812</td>\n",
       "      <td>Routine</td>\n",
       "      <td>6223108688</td>\n",
       "      <td>12-04-2017 21:52</td>\n",
       "      <td>12-04-2017 09:59</td>\n",
       "      <td>MRI</td>\n",
       "      <td>447</td>\n",
       "      <td>Syncope/dizziness</td>\n",
       "      <td>70551.0</td>\n",
       "      <td>6223108688</td>\n",
       "    </tr>\n",
       "  </tbody>\n",
       "</table>\n",
       "</div>"
      ],
      "text/plain": [
       "   ID  acc_itn  priority        acct         stp_dtime     ord_for_dtime dept  \\\n",
       "0   1  7231535  Routine   4004017060  12-04-2017 17:11  12-04-2017 01:56  MRI   \n",
       "1   2  7231655  Routine   4004017134  13-04-2017 17:20  12-04-2017 08:06  MRI   \n",
       "2   3  7231760  Routine   6223112189  12-04-2017 22:07  12-04-2017 09:26  MRI   \n",
       "3   4  7231762  Routine   6223112302  12-04-2017 16:16  12-04-2017 09:32  MRI   \n",
       "4   5  7231812  Routine   6223108688  12-04-2017 21:52  12-04-2017 09:59  MRI   \n",
       "\n",
       "   proc_no                 reason1  cpt_code  pt_adm_no_ext  \n",
       "0     1601             lip abscess   70543.0     4004017060  \n",
       "1     1602  large sacral decubitus   72197.0     4004017134  \n",
       "2     1604        panc abnormality   74183.0     6223112189  \n",
       "3     1554       rule out CNS mets   70553.0     6223112302  \n",
       "4      447       Syncope/dizziness   70551.0     6223108688  "
      ]
     },
     "execution_count": 839,
     "metadata": {},
     "output_type": "execute_result"
    }
   ],
   "source": [
    "df.head()"
   ]
  },
  {
   "cell_type": "code",
   "execution_count": 840,
   "metadata": {},
   "outputs": [
    {
     "data": {
      "text/plain": [
       "Index(['ID', 'acc_itn', 'priority', 'acct', 'stp_dtime', 'ord_for_dtime',\n",
       "       'dept', 'proc_no', 'reason1', 'cpt_code', 'pt_adm_no_ext'],\n",
       "      dtype='object')"
      ]
     },
     "execution_count": 840,
     "metadata": {},
     "output_type": "execute_result"
    }
   ],
   "source": [
    "df.columns"
   ]
  },
  {
   "cell_type": "code",
   "execution_count": 841,
   "metadata": {},
   "outputs": [
    {
     "data": {
      "text/plain": [
       "(4755, 11)"
      ]
     },
     "execution_count": 841,
     "metadata": {},
     "output_type": "execute_result"
    }
   ],
   "source": [
    "df.shape"
   ]
  },
  {
   "cell_type": "code",
   "execution_count": 842,
   "metadata": {},
   "outputs": [
    {
     "data": {
      "text/plain": [
       "<bound method DataFrame.info of         ID  acc_itn  priority        acct         stp_dtime     ord_for_dtime  \\\n",
       "0        1  7231535  Routine   4004017060  12-04-2017 17:11  12-04-2017 01:56   \n",
       "1        2  7231655  Routine   4004017134  13-04-2017 17:20  12-04-2017 08:06   \n",
       "2        3  7231760  Routine   6223112189  12-04-2017 22:07  12-04-2017 09:26   \n",
       "3        4  7231762  Routine   6223112302  12-04-2017 16:16  12-04-2017 09:32   \n",
       "4        5  7231812  Routine   6223108688  12-04-2017 21:52  12-04-2017 09:59   \n",
       "...    ...      ...       ...         ...               ...               ...   \n",
       "4750  4751  7616942  Stat      6223543003  11-04-2018 21:38  11-04-2018 18:46   \n",
       "4751  4752  7616987  Stat      6223538506  11-04-2018 22:23  11-04-2018 19:21   \n",
       "4752  4753  7617160  SCHEDULE  6223524442  12-04-2018 09:44  12-04-2018 06:47   \n",
       "4753  4754  7617232  As soon   6223547659  12-04-2018 11:33  12-04-2018 07:52   \n",
       "4754  4755  7617326  As soon   6223547659  12-04-2018 11:33  12-04-2018 09:08   \n",
       "\n",
       "     dept  proc_no                                   reason1  cpt_code  \\\n",
       "0     MRI     1601                               lip abscess   70543.0   \n",
       "1     MRI     1602                    large sacral decubitus   72197.0   \n",
       "2     MRI     1604                          panc abnormality   74183.0   \n",
       "3     MRI     1554                         rule out CNS mets   70553.0   \n",
       "4     MRI      447                         Syncope/dizziness   70551.0   \n",
       "...   ...      ...                                       ...       ...   \n",
       "4750  MRI     1557  acute severe pain with difficulty to mov   72156.0   \n",
       "4751  MRI      447            Altered Level of Consciousness   70551.0   \n",
       "4752  MRI      451                                       NaN   72148.0   \n",
       "4753  MRI     1632  pain right hip/knee and ankle with ankle   73720.0   \n",
       "4754  MRI     1622  pain right hip/knee and ankle with ankle   73723.0   \n",
       "\n",
       "      pt_adm_no_ext  \n",
       "0        4004017060  \n",
       "1        4004017134  \n",
       "2        6223112189  \n",
       "3        6223112302  \n",
       "4        6223108688  \n",
       "...             ...  \n",
       "4750     6223543003  \n",
       "4751     6223538506  \n",
       "4752     6223524442  \n",
       "4753     6223547659  \n",
       "4754     6223547659  \n",
       "\n",
       "[4755 rows x 11 columns]>"
      ]
     },
     "execution_count": 842,
     "metadata": {},
     "output_type": "execute_result"
    }
   ],
   "source": [
    "df.info"
   ]
  },
  {
   "cell_type": "code",
   "execution_count": 843,
   "metadata": {},
   "outputs": [
    {
     "data": {
      "text/html": [
       "<div>\n",
       "<style scoped>\n",
       "    .dataframe tbody tr th:only-of-type {\n",
       "        vertical-align: middle;\n",
       "    }\n",
       "\n",
       "    .dataframe tbody tr th {\n",
       "        vertical-align: top;\n",
       "    }\n",
       "\n",
       "    .dataframe thead th {\n",
       "        text-align: right;\n",
       "    }\n",
       "</style>\n",
       "<table border=\"1\" class=\"dataframe\">\n",
       "  <thead>\n",
       "    <tr style=\"text-align: right;\">\n",
       "      <th></th>\n",
       "      <th>ID</th>\n",
       "      <th>acc_itn</th>\n",
       "      <th>acct</th>\n",
       "      <th>proc_no</th>\n",
       "      <th>cpt_code</th>\n",
       "      <th>pt_adm_no_ext</th>\n",
       "    </tr>\n",
       "  </thead>\n",
       "  <tbody>\n",
       "    <tr>\n",
       "      <th>count</th>\n",
       "      <td>4755.000000</td>\n",
       "      <td>4.755000e+03</td>\n",
       "      <td>4.755000e+03</td>\n",
       "      <td>4755.000000</td>\n",
       "      <td>4751.00000</td>\n",
       "      <td>4.755000e+03</td>\n",
       "    </tr>\n",
       "    <tr>\n",
       "      <th>mean</th>\n",
       "      <td>2378.000000</td>\n",
       "      <td>7.419800e+06</td>\n",
       "      <td>5.598179e+09</td>\n",
       "      <td>1020.975394</td>\n",
       "      <td>71489.08314</td>\n",
       "      <td>5.598179e+09</td>\n",
       "    </tr>\n",
       "    <tr>\n",
       "      <th>std</th>\n",
       "      <td>1372.794595</td>\n",
       "      <td>1.100040e+05</td>\n",
       "      <td>9.908031e+08</td>\n",
       "      <td>575.678701</td>\n",
       "      <td>1381.36143</td>\n",
       "      <td>9.908031e+08</td>\n",
       "    </tr>\n",
       "    <tr>\n",
       "      <th>min</th>\n",
       "      <td>1.000000</td>\n",
       "      <td>7.231535e+06</td>\n",
       "      <td>3.100000e+09</td>\n",
       "      <td>446.000000</td>\n",
       "      <td>70540.00000</td>\n",
       "      <td>3.100000e+09</td>\n",
       "    </tr>\n",
       "    <tr>\n",
       "      <th>25%</th>\n",
       "      <td>1189.500000</td>\n",
       "      <td>7.325926e+06</td>\n",
       "      <td>4.004063e+09</td>\n",
       "      <td>447.000000</td>\n",
       "      <td>70551.00000</td>\n",
       "      <td>4.004063e+09</td>\n",
       "    </tr>\n",
       "    <tr>\n",
       "      <th>50%</th>\n",
       "      <td>2378.000000</td>\n",
       "      <td>7.416011e+06</td>\n",
       "      <td>6.223232e+09</td>\n",
       "      <td>455.000000</td>\n",
       "      <td>70551.00000</td>\n",
       "      <td>6.223232e+09</td>\n",
       "    </tr>\n",
       "    <tr>\n",
       "      <th>75%</th>\n",
       "      <td>3566.500000</td>\n",
       "      <td>7.514258e+06</td>\n",
       "      <td>6.223383e+09</td>\n",
       "      <td>1602.000000</td>\n",
       "      <td>72156.00000</td>\n",
       "      <td>6.223383e+09</td>\n",
       "    </tr>\n",
       "    <tr>\n",
       "      <th>max</th>\n",
       "      <td>4755.000000</td>\n",
       "      <td>7.617326e+06</td>\n",
       "      <td>6.223548e+09</td>\n",
       "      <td>1675.000000</td>\n",
       "      <td>75561.00000</td>\n",
       "      <td>6.223548e+09</td>\n",
       "    </tr>\n",
       "  </tbody>\n",
       "</table>\n",
       "</div>"
      ],
      "text/plain": [
       "                ID       acc_itn          acct      proc_no     cpt_code  \\\n",
       "count  4755.000000  4.755000e+03  4.755000e+03  4755.000000   4751.00000   \n",
       "mean   2378.000000  7.419800e+06  5.598179e+09  1020.975394  71489.08314   \n",
       "std    1372.794595  1.100040e+05  9.908031e+08   575.678701   1381.36143   \n",
       "min       1.000000  7.231535e+06  3.100000e+09   446.000000  70540.00000   \n",
       "25%    1189.500000  7.325926e+06  4.004063e+09   447.000000  70551.00000   \n",
       "50%    2378.000000  7.416011e+06  6.223232e+09   455.000000  70551.00000   \n",
       "75%    3566.500000  7.514258e+06  6.223383e+09  1602.000000  72156.00000   \n",
       "max    4755.000000  7.617326e+06  6.223548e+09  1675.000000  75561.00000   \n",
       "\n",
       "       pt_adm_no_ext  \n",
       "count   4.755000e+03  \n",
       "mean    5.598179e+09  \n",
       "std     9.908031e+08  \n",
       "min     3.100000e+09  \n",
       "25%     4.004063e+09  \n",
       "50%     6.223232e+09  \n",
       "75%     6.223383e+09  \n",
       "max     6.223548e+09  "
      ]
     },
     "execution_count": 843,
     "metadata": {},
     "output_type": "execute_result"
    }
   ],
   "source": [
    "df.describe()"
   ]
  },
  {
   "cell_type": "code",
   "execution_count": 844,
   "metadata": {},
   "outputs": [
    {
     "data": {
      "text/plain": [
       "<matplotlib.axes._subplots.AxesSubplot at 0x20eff12b548>"
      ]
     },
     "execution_count": 844,
     "metadata": {},
     "output_type": "execute_result"
    },
    {
     "data": {
      "image/png": "[encoded data removed]",
      "text/plain": [
       "<Figure size 1728x720 with 3 Axes>"
      ]
     },
     "metadata": {
      "needs_background": "light"
     },
     "output_type": "display_data"
    }
   ],
   "source": [
    "mo.bar(df)"
   ]
  },
  {
   "cell_type": "code",
   "execution_count": 845,
   "metadata": {},
   "outputs": [
    {
     "data": {
      "text/plain": [
       "ID                 0\n",
       "acc_itn            0\n",
       "priority           0\n",
       "acct               0\n",
       "stp_dtime          0\n",
       "ord_for_dtime      0\n",
       "dept               0\n",
       "proc_no            0\n",
       "reason1          418\n",
       "cpt_code           4\n",
       "pt_adm_no_ext      0\n",
       "dtype: int64"
      ]
     },
     "execution_count": 845,
     "metadata": {},
     "output_type": "execute_result"
    }
   ],
   "source": [
    "df.isnull().sum()"
   ]
  },
  {
   "cell_type": "code",
   "execution_count": 846,
   "metadata": {},
   "outputs": [
    {
     "data": {
      "text/plain": [
       "ID                 int64\n",
       "acc_itn            int64\n",
       "priority          object\n",
       "acct               int64\n",
       "stp_dtime         object\n",
       "ord_for_dtime     object\n",
       "dept              object\n",
       "proc_no            int64\n",
       "reason1           object\n",
       "cpt_code         float64\n",
       "pt_adm_no_ext      int64\n",
       "dtype: object"
      ]
     },
     "execution_count": 846,
     "metadata": {},
     "output_type": "execute_result"
    }
   ],
   "source": [
    "df.dtypes"
   ]
  },
  {
   "cell_type": "code",
   "execution_count": 847,
   "metadata": {},
   "outputs": [
    {
     "data": {
      "text/plain": [
       "TIA                                         573\n",
       "Stroke                                      572\n",
       "Altered Level of Consciousness              222\n",
       "Dizziness                                   170\n",
       "Syncope                                     115\n",
       "                                           ... \n",
       "L elbow pain/edema                            1\n",
       "CELLULITIS LEFT FOREARM                       1\n",
       "RVOT PVCs                                     1\n",
       "posterior column dysfunction                  1\n",
       "mrcp -new diliation of the right intrahe      1\n",
       "Name: reason1, Length: 1423, dtype: int64"
      ]
     },
     "execution_count": 847,
     "metadata": {},
     "output_type": "execute_result"
    }
   ],
   "source": [
    "df.reason1.value_counts()"
   ]
  },
  {
   "cell_type": "code",
   "execution_count": 848,
   "metadata": {},
   "outputs": [
    {
     "data": {
      "text/plain": [
       "71489.08314039149"
      ]
     },
     "execution_count": 848,
     "metadata": {},
     "output_type": "execute_result"
    }
   ],
   "source": [
    "df.cpt_code.mean()"
   ]
  },
  {
   "cell_type": "code",
   "execution_count": 849,
   "metadata": {},
   "outputs": [
    {
     "data": {
      "text/plain": [
       "0    70551.0\n",
       "dtype: float64"
      ]
     },
     "execution_count": 849,
     "metadata": {},
     "output_type": "execute_result"
    }
   ],
   "source": [
    "df.cpt_code.mode()"
   ]
  },
  {
   "cell_type": "code",
   "execution_count": 850,
   "metadata": {},
   "outputs": [],
   "source": [
    "def mko(df):\n",
    "    mis_no = df.isnull().sum()/len(df) *100\n",
    "    c=df.isnull().sum()\n",
    "    miss_frame=pd.concat([c,mis_no],axis=1)\n",
    "    renamecol=miss_frame.rename(columns={0:\"Count\",1:\"Percentage\"})\n",
    "    renamecol=renamecol[renamecol[\"Count\"]!=0]\n",
    "    print (\"Your selected dataframe has \" + str(df.shape[1]) + \" columns.\\n\"      \n",
    "            \"There are \" + str(renamecol.shape[0]) +\n",
    "              \" columns that have missing values.\")\n",
    "    return renamecol.round(4)"
   ]
  },
  {
   "cell_type": "code",
   "execution_count": 851,
   "metadata": {},
   "outputs": [
    {
     "name": "stdout",
     "output_type": "stream",
     "text": [
      "Your selected dataframe has 11 columns.\n",
      "There are 2 columns that have missing values.\n"
     ]
    },
    {
     "data": {
      "text/html": [
       "<div>\n",
       "<style scoped>\n",
       "    .dataframe tbody tr th:only-of-type {\n",
       "        vertical-align: middle;\n",
       "    }\n",
       "\n",
       "    .dataframe tbody tr th {\n",
       "        vertical-align: top;\n",
       "    }\n",
       "\n",
       "    .dataframe thead th {\n",
       "        text-align: right;\n",
       "    }\n",
       "</style>\n",
       "<table border=\"1\" class=\"dataframe\">\n",
       "  <thead>\n",
       "    <tr style=\"text-align: right;\">\n",
       "      <th></th>\n",
       "      <th>Count</th>\n",
       "      <th>Percentage</th>\n",
       "    </tr>\n",
       "  </thead>\n",
       "  <tbody>\n",
       "    <tr>\n",
       "      <th>reason1</th>\n",
       "      <td>418</td>\n",
       "      <td>8.7907</td>\n",
       "    </tr>\n",
       "    <tr>\n",
       "      <th>cpt_code</th>\n",
       "      <td>4</td>\n",
       "      <td>0.0841</td>\n",
       "    </tr>\n",
       "  </tbody>\n",
       "</table>\n",
       "</div>"
      ],
      "text/plain": [
       "          Count  Percentage\n",
       "reason1     418      8.7907\n",
       "cpt_code      4      0.0841"
      ]
     },
     "execution_count": 851,
     "metadata": {},
     "output_type": "execute_result"
    }
   ],
   "source": [
    " mko(df)"
   ]
  },
  {
   "cell_type": "code",
   "execution_count": 852,
   "metadata": {},
   "outputs": [],
   "source": [
    "df.drop(columns=['reason1','ID'],axis=1,inplace=True)"
   ]
  },
  {
   "cell_type": "code",
   "execution_count": 853,
   "metadata": {},
   "outputs": [
    {
     "data": {
      "text/plain": [
       "Index(['acc_itn', 'priority', 'acct', 'stp_dtime', 'ord_for_dtime', 'dept',\n",
       "       'proc_no', 'cpt_code', 'pt_adm_no_ext'],\n",
       "      dtype='object')"
      ]
     },
     "execution_count": 853,
     "metadata": {},
     "output_type": "execute_result"
    }
   ],
   "source": [
    "df.columns"
   ]
  },
  {
   "cell_type": "code",
   "execution_count": 854,
   "metadata": {},
   "outputs": [],
   "source": [
    "#df['cpt_code']=df.fillna(df)\n",
    "df['cpt_code']=df['cpt_code'].fillna(df['cpt_code'].mode()[0])"
   ]
  },
  {
   "cell_type": "code",
   "execution_count": 855,
   "metadata": {},
   "outputs": [
    {
     "data": {
      "text/plain": [
       "<matplotlib.axes._subplots.AxesSubplot at 0x20eff6244c8>"
      ]
     },
     "execution_count": 855,
     "metadata": {},
     "output_type": "execute_result"
    },
    {
     "data": {
      "image/png": "[encoded data removed]",
      "text/plain": [
       "<Figure size 1728x720 with 3 Axes>"
      ]
     },
     "metadata": {
      "needs_background": "light"
     },
     "output_type": "display_data"
    }
   ],
   "source": [
    "mo.bar(df)"
   ]
  },
  {
   "cell_type": "code",
   "execution_count": 856,
   "metadata": {},
   "outputs": [
    {
     "name": "stdout",
     "output_type": "stream",
     "text": [
      "Your selected dataframe has 9 columns.\n",
      "There are 0 columns that have missing values.\n"
     ]
    },
    {
     "data": {
      "text/html": [
       "<div>\n",
       "<style scoped>\n",
       "    .dataframe tbody tr th:only-of-type {\n",
       "        vertical-align: middle;\n",
       "    }\n",
       "\n",
       "    .dataframe tbody tr th {\n",
       "        vertical-align: top;\n",
       "    }\n",
       "\n",
       "    .dataframe thead th {\n",
       "        text-align: right;\n",
       "    }\n",
       "</style>\n",
       "<table border=\"1\" class=\"dataframe\">\n",
       "  <thead>\n",
       "    <tr style=\"text-align: right;\">\n",
       "      <th></th>\n",
       "      <th>Count</th>\n",
       "      <th>Percentage</th>\n",
       "    </tr>\n",
       "  </thead>\n",
       "  <tbody>\n",
       "  </tbody>\n",
       "</table>\n",
       "</div>"
      ],
      "text/plain": [
       "Empty DataFrame\n",
       "Columns: [Count, Percentage]\n",
       "Index: []"
      ]
     },
     "execution_count": 856,
     "metadata": {},
     "output_type": "execute_result"
    }
   ],
   "source": [
    "mko(df)"
   ]
  },
  {
   "cell_type": "code",
   "execution_count": 857,
   "metadata": {},
   "outputs": [
    {
     "data": {
      "text/html": [
       "<div>\n",
       "<style scoped>\n",
       "    .dataframe tbody tr th:only-of-type {\n",
       "        vertical-align: middle;\n",
       "    }\n",
       "\n",
       "    .dataframe tbody tr th {\n",
       "        vertical-align: top;\n",
       "    }\n",
       "\n",
       "    .dataframe thead th {\n",
       "        text-align: right;\n",
       "    }\n",
       "</style>\n",
       "<table border=\"1\" class=\"dataframe\">\n",
       "  <thead>\n",
       "    <tr style=\"text-align: right;\">\n",
       "      <th></th>\n",
       "      <th>acc_itn</th>\n",
       "      <th>priority</th>\n",
       "      <th>acct</th>\n",
       "      <th>stp_dtime</th>\n",
       "      <th>ord_for_dtime</th>\n",
       "      <th>dept</th>\n",
       "      <th>proc_no</th>\n",
       "      <th>cpt_code</th>\n",
       "      <th>pt_adm_no_ext</th>\n",
       "    </tr>\n",
       "  </thead>\n",
       "  <tbody>\n",
       "    <tr>\n",
       "      <th>0</th>\n",
       "      <td>7231535</td>\n",
       "      <td>Routine</td>\n",
       "      <td>4004017060</td>\n",
       "      <td>12-04-2017 17:11</td>\n",
       "      <td>12-04-2017 01:56</td>\n",
       "      <td>MRI</td>\n",
       "      <td>1601</td>\n",
       "      <td>70543.0</td>\n",
       "      <td>4004017060</td>\n",
       "    </tr>\n",
       "    <tr>\n",
       "      <th>1</th>\n",
       "      <td>7231655</td>\n",
       "      <td>Routine</td>\n",
       "      <td>4004017134</td>\n",
       "      <td>13-04-2017 17:20</td>\n",
       "      <td>12-04-2017 08:06</td>\n",
       "      <td>MRI</td>\n",
       "      <td>1602</td>\n",
       "      <td>72197.0</td>\n",
       "      <td>4004017134</td>\n",
       "    </tr>\n",
       "    <tr>\n",
       "      <th>2</th>\n",
       "      <td>7231760</td>\n",
       "      <td>Routine</td>\n",
       "      <td>6223112189</td>\n",
       "      <td>12-04-2017 22:07</td>\n",
       "      <td>12-04-2017 09:26</td>\n",
       "      <td>MRI</td>\n",
       "      <td>1604</td>\n",
       "      <td>74183.0</td>\n",
       "      <td>6223112189</td>\n",
       "    </tr>\n",
       "    <tr>\n",
       "      <th>3</th>\n",
       "      <td>7231762</td>\n",
       "      <td>Routine</td>\n",
       "      <td>6223112302</td>\n",
       "      <td>12-04-2017 16:16</td>\n",
       "      <td>12-04-2017 09:32</td>\n",
       "      <td>MRI</td>\n",
       "      <td>1554</td>\n",
       "      <td>70553.0</td>\n",
       "      <td>6223112302</td>\n",
       "    </tr>\n",
       "    <tr>\n",
       "      <th>4</th>\n",
       "      <td>7231812</td>\n",
       "      <td>Routine</td>\n",
       "      <td>6223108688</td>\n",
       "      <td>12-04-2017 21:52</td>\n",
       "      <td>12-04-2017 09:59</td>\n",
       "      <td>MRI</td>\n",
       "      <td>447</td>\n",
       "      <td>70551.0</td>\n",
       "      <td>6223108688</td>\n",
       "    </tr>\n",
       "  </tbody>\n",
       "</table>\n",
       "</div>"
      ],
      "text/plain": [
       "   acc_itn  priority        acct         stp_dtime     ord_for_dtime dept  \\\n",
       "0  7231535  Routine   4004017060  12-04-2017 17:11  12-04-2017 01:56  MRI   \n",
       "1  7231655  Routine   4004017134  13-04-2017 17:20  12-04-2017 08:06  MRI   \n",
       "2  7231760  Routine   6223112189  12-04-2017 22:07  12-04-2017 09:26  MRI   \n",
       "3  7231762  Routine   6223112302  12-04-2017 16:16  12-04-2017 09:32  MRI   \n",
       "4  7231812  Routine   6223108688  12-04-2017 21:52  12-04-2017 09:59  MRI   \n",
       "\n",
       "   proc_no  cpt_code  pt_adm_no_ext  \n",
       "0     1601   70543.0     4004017060  \n",
       "1     1602   72197.0     4004017134  \n",
       "2     1604   74183.0     6223112189  \n",
       "3     1554   70553.0     6223112302  \n",
       "4      447   70551.0     6223108688  "
      ]
     },
     "execution_count": 857,
     "metadata": {},
     "output_type": "execute_result"
    }
   ],
   "source": [
    "df.head()"
   ]
  },
  {
   "cell_type": "code",
   "execution_count": 858,
   "metadata": {},
   "outputs": [
    {
     "data": {
      "text/plain": [
       "Routine     2803\n",
       "ROUTINE      548\n",
       "As soon      392\n",
       "SCHEDULE     347\n",
       "STAT         280\n",
       "Stat         197\n",
       "PRTY 1       116\n",
       "ASAP          60\n",
       "Schedule       6\n",
       "Neuro          2\n",
       "PRIOR 1        2\n",
       "Priority       1\n",
       "ASAP           1\n",
       "Name: priority, dtype: int64"
      ]
     },
     "execution_count": 858,
     "metadata": {},
     "output_type": "execute_result"
    }
   ],
   "source": [
    "df.priority.value_counts()"
   ]
  },
  {
   "cell_type": "code",
   "execution_count": 859,
   "metadata": {},
   "outputs": [],
   "source": [
    "import datetime\n",
    "#(df.ord_for_dtime-df.stp_dtime).astype('timedelta64[h]')\n",
    "df['ord_for_dtime'] =  pd.to_datetime(df['ord_for_dtime'] )\n",
    "df['stp_dtime'] =  pd.to_datetime(df['stp_dtime'] )"
   ]
  },
  {
   "cell_type": "code",
   "execution_count": 860,
   "metadata": {},
   "outputs": [
    {
     "data": {
      "text/html": [
       "<div>\n",
       "<style scoped>\n",
       "    .dataframe tbody tr th:only-of-type {\n",
       "        vertical-align: middle;\n",
       "    }\n",
       "\n",
       "    .dataframe tbody tr th {\n",
       "        vertical-align: top;\n",
       "    }\n",
       "\n",
       "    .dataframe thead th {\n",
       "        text-align: right;\n",
       "    }\n",
       "</style>\n",
       "<table border=\"1\" class=\"dataframe\">\n",
       "  <thead>\n",
       "    <tr style=\"text-align: right;\">\n",
       "      <th></th>\n",
       "      <th>acc_itn</th>\n",
       "      <th>priority</th>\n",
       "      <th>acct</th>\n",
       "      <th>stp_dtime</th>\n",
       "      <th>ord_for_dtime</th>\n",
       "      <th>dept</th>\n",
       "      <th>proc_no</th>\n",
       "      <th>cpt_code</th>\n",
       "      <th>pt_adm_no_ext</th>\n",
       "    </tr>\n",
       "  </thead>\n",
       "  <tbody>\n",
       "    <tr>\n",
       "      <th>0</th>\n",
       "      <td>7231535</td>\n",
       "      <td>Routine</td>\n",
       "      <td>4004017060</td>\n",
       "      <td>2017-12-04 17:11:00</td>\n",
       "      <td>2017-12-04 01:56:00</td>\n",
       "      <td>MRI</td>\n",
       "      <td>1601</td>\n",
       "      <td>70543.0</td>\n",
       "      <td>4004017060</td>\n",
       "    </tr>\n",
       "    <tr>\n",
       "      <th>1</th>\n",
       "      <td>7231655</td>\n",
       "      <td>Routine</td>\n",
       "      <td>4004017134</td>\n",
       "      <td>2017-04-13 17:20:00</td>\n",
       "      <td>2017-12-04 08:06:00</td>\n",
       "      <td>MRI</td>\n",
       "      <td>1602</td>\n",
       "      <td>72197.0</td>\n",
       "      <td>4004017134</td>\n",
       "    </tr>\n",
       "    <tr>\n",
       "      <th>2</th>\n",
       "      <td>7231760</td>\n",
       "      <td>Routine</td>\n",
       "      <td>6223112189</td>\n",
       "      <td>2017-12-04 22:07:00</td>\n",
       "      <td>2017-12-04 09:26:00</td>\n",
       "      <td>MRI</td>\n",
       "      <td>1604</td>\n",
       "      <td>74183.0</td>\n",
       "      <td>6223112189</td>\n",
       "    </tr>\n",
       "    <tr>\n",
       "      <th>3</th>\n",
       "      <td>7231762</td>\n",
       "      <td>Routine</td>\n",
       "      <td>6223112302</td>\n",
       "      <td>2017-12-04 16:16:00</td>\n",
       "      <td>2017-12-04 09:32:00</td>\n",
       "      <td>MRI</td>\n",
       "      <td>1554</td>\n",
       "      <td>70553.0</td>\n",
       "      <td>6223112302</td>\n",
       "    </tr>\n",
       "    <tr>\n",
       "      <th>4</th>\n",
       "      <td>7231812</td>\n",
       "      <td>Routine</td>\n",
       "      <td>6223108688</td>\n",
       "      <td>2017-12-04 21:52:00</td>\n",
       "      <td>2017-12-04 09:59:00</td>\n",
       "      <td>MRI</td>\n",
       "      <td>447</td>\n",
       "      <td>70551.0</td>\n",
       "      <td>6223108688</td>\n",
       "    </tr>\n",
       "  </tbody>\n",
       "</table>\n",
       "</div>"
      ],
      "text/plain": [
       "   acc_itn  priority        acct           stp_dtime       ord_for_dtime dept  \\\n",
       "0  7231535  Routine   4004017060 2017-12-04 17:11:00 2017-12-04 01:56:00  MRI   \n",
       "1  7231655  Routine   4004017134 2017-04-13 17:20:00 2017-12-04 08:06:00  MRI   \n",
       "2  7231760  Routine   6223112189 2017-12-04 22:07:00 2017-12-04 09:26:00  MRI   \n",
       "3  7231762  Routine   6223112302 2017-12-04 16:16:00 2017-12-04 09:32:00  MRI   \n",
       "4  7231812  Routine   6223108688 2017-12-04 21:52:00 2017-12-04 09:59:00  MRI   \n",
       "\n",
       "   proc_no  cpt_code  pt_adm_no_ext  \n",
       "0     1601   70543.0     4004017060  \n",
       "1     1602   72197.0     4004017134  \n",
       "2     1604   74183.0     6223112189  \n",
       "3     1554   70553.0     6223112302  \n",
       "4      447   70551.0     6223108688  "
      ]
     },
     "execution_count": 860,
     "metadata": {},
     "output_type": "execute_result"
    }
   ],
   "source": [
    "df.head()"
   ]
  },
  {
   "cell_type": "code",
   "execution_count": 861,
   "metadata": {},
   "outputs": [
    {
     "data": {
      "text/plain": [
       "acc_itn                   int64\n",
       "priority                 object\n",
       "acct                      int64\n",
       "stp_dtime        datetime64[ns]\n",
       "ord_for_dtime    datetime64[ns]\n",
       "dept                     object\n",
       "proc_no                   int64\n",
       "cpt_code                float64\n",
       "pt_adm_no_ext             int64\n",
       "dtype: object"
      ]
     },
     "execution_count": 861,
     "metadata": {},
     "output_type": "execute_result"
    }
   ],
   "source": [
    "df.dtypes"
   ]
  },
  {
   "cell_type": "code",
   "execution_count": 862,
   "metadata": {},
   "outputs": [],
   "source": [
    "df['duration']=(df.stp_dtime-df.ord_for_dtime).astype('timedelta64[m]')"
   ]
  },
  {
   "cell_type": "code",
   "execution_count": 863,
   "metadata": {},
   "outputs": [
    {
     "data": {
      "text/html": [
       "<div>\n",
       "<style scoped>\n",
       "    .dataframe tbody tr th:only-of-type {\n",
       "        vertical-align: middle;\n",
       "    }\n",
       "\n",
       "    .dataframe tbody tr th {\n",
       "        vertical-align: top;\n",
       "    }\n",
       "\n",
       "    .dataframe thead th {\n",
       "        text-align: right;\n",
       "    }\n",
       "</style>\n",
       "<table border=\"1\" class=\"dataframe\">\n",
       "  <thead>\n",
       "    <tr style=\"text-align: right;\">\n",
       "      <th></th>\n",
       "      <th>acc_itn</th>\n",
       "      <th>priority</th>\n",
       "      <th>acct</th>\n",
       "      <th>stp_dtime</th>\n",
       "      <th>ord_for_dtime</th>\n",
       "      <th>dept</th>\n",
       "      <th>proc_no</th>\n",
       "      <th>cpt_code</th>\n",
       "      <th>pt_adm_no_ext</th>\n",
       "      <th>duration</th>\n",
       "    </tr>\n",
       "  </thead>\n",
       "  <tbody>\n",
       "    <tr>\n",
       "      <th>0</th>\n",
       "      <td>7231535</td>\n",
       "      <td>Routine</td>\n",
       "      <td>4004017060</td>\n",
       "      <td>2017-12-04 17:11:00</td>\n",
       "      <td>2017-12-04 01:56:00</td>\n",
       "      <td>MRI</td>\n",
       "      <td>1601</td>\n",
       "      <td>70543.0</td>\n",
       "      <td>4004017060</td>\n",
       "      <td>915.0</td>\n",
       "    </tr>\n",
       "    <tr>\n",
       "      <th>1</th>\n",
       "      <td>7231655</td>\n",
       "      <td>Routine</td>\n",
       "      <td>4004017134</td>\n",
       "      <td>2017-04-13 17:20:00</td>\n",
       "      <td>2017-12-04 08:06:00</td>\n",
       "      <td>MRI</td>\n",
       "      <td>1602</td>\n",
       "      <td>72197.0</td>\n",
       "      <td>4004017134</td>\n",
       "      <td>-337846.0</td>\n",
       "    </tr>\n",
       "    <tr>\n",
       "      <th>2</th>\n",
       "      <td>7231760</td>\n",
       "      <td>Routine</td>\n",
       "      <td>6223112189</td>\n",
       "      <td>2017-12-04 22:07:00</td>\n",
       "      <td>2017-12-04 09:26:00</td>\n",
       "      <td>MRI</td>\n",
       "      <td>1604</td>\n",
       "      <td>74183.0</td>\n",
       "      <td>6223112189</td>\n",
       "      <td>761.0</td>\n",
       "    </tr>\n",
       "    <tr>\n",
       "      <th>3</th>\n",
       "      <td>7231762</td>\n",
       "      <td>Routine</td>\n",
       "      <td>6223112302</td>\n",
       "      <td>2017-12-04 16:16:00</td>\n",
       "      <td>2017-12-04 09:32:00</td>\n",
       "      <td>MRI</td>\n",
       "      <td>1554</td>\n",
       "      <td>70553.0</td>\n",
       "      <td>6223112302</td>\n",
       "      <td>404.0</td>\n",
       "    </tr>\n",
       "    <tr>\n",
       "      <th>4</th>\n",
       "      <td>7231812</td>\n",
       "      <td>Routine</td>\n",
       "      <td>6223108688</td>\n",
       "      <td>2017-12-04 21:52:00</td>\n",
       "      <td>2017-12-04 09:59:00</td>\n",
       "      <td>MRI</td>\n",
       "      <td>447</td>\n",
       "      <td>70551.0</td>\n",
       "      <td>6223108688</td>\n",
       "      <td>713.0</td>\n",
       "    </tr>\n",
       "  </tbody>\n",
       "</table>\n",
       "</div>"
      ],
      "text/plain": [
       "   acc_itn  priority        acct           stp_dtime       ord_for_dtime dept  \\\n",
       "0  7231535  Routine   4004017060 2017-12-04 17:11:00 2017-12-04 01:56:00  MRI   \n",
       "1  7231655  Routine   4004017134 2017-04-13 17:20:00 2017-12-04 08:06:00  MRI   \n",
       "2  7231760  Routine   6223112189 2017-12-04 22:07:00 2017-12-04 09:26:00  MRI   \n",
       "3  7231762  Routine   6223112302 2017-12-04 16:16:00 2017-12-04 09:32:00  MRI   \n",
       "4  7231812  Routine   6223108688 2017-12-04 21:52:00 2017-12-04 09:59:00  MRI   \n",
       "\n",
       "   proc_no  cpt_code  pt_adm_no_ext  duration  \n",
       "0     1601   70543.0     4004017060     915.0  \n",
       "1     1602   72197.0     4004017134 -337846.0  \n",
       "2     1604   74183.0     6223112189     761.0  \n",
       "3     1554   70553.0     6223112302     404.0  \n",
       "4      447   70551.0     6223108688     713.0  "
      ]
     },
     "execution_count": 863,
     "metadata": {},
     "output_type": "execute_result"
    }
   ],
   "source": [
    "df.head()"
   ]
  },
  {
   "cell_type": "code",
   "execution_count": 864,
   "metadata": {},
   "outputs": [],
   "source": [
    "df['duration']=abs(df['duration'])"
   ]
  },
  {
   "cell_type": "code",
   "execution_count": 865,
   "metadata": {},
   "outputs": [],
   "source": [
    "import dtale"
   ]
  },
  {
   "cell_type": "code",
   "execution_count": 866,
   "metadata": {},
   "outputs": [
    {
     "name": "stdout",
     "output_type": "stream",
     "text": [
      "http://LAPTOP-L8V33E5K:40000/dtale/main/1\n",
      "It looks like this data may have already been loaded to D-Tale based on shape and column names. Here is URL of the data that seems to match it:\n",
      "\n",
      "None\n",
      "\n",
      "If you still want to load this data please use the following command:\n",
      "\n",
      "dtale.show(df, ignore_duplicate=True)\n"
     ]
    }
   ],
   "source": [
    "d=dtale.show(df)"
   ]
  },
  {
   "cell_type": "code",
   "execution_count": 867,
   "metadata": {},
   "outputs": [],
   "source": [
    "d"
   ]
  },
  {
   "cell_type": "code",
   "execution_count": null,
   "metadata": {},
   "outputs": [],
   "source": []
  },
  {
   "cell_type": "code",
   "execution_count": 868,
   "metadata": {},
   "outputs": [],
   "source": [
    "import pandas as pd\n",
    "\n",
    "if isinstance(df, (pd.DatetimeIndex, pd.MultiIndex)):\n",
    "\tdf = df.to_frame(index=False)\n",
    "\n",
    "# remove any pre-existing indices for ease of use in the D-Tale code, but this is not required\n",
    "df = df.reset_index().drop('index', axis=1, errors='ignore')\n",
    "df.columns = [str(c) for c in df.columns]  # update columns to strings in case they are numbers\n",
    "\n",
    "chart_data = pd.concat([\n",
    "\tdf['priority'],\n",
    "\tdf['duration'],\n",
    "], axis=1)\n",
    "chart_data = chart_data.sort_values(['priority'])\n",
    "chart_data = chart_data.rename(columns={'priority': 'x'})\n",
    "chart_data = chart_data.groupby(['x'])[['duration']].mean().reset_index()\n",
    "chart_data = chart_data.dropna()\n",
    "\n",
    "import plotly.graph_objs as go\n",
    "\n",
    "charts = []\n",
    "charts.append(go.Bar(\n",
    "x=chart_data['x'],\n",
    "y=chart_data['duration']\n",
    "))\n",
    "figure = go.Figure(data=charts, layout=go.Layout({\n",
    "    'barmode': 'group',\n",
    "    'legend': {'orientation': 'h'},\n",
    "    'title': {'text': 'duration by priority (Mean) in Minutes'},\n",
    "    'xaxis': {'title': {'text': 'priority'}},\n",
    "    'yaxis': {'title': {'text': 'duration (Minutes)'}}\n",
    "}))"
   ]
  },
  {
   "cell_type": "code",
   "execution_count": 869,
   "metadata": {},
   "outputs": [
    {
     "data": {
      "application/vnd.plotly.v1+json": {
       "config": {
        "plotlyServerURL": "https://plot.ly"
       },
       "data": [
        {
         "type": "bar",
         "x": [
          "ASAP",
          "ASAP    ",
          "As soon ",
          "Neuro   ",
          "PRIOR 1 ",
          "PRTY 1  ",
          "Priority",
          "ROUTINE ",
          "Routine ",
          "SCHEDULE",
          "STAT    ",
          "Schedule",
          "Stat    "
         ],
         "y": [
          799,
          26040.1,
          16278.237244897959,
          740.5,
          88.5,
          1247.75,
          65,
          20801.963503649637,
          24121.211202283266,
          14947.50144092219,
          11623.85,
          7966.166666666667,
          5209.370558375635
         ]
        }
       ],
       "layout": {
        "barmode": "group",
        "legend": {
         "orientation": "h"
        },
        "template": {
         "data": {
          "bar": [
           {
            "error_x": {
             "color": "#2a3f5f"
            },
            "error_y": {
             "color": "#2a3f5f"
            },
            "marker": {
             "line": {
              "color": "#E5ECF6",
              "width": 0.5
             }
            },
            "type": "bar"
           }
          ],
          "barpolar": [
           {
            "marker": {
             "line": {
              "color": "#E5ECF6",
              "width": 0.5
             }
            },
            "type": "barpolar"
           }
          ],
          "carpet": [
           {
            "aaxis": {
             "endlinecolor": "#2a3f5f",
             "gridcolor": "white",
             "linecolor": "white",
             "minorgridcolor": "white",
             "startlinecolor": "#2a3f5f"
            },
            "baxis": {
             "endlinecolor": "#2a3f5f",
             "gridcolor": "white",
             "linecolor": "white",
             "minorgridcolor": "white",
             "startlinecolor": "#2a3f5f"
            },
            "type": "carpet"
           }
          ],
          "choropleth": [
           {
            "colorbar": {
             "outlinewidth": 0,
             "ticks": ""
            },
            "type": "choropleth"
           }
          ],
          "contour": [
           {
            "colorbar": {
             "outlinewidth": 0,
             "ticks": ""
            },
            "colorscale": [
             [
              0,
              "#0d0887"
             ],
             [
              0.1111111111111111,
              "#46039f"
             ],
             [
              0.2222222222222222,
              "#7201a8"
             ],
             [
              0.3333333333333333,
              "#9c179e"
             ],
             [
              0.4444444444444444,
              "#bd3786"
             ],
             [
              0.5555555555555556,
              "#d8576b"
             ],
             [
              0.6666666666666666,
              "#ed7953"
             ],
             [
              0.7777777777777778,
              "#fb9f3a"
             ],
             [
              0.8888888888888888,
              "#fdca26"
             ],
             [
              1,
              "#f0f921"
             ]
            ],
            "type": "contour"
           }
          ],
          "contourcarpet": [
           {
            "colorbar": {
             "outlinewidth": 0,
             "ticks": ""
            },
            "type": "contourcarpet"
           }
          ],
          "heatmap": [
           {
            "colorbar": {
             "outlinewidth": 0,
             "ticks": ""
            },
            "colorscale": [
             [
              0,
              "#0d0887"
             ],
             [
              0.1111111111111111,
              "#46039f"
             ],
             [
              0.2222222222222222,
              "#7201a8"
             ],
             [
              0.3333333333333333,
              "#9c179e"
             ],
             [
              0.4444444444444444,
              "#bd3786"
             ],
             [
              0.5555555555555556,
              "#d8576b"
             ],
             [
              0.6666666666666666,
              "#ed7953"
             ],
             [
              0.7777777777777778,
              "#fb9f3a"
             ],
             [
              0.8888888888888888,
              "#fdca26"
             ],
             [
              1,
              "#f0f921"
             ]
            ],
            "type": "heatmap"
           }
          ],
          "heatmapgl": [
           {
            "colorbar": {
             "outlinewidth": 0,
             "ticks": ""
            },
            "colorscale": [
             [
              0,
              "#0d0887"
             ],
             [
              0.1111111111111111,
              "#46039f"
             ],
             [
              0.2222222222222222,
              "#7201a8"
             ],
             [
              0.3333333333333333,
              "#9c179e"
             ],
             [
              0.4444444444444444,
              "#bd3786"
             ],
             [
              0.5555555555555556,
              "#d8576b"
             ],
             [
              0.6666666666666666,
              "#ed7953"
             ],
             [
              0.7777777777777778,
              "#fb9f3a"
             ],
             [
              0.8888888888888888,
              "#fdca26"
             ],
             [
              1,
              "#f0f921"
             ]
            ],
            "type": "heatmapgl"
           }
          ],
          "histogram": [
           {
            "marker": {
             "colorbar": {
              "outlinewidth": 0,
              "ticks": ""
             }
            },
            "type": "histogram"
           }
          ],
          "histogram2d": [
           {
            "colorbar": {
             "outlinewidth": 0,
             "ticks": ""
            },
            "colorscale": [
             [
              0,
              "#0d0887"
             ],
             [
              0.1111111111111111,
              "#46039f"
             ],
             [
              0.2222222222222222,
              "#7201a8"
             ],
             [
              0.3333333333333333,
              "#9c179e"
             ],
             [
              0.4444444444444444,
              "#bd3786"
             ],
             [
              0.5555555555555556,
              "#d8576b"
             ],
             [
              0.6666666666666666,
              "#ed7953"
             ],
             [
              0.7777777777777778,
              "#fb9f3a"
             ],
             [
              0.8888888888888888,
              "#fdca26"
             ],
             [
              1,
              "#f0f921"
             ]
            ],
            "type": "histogram2d"
           }
          ],
          "histogram2dcontour": [
           {
            "colorbar": {
             "outlinewidth": 0,
             "ticks": ""
            },
            "colorscale": [
             [
              0,
              "#0d0887"
             ],
             [
              0.1111111111111111,
              "#46039f"
             ],
             [
              0.2222222222222222,
              "#7201a8"
             ],
             [
              0.3333333333333333,
              "#9c179e"
             ],
             [
              0.4444444444444444,
              "#bd3786"
             ],
             [
              0.5555555555555556,
              "#d8576b"
             ],
             [
              0.6666666666666666,
              "#ed7953"
             ],
             [
              0.7777777777777778,
              "#fb9f3a"
             ],
             [
              0.8888888888888888,
              "#fdca26"
             ],
             [
              1,
              "#f0f921"
             ]
            ],
            "type": "histogram2dcontour"
           }
          ],
          "mesh3d": [
           {
            "colorbar": {
             "outlinewidth": 0,
             "ticks": ""
            },
            "type": "mesh3d"
           }
          ],
          "parcoords": [
           {
            "line": {
             "colorbar": {
              "outlinewidth": 0,
              "ticks": ""
             }
            },
            "type": "parcoords"
           }
          ],
          "pie": [
           {
            "automargin": true,
            "type": "pie"
           }
          ],
          "scatter": [
           {
            "marker": {
             "colorbar": {
              "outlinewidth": 0,
              "ticks": ""
             }
            },
            "type": "scatter"
           }
          ],
          "scatter3d": [
           {
            "line": {
             "colorbar": {
              "outlinewidth": 0,
              "ticks": ""
             }
            },
            "marker": {
             "colorbar": {
              "outlinewidth": 0,
              "ticks": ""
             }
            },
            "type": "scatter3d"
           }
          ],
          "scattercarpet": [
           {
            "marker": {
             "colorbar": {
              "outlinewidth": 0,
              "ticks": ""
             }
            },
            "type": "scattercarpet"
           }
          ],
          "scattergeo": [
           {
            "marker": {
             "colorbar": {
              "outlinewidth": 0,
              "ticks": ""
             }
            },
            "type": "scattergeo"
           }
          ],
          "scattergl": [
           {
            "marker": {
             "colorbar": {
              "outlinewidth": 0,
              "ticks": ""
             }
            },
            "type": "scattergl"
           }
          ],
          "scattermapbox": [
           {
            "marker": {
             "colorbar": {
              "outlinewidth": 0,
              "ticks": ""
             }
            },
            "type": "scattermapbox"
           }
          ],
          "scatterpolar": [
           {
            "marker": {
             "colorbar": {
              "outlinewidth": 0,
              "ticks": ""
             }
            },
            "type": "scatterpolar"
           }
          ],
          "scatterpolargl": [
           {
            "marker": {
             "colorbar": {
              "outlinewidth": 0,
              "ticks": ""
             }
            },
            "type": "scatterpolargl"
           }
          ],
          "scatterternary": [
           {
            "marker": {
             "colorbar": {
              "outlinewidth": 0,
              "ticks": ""
             }
            },
            "type": "scatterternary"
           }
          ],
          "surface": [
           {
            "colorbar": {
             "outlinewidth": 0,
             "ticks": ""
            },
            "colorscale": [
             [
              0,
              "#0d0887"
             ],
             [
              0.1111111111111111,
              "#46039f"
             ],
             [
              0.2222222222222222,
              "#7201a8"
             ],
             [
              0.3333333333333333,
              "#9c179e"
             ],
             [
              0.4444444444444444,
              "#bd3786"
             ],
             [
              0.5555555555555556,
              "#d8576b"
             ],
             [
              0.6666666666666666,
              "#ed7953"
             ],
             [
              0.7777777777777778,
              "#fb9f3a"
             ],
             [
              0.8888888888888888,
              "#fdca26"
             ],
             [
              1,
              "#f0f921"
             ]
            ],
            "type": "surface"
           }
          ],
          "table": [
           {
            "cells": {
             "fill": {
              "color": "#EBF0F8"
             },
             "line": {
              "color": "white"
             }
            },
            "header": {
             "fill": {
              "color": "#C8D4E3"
             },
             "line": {
              "color": "white"
             }
            },
            "type": "table"
           }
          ]
         },
         "layout": {
          "annotationdefaults": {
           "arrowcolor": "#2a3f5f",
           "arrowhead": 0,
           "arrowwidth": 1
          },
          "coloraxis": {
           "colorbar": {
            "outlinewidth": 0,
            "ticks": ""
           }
          },
          "colorscale": {
           "diverging": [
            [
             0,
             "#8e0152"
            ],
            [
             0.1,
             "#c51b7d"
            ],
            [
             0.2,
             "#de77ae"
            ],
            [
             0.3,
             "#f1b6da"
            ],
            [
             0.4,
             "#fde0ef"
            ],
            [
             0.5,
             "#f7f7f7"
            ],
            [
             0.6,
             "#e6f5d0"
            ],
            [
             0.7,
             "#b8e186"
            ],
            [
             0.8,
             "#7fbc41"
            ],
            [
             0.9,
             "#4d9221"
            ],
            [
             1,
             "#276419"
            ]
           ],
           "sequential": [
            [
             0,
             "#0d0887"
            ],
            [
             0.1111111111111111,
             "#46039f"
            ],
            [
             0.2222222222222222,
             "#7201a8"
            ],
            [
             0.3333333333333333,
             "#9c179e"
            ],
            [
             0.4444444444444444,
             "#bd3786"
            ],
            [
             0.5555555555555556,
             "#d8576b"
            ],
            [
             0.6666666666666666,
             "#ed7953"
            ],
            [
             0.7777777777777778,
             "#fb9f3a"
            ],
            [
             0.8888888888888888,
             "#fdca26"
            ],
            [
             1,
             "#f0f921"
            ]
           ],
           "sequentialminus": [
            [
             0,
             "#0d0887"
            ],
            [
             0.1111111111111111,
             "#46039f"
            ],
            [
             0.2222222222222222,
             "#7201a8"
            ],
            [
             0.3333333333333333,
             "#9c179e"
            ],
            [
             0.4444444444444444,
             "#bd3786"
            ],
            [
             0.5555555555555556,
             "#d8576b"
            ],
            [
             0.6666666666666666,
             "#ed7953"
            ],
            [
             0.7777777777777778,
             "#fb9f3a"
            ],
            [
             0.8888888888888888,
             "#fdca26"
            ],
            [
             1,
             "#f0f921"
            ]
           ]
          },
          "colorway": [
           "#636efa",
           "#EF553B",
           "#00cc96",
           "#ab63fa",
           "#FFA15A",
           "#19d3f3",
           "#FF6692",
           "#B6E880",
           "#FF97FF",
           "#FECB52"
          ],
          "font": {
           "color": "#2a3f5f"
          },
          "geo": {
           "bgcolor": "white",
           "lakecolor": "white",
           "landcolor": "#E5ECF6",
           "showlakes": true,
           "showland": true,
           "subunitcolor": "white"
          },
          "hoverlabel": {
           "align": "left"
          },
          "hovermode": "closest",
          "mapbox": {
           "style": "light"
          },
          "paper_bgcolor": "white",
          "plot_bgcolor": "#E5ECF6",
          "polar": {
           "angularaxis": {
            "gridcolor": "white",
            "linecolor": "white",
            "ticks": ""
           },
           "bgcolor": "#E5ECF6",
           "radialaxis": {
            "gridcolor": "white",
            "linecolor": "white",
            "ticks": ""
           }
          },
          "scene": {
           "xaxis": {
            "backgroundcolor": "#E5ECF6",
            "gridcolor": "white",
            "gridwidth": 2,
            "linecolor": "white",
            "showbackground": true,
            "ticks": "",
            "zerolinecolor": "white"
           },
           "yaxis": {
            "backgroundcolor": "#E5ECF6",
            "gridcolor": "white",
            "gridwidth": 2,
            "linecolor": "white",
            "showbackground": true,
            "ticks": "",
            "zerolinecolor": "white"
           },
           "zaxis": {
            "backgroundcolor": "#E5ECF6",
            "gridcolor": "white",
            "gridwidth": 2,
            "linecolor": "white",
            "showbackground": true,
            "ticks": "",
            "zerolinecolor": "white"
           }
          },
          "shapedefaults": {
           "line": {
            "color": "#2a3f5f"
           }
          },
          "ternary": {
           "aaxis": {
            "gridcolor": "white",
            "linecolor": "white",
            "ticks": ""
           },
           "baxis": {
            "gridcolor": "white",
            "linecolor": "white",
            "ticks": ""
           },
           "bgcolor": "#E5ECF6",
           "caxis": {
            "gridcolor": "white",
            "linecolor": "white",
            "ticks": ""
           }
          },
          "title": {
           "x": 0.05
          },
          "xaxis": {
           "automargin": true,
           "gridcolor": "white",
           "linecolor": "white",
           "ticks": "",
           "title": {
            "standoff": 15
           },
           "zerolinecolor": "white",
           "zerolinewidth": 2
          },
          "yaxis": {
           "automargin": true,
           "gridcolor": "white",
           "linecolor": "white",
           "ticks": "",
           "title": {
            "standoff": 15
           },
           "zerolinecolor": "white",
           "zerolinewidth": 2
          }
         }
        },
        "title": {
         "text": "duration by priority (Mean) in Minutes"
        },
        "xaxis": {
         "title": {
          "text": "priority"
         }
        },
        "yaxis": {
         "title": {
          "text": "duration (Minutes)"
         }
        }
       }
      },
      "text/html": [
       "<div>\n",
       "        \n",
       "        \n",
       "            <div id=\"fc93282b-3668-468d-9e0e-10d907ef234c\" class=\"plotly-graph-div\" style=\"height:525px; width:100%;\"></div>\n",
       "            <script type=\"text/javascript\">\n",
       "                require([\"plotly\"], function(Plotly) {\n",
       "                    window.PLOTLYENV=window.PLOTLYENV || {};\n",
       "                    \n",
       "                if (document.getElementById(\"fc93282b-3668-468d-9e0e-10d907ef234c\")) {\n",
       "                    Plotly.newPlot(\n",
       "                        'fc93282b-3668-468d-9e0e-10d907ef234c',\n",
       "                        [{\"type\": \"bar\", \"x\": [\"ASAP\", \"ASAP    \", \"As soon \", \"Neuro   \", \"PRIOR 1 \", \"PRTY 1  \", \"Priority\", \"ROUTINE \", \"Routine \", \"SCHEDULE\", \"STAT    \", \"Schedule\", \"Stat    \"], \"y\": [799.0, 26040.1, 16278.237244897959, 740.5, 88.5, 1247.75, 65.0, 20801.963503649637, 24121.211202283266, 14947.50144092219, 11623.85, 7966.166666666667, 5209.370558375635]}],\n",
       "                        {\"barmode\": \"group\", \"legend\": {\"orientation\": \"h\"}, \"template\": {\"data\": {\"bar\": [{\"error_x\": {\"color\": \"#2a3f5f\"}, \"error_y\": {\"color\": \"#2a3f5f\"}, \"marker\": {\"line\": {\"color\": \"#E5ECF6\", \"width\": 0.5}}, \"type\": \"bar\"}], \"barpolar\": [{\"marker\": {\"line\": {\"color\": \"#E5ECF6\", \"width\": 0.5}}, \"type\": \"barpolar\"}], \"carpet\": [{\"aaxis\": {\"endlinecolor\": \"#2a3f5f\", \"gridcolor\": \"white\", \"linecolor\": \"white\", \"minorgridcolor\": \"white\", \"startlinecolor\": \"#2a3f5f\"}, \"baxis\": {\"endlinecolor\": \"#2a3f5f\", \"gridcolor\": \"white\", \"linecolor\": \"white\", \"minorgridcolor\": \"white\", \"startlinecolor\": \"#2a3f5f\"}, \"type\": \"carpet\"}], \"choropleth\": [{\"colorbar\": {\"outlinewidth\": 0, \"ticks\": \"\"}, \"type\": \"choropleth\"}], \"contour\": [{\"colorbar\": {\"outlinewidth\": 0, \"ticks\": \"\"}, \"colorscale\": [[0.0, \"#0d0887\"], [0.1111111111111111, \"#46039f\"], [0.2222222222222222, \"#7201a8\"], [0.3333333333333333, \"#9c179e\"], [0.4444444444444444, \"#bd3786\"], [0.5555555555555556, \"#d8576b\"], [0.6666666666666666, \"#ed7953\"], [0.7777777777777778, \"#fb9f3a\"], [0.8888888888888888, \"#fdca26\"], [1.0, \"#f0f921\"]], \"type\": \"contour\"}], \"contourcarpet\": [{\"colorbar\": {\"outlinewidth\": 0, \"ticks\": \"\"}, \"type\": \"contourcarpet\"}], \"heatmap\": [{\"colorbar\": {\"outlinewidth\": 0, \"ticks\": \"\"}, \"colorscale\": [[0.0, \"#0d0887\"], [0.1111111111111111, \"#46039f\"], [0.2222222222222222, \"#7201a8\"], [0.3333333333333333, \"#9c179e\"], [0.4444444444444444, \"#bd3786\"], [0.5555555555555556, \"#d8576b\"], [0.6666666666666666, \"#ed7953\"], [0.7777777777777778, \"#fb9f3a\"], [0.8888888888888888, \"#fdca26\"], [1.0, \"#f0f921\"]], \"type\": \"heatmap\"}], \"heatmapgl\": [{\"colorbar\": {\"outlinewidth\": 0, \"ticks\": \"\"}, \"colorscale\": [[0.0, \"#0d0887\"], [0.1111111111111111, \"#46039f\"], [0.2222222222222222, \"#7201a8\"], [0.3333333333333333, \"#9c179e\"], [0.4444444444444444, \"#bd3786\"], [0.5555555555555556, \"#d8576b\"], [0.6666666666666666, \"#ed7953\"], [0.7777777777777778, \"#fb9f3a\"], [0.8888888888888888, \"#fdca26\"], [1.0, \"#f0f921\"]], \"type\": \"heatmapgl\"}], \"histogram\": [{\"marker\": {\"colorbar\": {\"outlinewidth\": 0, \"ticks\": \"\"}}, \"type\": \"histogram\"}], \"histogram2d\": [{\"colorbar\": {\"outlinewidth\": 0, \"ticks\": \"\"}, \"colorscale\": [[0.0, \"#0d0887\"], [0.1111111111111111, \"#46039f\"], [0.2222222222222222, \"#7201a8\"], [0.3333333333333333, \"#9c179e\"], [0.4444444444444444, \"#bd3786\"], [0.5555555555555556, \"#d8576b\"], [0.6666666666666666, \"#ed7953\"], [0.7777777777777778, \"#fb9f3a\"], [0.8888888888888888, \"#fdca26\"], [1.0, \"#f0f921\"]], \"type\": \"histogram2d\"}], \"histogram2dcontour\": [{\"colorbar\": {\"outlinewidth\": 0, \"ticks\": \"\"}, \"colorscale\": [[0.0, \"#0d0887\"], [0.1111111111111111, \"#46039f\"], [0.2222222222222222, \"#7201a8\"], [0.3333333333333333, \"#9c179e\"], [0.4444444444444444, \"#bd3786\"], [0.5555555555555556, \"#d8576b\"], [0.6666666666666666, \"#ed7953\"], [0.7777777777777778, \"#fb9f3a\"], [0.8888888888888888, \"#fdca26\"], [1.0, \"#f0f921\"]], \"type\": \"histogram2dcontour\"}], \"mesh3d\": [{\"colorbar\": {\"outlinewidth\": 0, \"ticks\": \"\"}, \"type\": \"mesh3d\"}], \"parcoords\": [{\"line\": {\"colorbar\": {\"outlinewidth\": 0, \"ticks\": \"\"}}, \"type\": \"parcoords\"}], \"pie\": [{\"automargin\": true, \"type\": \"pie\"}], \"scatter\": [{\"marker\": {\"colorbar\": {\"outlinewidth\": 0, \"ticks\": \"\"}}, \"type\": \"scatter\"}], \"scatter3d\": [{\"line\": {\"colorbar\": {\"outlinewidth\": 0, \"ticks\": \"\"}}, \"marker\": {\"colorbar\": {\"outlinewidth\": 0, \"ticks\": \"\"}}, \"type\": \"scatter3d\"}], \"scattercarpet\": [{\"marker\": {\"colorbar\": {\"outlinewidth\": 0, \"ticks\": \"\"}}, \"type\": \"scattercarpet\"}], \"scattergeo\": [{\"marker\": {\"colorbar\": {\"outlinewidth\": 0, \"ticks\": \"\"}}, \"type\": \"scattergeo\"}], \"scattergl\": [{\"marker\": {\"colorbar\": {\"outlinewidth\": 0, \"ticks\": \"\"}}, \"type\": \"scattergl\"}], \"scattermapbox\": [{\"marker\": {\"colorbar\": {\"outlinewidth\": 0, \"ticks\": \"\"}}, \"type\": \"scattermapbox\"}], \"scatterpolar\": [{\"marker\": {\"colorbar\": {\"outlinewidth\": 0, \"ticks\": \"\"}}, \"type\": \"scatterpolar\"}], \"scatterpolargl\": [{\"marker\": {\"colorbar\": {\"outlinewidth\": 0, \"ticks\": \"\"}}, \"type\": \"scatterpolargl\"}], \"scatterternary\": [{\"marker\": {\"colorbar\": {\"outlinewidth\": 0, \"ticks\": \"\"}}, \"type\": \"scatterternary\"}], \"surface\": [{\"colorbar\": {\"outlinewidth\": 0, \"ticks\": \"\"}, \"colorscale\": [[0.0, \"#0d0887\"], [0.1111111111111111, \"#46039f\"], [0.2222222222222222, \"#7201a8\"], [0.3333333333333333, \"#9c179e\"], [0.4444444444444444, \"#bd3786\"], [0.5555555555555556, \"#d8576b\"], [0.6666666666666666, \"#ed7953\"], [0.7777777777777778, \"#fb9f3a\"], [0.8888888888888888, \"#fdca26\"], [1.0, \"#f0f921\"]], \"type\": \"surface\"}], \"table\": [{\"cells\": {\"fill\": {\"color\": \"#EBF0F8\"}, \"line\": {\"color\": \"white\"}}, \"header\": {\"fill\": {\"color\": \"#C8D4E3\"}, \"line\": {\"color\": \"white\"}}, \"type\": \"table\"}]}, \"layout\": {\"annotationdefaults\": {\"arrowcolor\": \"#2a3f5f\", \"arrowhead\": 0, \"arrowwidth\": 1}, \"coloraxis\": {\"colorbar\": {\"outlinewidth\": 0, \"ticks\": \"\"}}, \"colorscale\": {\"diverging\": [[0, \"#8e0152\"], [0.1, \"#c51b7d\"], [0.2, \"#de77ae\"], [0.3, \"#f1b6da\"], [0.4, \"#fde0ef\"], [0.5, \"#f7f7f7\"], [0.6, \"#e6f5d0\"], [0.7, \"#b8e186\"], [0.8, \"#7fbc41\"], [0.9, \"#4d9221\"], [1, \"#276419\"]], \"sequential\": [[0.0, \"#0d0887\"], [0.1111111111111111, \"#46039f\"], [0.2222222222222222, \"#7201a8\"], [0.3333333333333333, \"#9c179e\"], [0.4444444444444444, \"#bd3786\"], [0.5555555555555556, \"#d8576b\"], [0.6666666666666666, \"#ed7953\"], [0.7777777777777778, \"#fb9f3a\"], [0.8888888888888888, \"#fdca26\"], [1.0, \"#f0f921\"]], \"sequentialminus\": [[0.0, \"#0d0887\"], [0.1111111111111111, \"#46039f\"], [0.2222222222222222, \"#7201a8\"], [0.3333333333333333, \"#9c179e\"], [0.4444444444444444, \"#bd3786\"], [0.5555555555555556, \"#d8576b\"], [0.6666666666666666, \"#ed7953\"], [0.7777777777777778, \"#fb9f3a\"], [0.8888888888888888, \"#fdca26\"], [1.0, \"#f0f921\"]]}, \"colorway\": [\"#636efa\", \"#EF553B\", \"#00cc96\", \"#ab63fa\", \"#FFA15A\", \"#19d3f3\", \"#FF6692\", \"#B6E880\", \"#FF97FF\", \"#FECB52\"], \"font\": {\"color\": \"#2a3f5f\"}, \"geo\": {\"bgcolor\": \"white\", \"lakecolor\": \"white\", \"landcolor\": \"#E5ECF6\", \"showlakes\": true, \"showland\": true, \"subunitcolor\": \"white\"}, \"hoverlabel\": {\"align\": \"left\"}, \"hovermode\": \"closest\", \"mapbox\": {\"style\": \"light\"}, \"paper_bgcolor\": \"white\", \"plot_bgcolor\": \"#E5ECF6\", \"polar\": {\"angularaxis\": {\"gridcolor\": \"white\", \"linecolor\": \"white\", \"ticks\": \"\"}, \"bgcolor\": \"#E5ECF6\", \"radialaxis\": {\"gridcolor\": \"white\", \"linecolor\": \"white\", \"ticks\": \"\"}}, \"scene\": {\"xaxis\": {\"backgroundcolor\": \"#E5ECF6\", \"gridcolor\": \"white\", \"gridwidth\": 2, \"linecolor\": \"white\", \"showbackground\": true, \"ticks\": \"\", \"zerolinecolor\": \"white\"}, \"yaxis\": {\"backgroundcolor\": \"#E5ECF6\", \"gridcolor\": \"white\", \"gridwidth\": 2, \"linecolor\": \"white\", \"showbackground\": true, \"ticks\": \"\", \"zerolinecolor\": \"white\"}, \"zaxis\": {\"backgroundcolor\": \"#E5ECF6\", \"gridcolor\": \"white\", \"gridwidth\": 2, \"linecolor\": \"white\", \"showbackground\": true, \"ticks\": \"\", \"zerolinecolor\": \"white\"}}, \"shapedefaults\": {\"line\": {\"color\": \"#2a3f5f\"}}, \"ternary\": {\"aaxis\": {\"gridcolor\": \"white\", \"linecolor\": \"white\", \"ticks\": \"\"}, \"baxis\": {\"gridcolor\": \"white\", \"linecolor\": \"white\", \"ticks\": \"\"}, \"bgcolor\": \"#E5ECF6\", \"caxis\": {\"gridcolor\": \"white\", \"linecolor\": \"white\", \"ticks\": \"\"}}, \"title\": {\"x\": 0.05}, \"xaxis\": {\"automargin\": true, \"gridcolor\": \"white\", \"linecolor\": \"white\", \"ticks\": \"\", \"title\": {\"standoff\": 15}, \"zerolinecolor\": \"white\", \"zerolinewidth\": 2}, \"yaxis\": {\"automargin\": true, \"gridcolor\": \"white\", \"linecolor\": \"white\", \"ticks\": \"\", \"title\": {\"standoff\": 15}, \"zerolinecolor\": \"white\", \"zerolinewidth\": 2}}}, \"title\": {\"text\": \"duration by priority (Mean) in Minutes\"}, \"xaxis\": {\"title\": {\"text\": \"priority\"}}, \"yaxis\": {\"title\": {\"text\": \"duration (Minutes)\"}}},\n",
       "                        {\"responsive\": true}\n",
       "                    ).then(function(){\n",
       "                            \n",
       "var gd = document.getElementById('fc93282b-3668-468d-9e0e-10d907ef234c');\n",
       "var x = new MutationObserver(function (mutations, observer) {{\n",
       "        var display = window.getComputedStyle(gd).display;\n",
       "        if (!display || display === 'none') {{\n",
       "            console.log([gd, 'removed!']);\n",
       "            Plotly.purge(gd);\n",
       "            observer.disconnect();\n",
       "        }}\n",
       "}});\n",
       "\n",
       "// Listen for the removal of the full notebook cells\n",
       "var notebookContainer = gd.closest('#notebook-container');\n",
       "if (notebookContainer) {{\n",
       "    x.observe(notebookContainer, {childList: true});\n",
       "}}\n",
       "\n",
       "// Listen for the clearing of the current output cell\n",
       "var outputEl = gd.closest('.output');\n",
       "if (outputEl) {{\n",
       "    x.observe(outputEl, {childList: true});\n",
       "}}\n",
       "\n",
       "                        })\n",
       "                };\n",
       "                });\n",
       "            </script>\n",
       "        </div>"
      ]
     },
     "metadata": {},
     "output_type": "display_data"
    }
   ],
   "source": [
    "figure"
   ]
  },
  {
   "cell_type": "code",
   "execution_count": 870,
   "metadata": {},
   "outputs": [],
   "source": [
    "df.to_csv('newmri.csv')"
   ]
  },
  {
   "cell_type": "code",
   "execution_count": 871,
   "metadata": {},
   "outputs": [
    {
     "data": {
      "text/html": [
       "<div>\n",
       "<style scoped>\n",
       "    .dataframe tbody tr th:only-of-type {\n",
       "        vertical-align: middle;\n",
       "    }\n",
       "\n",
       "    .dataframe tbody tr th {\n",
       "        vertical-align: top;\n",
       "    }\n",
       "\n",
       "    .dataframe thead th {\n",
       "        text-align: right;\n",
       "    }\n",
       "</style>\n",
       "<table border=\"1\" class=\"dataframe\">\n",
       "  <thead>\n",
       "    <tr style=\"text-align: right;\">\n",
       "      <th></th>\n",
       "      <th>acc_itn</th>\n",
       "      <th>priority</th>\n",
       "      <th>acct</th>\n",
       "      <th>stp_dtime</th>\n",
       "      <th>ord_for_dtime</th>\n",
       "      <th>dept</th>\n",
       "      <th>proc_no</th>\n",
       "      <th>cpt_code</th>\n",
       "      <th>pt_adm_no_ext</th>\n",
       "      <th>duration</th>\n",
       "    </tr>\n",
       "  </thead>\n",
       "  <tbody>\n",
       "    <tr>\n",
       "      <th>0</th>\n",
       "      <td>7231535</td>\n",
       "      <td>Routine</td>\n",
       "      <td>4004017060</td>\n",
       "      <td>2017-12-04 17:11:00</td>\n",
       "      <td>2017-12-04 01:56:00</td>\n",
       "      <td>MRI</td>\n",
       "      <td>1601</td>\n",
       "      <td>70543.0</td>\n",
       "      <td>4004017060</td>\n",
       "      <td>915.0</td>\n",
       "    </tr>\n",
       "    <tr>\n",
       "      <th>1</th>\n",
       "      <td>7231655</td>\n",
       "      <td>Routine</td>\n",
       "      <td>4004017134</td>\n",
       "      <td>2017-04-13 17:20:00</td>\n",
       "      <td>2017-12-04 08:06:00</td>\n",
       "      <td>MRI</td>\n",
       "      <td>1602</td>\n",
       "      <td>72197.0</td>\n",
       "      <td>4004017134</td>\n",
       "      <td>337846.0</td>\n",
       "    </tr>\n",
       "    <tr>\n",
       "      <th>2</th>\n",
       "      <td>7231760</td>\n",
       "      <td>Routine</td>\n",
       "      <td>6223112189</td>\n",
       "      <td>2017-12-04 22:07:00</td>\n",
       "      <td>2017-12-04 09:26:00</td>\n",
       "      <td>MRI</td>\n",
       "      <td>1604</td>\n",
       "      <td>74183.0</td>\n",
       "      <td>6223112189</td>\n",
       "      <td>761.0</td>\n",
       "    </tr>\n",
       "    <tr>\n",
       "      <th>3</th>\n",
       "      <td>7231762</td>\n",
       "      <td>Routine</td>\n",
       "      <td>6223112302</td>\n",
       "      <td>2017-12-04 16:16:00</td>\n",
       "      <td>2017-12-04 09:32:00</td>\n",
       "      <td>MRI</td>\n",
       "      <td>1554</td>\n",
       "      <td>70553.0</td>\n",
       "      <td>6223112302</td>\n",
       "      <td>404.0</td>\n",
       "    </tr>\n",
       "    <tr>\n",
       "      <th>4</th>\n",
       "      <td>7231812</td>\n",
       "      <td>Routine</td>\n",
       "      <td>6223108688</td>\n",
       "      <td>2017-12-04 21:52:00</td>\n",
       "      <td>2017-12-04 09:59:00</td>\n",
       "      <td>MRI</td>\n",
       "      <td>447</td>\n",
       "      <td>70551.0</td>\n",
       "      <td>6223108688</td>\n",
       "      <td>713.0</td>\n",
       "    </tr>\n",
       "  </tbody>\n",
       "</table>\n",
       "</div>"
      ],
      "text/plain": [
       "   acc_itn  priority        acct           stp_dtime       ord_for_dtime dept  \\\n",
       "0  7231535  Routine   4004017060 2017-12-04 17:11:00 2017-12-04 01:56:00  MRI   \n",
       "1  7231655  Routine   4004017134 2017-04-13 17:20:00 2017-12-04 08:06:00  MRI   \n",
       "2  7231760  Routine   6223112189 2017-12-04 22:07:00 2017-12-04 09:26:00  MRI   \n",
       "3  7231762  Routine   6223112302 2017-12-04 16:16:00 2017-12-04 09:32:00  MRI   \n",
       "4  7231812  Routine   6223108688 2017-12-04 21:52:00 2017-12-04 09:59:00  MRI   \n",
       "\n",
       "   proc_no  cpt_code  pt_adm_no_ext  duration  \n",
       "0     1601   70543.0     4004017060     915.0  \n",
       "1     1602   72197.0     4004017134  337846.0  \n",
       "2     1604   74183.0     6223112189     761.0  \n",
       "3     1554   70553.0     6223112302     404.0  \n",
       "4      447   70551.0     6223108688     713.0  "
      ]
     },
     "execution_count": 871,
     "metadata": {},
     "output_type": "execute_result"
    }
   ],
   "source": [
    "df.head()"
   ]
  },
  {
   "cell_type": "code",
   "execution_count": 872,
   "metadata": {},
   "outputs": [
    {
     "data": {
      "text/html": [
       "<div>\n",
       "<style scoped>\n",
       "    .dataframe tbody tr th:only-of-type {\n",
       "        vertical-align: middle;\n",
       "    }\n",
       "\n",
       "    .dataframe tbody tr th {\n",
       "        vertical-align: top;\n",
       "    }\n",
       "\n",
       "    .dataframe thead th {\n",
       "        text-align: right;\n",
       "    }\n",
       "</style>\n",
       "<table border=\"1\" class=\"dataframe\">\n",
       "  <thead>\n",
       "    <tr style=\"text-align: right;\">\n",
       "      <th></th>\n",
       "      <th>acc_itn</th>\n",
       "      <th>acct</th>\n",
       "      <th>proc_no</th>\n",
       "      <th>cpt_code</th>\n",
       "      <th>pt_adm_no_ext</th>\n",
       "      <th>duration</th>\n",
       "      <th>priority_ASAP</th>\n",
       "      <th>priority_As soon</th>\n",
       "      <th>priority_Neuro</th>\n",
       "      <th>priority_PRIOR 1</th>\n",
       "      <th>priority_PRTY 1</th>\n",
       "      <th>priority_Priority</th>\n",
       "      <th>priority_ROUTINE</th>\n",
       "      <th>priority_Routine</th>\n",
       "      <th>priority_SCHEDULE</th>\n",
       "      <th>priority_STAT</th>\n",
       "      <th>priority_Schedule</th>\n",
       "      <th>priority_Stat</th>\n",
       "    </tr>\n",
       "  </thead>\n",
       "  <tbody>\n",
       "    <tr>\n",
       "      <th>acc_itn</th>\n",
       "      <td>1.000000</td>\n",
       "      <td>-0.008820</td>\n",
       "      <td>0.004496</td>\n",
       "      <td>0.025639</td>\n",
       "      <td>-0.008820</td>\n",
       "      <td>0.014639</td>\n",
       "      <td>-0.014818</td>\n",
       "      <td>0.002794</td>\n",
       "      <td>0.022773</td>\n",
       "      <td>0.001910</td>\n",
       "      <td>0.001111</td>\n",
       "      <td>-0.004095</td>\n",
       "      <td>0.017927</td>\n",
       "      <td>0.016274</td>\n",
       "      <td>-0.029054</td>\n",
       "      <td>-0.028542</td>\n",
       "      <td>-0.010688</td>\n",
       "      <td>0.006562</td>\n",
       "    </tr>\n",
       "    <tr>\n",
       "      <th>acct</th>\n",
       "      <td>-0.008820</td>\n",
       "      <td>1.000000</td>\n",
       "      <td>-0.047589</td>\n",
       "      <td>-0.062460</td>\n",
       "      <td>1.000000</td>\n",
       "      <td>-0.019062</td>\n",
       "      <td>-0.008861</td>\n",
       "      <td>-0.037466</td>\n",
       "      <td>0.012947</td>\n",
       "      <td>0.012944</td>\n",
       "      <td>0.041762</td>\n",
       "      <td>-0.023338</td>\n",
       "      <td>-0.027170</td>\n",
       "      <td>-0.046232</td>\n",
       "      <td>0.177032</td>\n",
       "      <td>-0.025235</td>\n",
       "      <td>0.007917</td>\n",
       "      <td>-0.019923</td>\n",
       "    </tr>\n",
       "    <tr>\n",
       "      <th>proc_no</th>\n",
       "      <td>0.004496</td>\n",
       "      <td>-0.047589</td>\n",
       "      <td>1.000000</td>\n",
       "      <td>0.212573</td>\n",
       "      <td>-0.047589</td>\n",
       "      <td>0.018618</td>\n",
       "      <td>0.052317</td>\n",
       "      <td>-0.013504</td>\n",
       "      <td>-0.000730</td>\n",
       "      <td>0.000963</td>\n",
       "      <td>-0.018726</td>\n",
       "      <td>0.015824</td>\n",
       "      <td>0.206522</td>\n",
       "      <td>-0.172714</td>\n",
       "      <td>0.087046</td>\n",
       "      <td>0.001226</td>\n",
       "      <td>-0.024133</td>\n",
       "      <td>-0.011635</td>\n",
       "    </tr>\n",
       "    <tr>\n",
       "      <th>cpt_code</th>\n",
       "      <td>0.025639</td>\n",
       "      <td>-0.062460</td>\n",
       "      <td>0.212573</td>\n",
       "      <td>1.000000</td>\n",
       "      <td>-0.062460</td>\n",
       "      <td>0.015657</td>\n",
       "      <td>0.028293</td>\n",
       "      <td>0.098050</td>\n",
       "      <td>-0.013908</td>\n",
       "      <td>-0.013975</td>\n",
       "      <td>-0.102910</td>\n",
       "      <td>-0.009918</td>\n",
       "      <td>0.035886</td>\n",
       "      <td>-0.163657</td>\n",
       "      <td>0.177036</td>\n",
       "      <td>0.022298</td>\n",
       "      <td>-0.010527</td>\n",
       "      <td>0.022551</td>\n",
       "    </tr>\n",
       "    <tr>\n",
       "      <th>pt_adm_no_ext</th>\n",
       "      <td>-0.008820</td>\n",
       "      <td>1.000000</td>\n",
       "      <td>-0.047589</td>\n",
       "      <td>-0.062460</td>\n",
       "      <td>1.000000</td>\n",
       "      <td>-0.019062</td>\n",
       "      <td>-0.008861</td>\n",
       "      <td>-0.037466</td>\n",
       "      <td>0.012947</td>\n",
       "      <td>0.012944</td>\n",
       "      <td>0.041762</td>\n",
       "      <td>-0.023338</td>\n",
       "      <td>-0.027170</td>\n",
       "      <td>-0.046232</td>\n",
       "      <td>0.177032</td>\n",
       "      <td>-0.025235</td>\n",
       "      <td>0.007917</td>\n",
       "      <td>-0.019923</td>\n",
       "    </tr>\n",
       "    <tr>\n",
       "      <th>duration</th>\n",
       "      <td>0.014639</td>\n",
       "      <td>-0.019062</td>\n",
       "      <td>0.018618</td>\n",
       "      <td>0.015657</td>\n",
       "      <td>-0.019062</td>\n",
       "      <td>1.000000</td>\n",
       "      <td>0.010976</td>\n",
       "      <td>-0.020556</td>\n",
       "      <td>-0.006816</td>\n",
       "      <td>-0.007043</td>\n",
       "      <td>-0.051182</td>\n",
       "      <td>-0.004985</td>\n",
       "      <td>0.002957</td>\n",
       "      <td>0.077323</td>\n",
       "      <td>-0.025578</td>\n",
       "      <td>-0.036913</td>\n",
       "      <td>-0.007452</td>\n",
       "      <td>-0.053311</td>\n",
       "    </tr>\n",
       "    <tr>\n",
       "      <th>priority_ASAP</th>\n",
       "      <td>-0.014818</td>\n",
       "      <td>-0.008861</td>\n",
       "      <td>0.052317</td>\n",
       "      <td>0.028293</td>\n",
       "      <td>-0.008861</td>\n",
       "      <td>0.010976</td>\n",
       "      <td>1.000000</td>\n",
       "      <td>-0.033885</td>\n",
       "      <td>-0.002319</td>\n",
       "      <td>-0.002319</td>\n",
       "      <td>-0.017876</td>\n",
       "      <td>-0.001640</td>\n",
       "      <td>-0.040800</td>\n",
       "      <td>-0.135466</td>\n",
       "      <td>-0.031718</td>\n",
       "      <td>-0.028277</td>\n",
       "      <td>-0.004018</td>\n",
       "      <td>-0.023502</td>\n",
       "    </tr>\n",
       "    <tr>\n",
       "      <th>priority_As soon</th>\n",
       "      <td>0.002794</td>\n",
       "      <td>-0.037466</td>\n",
       "      <td>-0.013504</td>\n",
       "      <td>0.098050</td>\n",
       "      <td>-0.037466</td>\n",
       "      <td>-0.020556</td>\n",
       "      <td>-0.033885</td>\n",
       "      <td>1.000000</td>\n",
       "      <td>-0.006149</td>\n",
       "      <td>-0.006149</td>\n",
       "      <td>-0.047399</td>\n",
       "      <td>-0.004347</td>\n",
       "      <td>-0.108182</td>\n",
       "      <td>-0.359188</td>\n",
       "      <td>-0.084100</td>\n",
       "      <td>-0.074978</td>\n",
       "      <td>-0.010654</td>\n",
       "      <td>-0.062316</td>\n",
       "    </tr>\n",
       "    <tr>\n",
       "      <th>priority_Neuro</th>\n",
       "      <td>0.022773</td>\n",
       "      <td>0.012947</td>\n",
       "      <td>-0.000730</td>\n",
       "      <td>-0.013908</td>\n",
       "      <td>0.012947</td>\n",
       "      <td>-0.006816</td>\n",
       "      <td>-0.002319</td>\n",
       "      <td>-0.006149</td>\n",
       "      <td>1.000000</td>\n",
       "      <td>-0.000421</td>\n",
       "      <td>-0.003244</td>\n",
       "      <td>-0.000298</td>\n",
       "      <td>-0.007403</td>\n",
       "      <td>-0.024581</td>\n",
       "      <td>-0.005755</td>\n",
       "      <td>-0.005131</td>\n",
       "      <td>-0.000729</td>\n",
       "      <td>-0.004265</td>\n",
       "    </tr>\n",
       "    <tr>\n",
       "      <th>priority_PRIOR 1</th>\n",
       "      <td>0.001910</td>\n",
       "      <td>0.012944</td>\n",
       "      <td>0.000963</td>\n",
       "      <td>-0.013975</td>\n",
       "      <td>0.012944</td>\n",
       "      <td>-0.007043</td>\n",
       "      <td>-0.002319</td>\n",
       "      <td>-0.006149</td>\n",
       "      <td>-0.000421</td>\n",
       "      <td>1.000000</td>\n",
       "      <td>-0.003244</td>\n",
       "      <td>-0.000298</td>\n",
       "      <td>-0.007403</td>\n",
       "      <td>-0.024581</td>\n",
       "      <td>-0.005755</td>\n",
       "      <td>-0.005131</td>\n",
       "      <td>-0.000729</td>\n",
       "      <td>-0.004265</td>\n",
       "    </tr>\n",
       "    <tr>\n",
       "      <th>priority_PRTY 1</th>\n",
       "      <td>0.001111</td>\n",
       "      <td>0.041762</td>\n",
       "      <td>-0.018726</td>\n",
       "      <td>-0.102910</td>\n",
       "      <td>0.041762</td>\n",
       "      <td>-0.051182</td>\n",
       "      <td>-0.017876</td>\n",
       "      <td>-0.047399</td>\n",
       "      <td>-0.003244</td>\n",
       "      <td>-0.003244</td>\n",
       "      <td>1.000000</td>\n",
       "      <td>-0.002293</td>\n",
       "      <td>-0.057072</td>\n",
       "      <td>-0.189491</td>\n",
       "      <td>-0.044367</td>\n",
       "      <td>-0.039555</td>\n",
       "      <td>-0.005621</td>\n",
       "      <td>-0.032875</td>\n",
       "    </tr>\n",
       "    <tr>\n",
       "      <th>priority_Priority</th>\n",
       "      <td>-0.004095</td>\n",
       "      <td>-0.023338</td>\n",
       "      <td>0.015824</td>\n",
       "      <td>-0.009918</td>\n",
       "      <td>-0.023338</td>\n",
       "      <td>-0.004985</td>\n",
       "      <td>-0.001640</td>\n",
       "      <td>-0.004347</td>\n",
       "      <td>-0.000298</td>\n",
       "      <td>-0.000298</td>\n",
       "      <td>-0.002293</td>\n",
       "      <td>1.000000</td>\n",
       "      <td>-0.005234</td>\n",
       "      <td>-0.017380</td>\n",
       "      <td>-0.004069</td>\n",
       "      <td>-0.003628</td>\n",
       "      <td>-0.000516</td>\n",
       "      <td>-0.003015</td>\n",
       "    </tr>\n",
       "    <tr>\n",
       "      <th>priority_ROUTINE</th>\n",
       "      <td>0.017927</td>\n",
       "      <td>-0.027170</td>\n",
       "      <td>0.206522</td>\n",
       "      <td>0.035886</td>\n",
       "      <td>-0.027170</td>\n",
       "      <td>0.002957</td>\n",
       "      <td>-0.040800</td>\n",
       "      <td>-0.108182</td>\n",
       "      <td>-0.007403</td>\n",
       "      <td>-0.007403</td>\n",
       "      <td>-0.057072</td>\n",
       "      <td>-0.005234</td>\n",
       "      <td>1.000000</td>\n",
       "      <td>-0.432490</td>\n",
       "      <td>-0.101262</td>\n",
       "      <td>-0.090279</td>\n",
       "      <td>-0.012829</td>\n",
       "      <td>-0.075033</td>\n",
       "    </tr>\n",
       "    <tr>\n",
       "      <th>priority_Routine</th>\n",
       "      <td>0.016274</td>\n",
       "      <td>-0.046232</td>\n",
       "      <td>-0.172714</td>\n",
       "      <td>-0.163657</td>\n",
       "      <td>-0.046232</td>\n",
       "      <td>0.077323</td>\n",
       "      <td>-0.135466</td>\n",
       "      <td>-0.359188</td>\n",
       "      <td>-0.024581</td>\n",
       "      <td>-0.024581</td>\n",
       "      <td>-0.189491</td>\n",
       "      <td>-0.017380</td>\n",
       "      <td>-0.432490</td>\n",
       "      <td>1.000000</td>\n",
       "      <td>-0.336214</td>\n",
       "      <td>-0.299747</td>\n",
       "      <td>-0.042594</td>\n",
       "      <td>-0.249125</td>\n",
       "    </tr>\n",
       "    <tr>\n",
       "      <th>priority_SCHEDULE</th>\n",
       "      <td>-0.029054</td>\n",
       "      <td>0.177032</td>\n",
       "      <td>0.087046</td>\n",
       "      <td>0.177036</td>\n",
       "      <td>0.177032</td>\n",
       "      <td>-0.025578</td>\n",
       "      <td>-0.031718</td>\n",
       "      <td>-0.084100</td>\n",
       "      <td>-0.005755</td>\n",
       "      <td>-0.005755</td>\n",
       "      <td>-0.044367</td>\n",
       "      <td>-0.004069</td>\n",
       "      <td>-0.101262</td>\n",
       "      <td>-0.336214</td>\n",
       "      <td>1.000000</td>\n",
       "      <td>-0.070182</td>\n",
       "      <td>-0.009973</td>\n",
       "      <td>-0.058330</td>\n",
       "    </tr>\n",
       "    <tr>\n",
       "      <th>priority_STAT</th>\n",
       "      <td>-0.028542</td>\n",
       "      <td>-0.025235</td>\n",
       "      <td>0.001226</td>\n",
       "      <td>0.022298</td>\n",
       "      <td>-0.025235</td>\n",
       "      <td>-0.036913</td>\n",
       "      <td>-0.028277</td>\n",
       "      <td>-0.074978</td>\n",
       "      <td>-0.005131</td>\n",
       "      <td>-0.005131</td>\n",
       "      <td>-0.039555</td>\n",
       "      <td>-0.003628</td>\n",
       "      <td>-0.090279</td>\n",
       "      <td>-0.299747</td>\n",
       "      <td>-0.070182</td>\n",
       "      <td>1.000000</td>\n",
       "      <td>-0.008891</td>\n",
       "      <td>-0.052003</td>\n",
       "    </tr>\n",
       "    <tr>\n",
       "      <th>priority_Schedule</th>\n",
       "      <td>-0.010688</td>\n",
       "      <td>0.007917</td>\n",
       "      <td>-0.024133</td>\n",
       "      <td>-0.010527</td>\n",
       "      <td>0.007917</td>\n",
       "      <td>-0.007452</td>\n",
       "      <td>-0.004018</td>\n",
       "      <td>-0.010654</td>\n",
       "      <td>-0.000729</td>\n",
       "      <td>-0.000729</td>\n",
       "      <td>-0.005621</td>\n",
       "      <td>-0.000516</td>\n",
       "      <td>-0.012829</td>\n",
       "      <td>-0.042594</td>\n",
       "      <td>-0.009973</td>\n",
       "      <td>-0.008891</td>\n",
       "      <td>1.000000</td>\n",
       "      <td>-0.007390</td>\n",
       "    </tr>\n",
       "    <tr>\n",
       "      <th>priority_Stat</th>\n",
       "      <td>0.006562</td>\n",
       "      <td>-0.019923</td>\n",
       "      <td>-0.011635</td>\n",
       "      <td>0.022551</td>\n",
       "      <td>-0.019923</td>\n",
       "      <td>-0.053311</td>\n",
       "      <td>-0.023502</td>\n",
       "      <td>-0.062316</td>\n",
       "      <td>-0.004265</td>\n",
       "      <td>-0.004265</td>\n",
       "      <td>-0.032875</td>\n",
       "      <td>-0.003015</td>\n",
       "      <td>-0.075033</td>\n",
       "      <td>-0.249125</td>\n",
       "      <td>-0.058330</td>\n",
       "      <td>-0.052003</td>\n",
       "      <td>-0.007390</td>\n",
       "      <td>1.000000</td>\n",
       "    </tr>\n",
       "  </tbody>\n",
       "</table>\n",
       "</div>"
      ],
      "text/plain": [
       "                    acc_itn      acct   proc_no  cpt_code  pt_adm_no_ext  \\\n",
       "acc_itn            1.000000 -0.008820  0.004496  0.025639      -0.008820   \n",
       "acct              -0.008820  1.000000 -0.047589 -0.062460       1.000000   \n",
       "proc_no            0.004496 -0.047589  1.000000  0.212573      -0.047589   \n",
       "cpt_code           0.025639 -0.062460  0.212573  1.000000      -0.062460   \n",
       "pt_adm_no_ext     -0.008820  1.000000 -0.047589 -0.062460       1.000000   \n",
       "duration           0.014639 -0.019062  0.018618  0.015657      -0.019062   \n",
       "priority_ASAP     -0.014818 -0.008861  0.052317  0.028293      -0.008861   \n",
       "priority_As soon   0.002794 -0.037466 -0.013504  0.098050      -0.037466   \n",
       "priority_Neuro     0.022773  0.012947 -0.000730 -0.013908       0.012947   \n",
       "priority_PRIOR 1   0.001910  0.012944  0.000963 -0.013975       0.012944   \n",
       "priority_PRTY 1    0.001111  0.041762 -0.018726 -0.102910       0.041762   \n",
       "priority_Priority -0.004095 -0.023338  0.015824 -0.009918      -0.023338   \n",
       "priority_ROUTINE   0.017927 -0.027170  0.206522  0.035886      -0.027170   \n",
       "priority_Routine   0.016274 -0.046232 -0.172714 -0.163657      -0.046232   \n",
       "priority_SCHEDULE -0.029054  0.177032  0.087046  0.177036       0.177032   \n",
       "priority_STAT     -0.028542 -0.025235  0.001226  0.022298      -0.025235   \n",
       "priority_Schedule -0.010688  0.007917 -0.024133 -0.010527       0.007917   \n",
       "priority_Stat      0.006562 -0.019923 -0.011635  0.022551      -0.019923   \n",
       "\n",
       "                   duration  priority_ASAP      priority_As soon   \\\n",
       "acc_itn            0.014639          -0.014818           0.002794   \n",
       "acct              -0.019062          -0.008861          -0.037466   \n",
       "proc_no            0.018618           0.052317          -0.013504   \n",
       "cpt_code           0.015657           0.028293           0.098050   \n",
       "pt_adm_no_ext     -0.019062          -0.008861          -0.037466   \n",
       "duration           1.000000           0.010976          -0.020556   \n",
       "priority_ASAP      0.010976           1.000000          -0.033885   \n",
       "priority_As soon  -0.020556          -0.033885           1.000000   \n",
       "priority_Neuro    -0.006816          -0.002319          -0.006149   \n",
       "priority_PRIOR 1  -0.007043          -0.002319          -0.006149   \n",
       "priority_PRTY 1   -0.051182          -0.017876          -0.047399   \n",
       "priority_Priority -0.004985          -0.001640          -0.004347   \n",
       "priority_ROUTINE   0.002957          -0.040800          -0.108182   \n",
       "priority_Routine   0.077323          -0.135466          -0.359188   \n",
       "priority_SCHEDULE -0.025578          -0.031718          -0.084100   \n",
       "priority_STAT     -0.036913          -0.028277          -0.074978   \n",
       "priority_Schedule -0.007452          -0.004018          -0.010654   \n",
       "priority_Stat     -0.053311          -0.023502          -0.062316   \n",
       "\n",
       "                   priority_Neuro     priority_PRIOR 1   priority_PRTY 1    \\\n",
       "acc_itn                     0.022773           0.001910           0.001111   \n",
       "acct                        0.012947           0.012944           0.041762   \n",
       "proc_no                    -0.000730           0.000963          -0.018726   \n",
       "cpt_code                   -0.013908          -0.013975          -0.102910   \n",
       "pt_adm_no_ext               0.012947           0.012944           0.041762   \n",
       "duration                   -0.006816          -0.007043          -0.051182   \n",
       "priority_ASAP              -0.002319          -0.002319          -0.017876   \n",
       "priority_As soon           -0.006149          -0.006149          -0.047399   \n",
       "priority_Neuro              1.000000          -0.000421          -0.003244   \n",
       "priority_PRIOR 1           -0.000421           1.000000          -0.003244   \n",
       "priority_PRTY 1            -0.003244          -0.003244           1.000000   \n",
       "priority_Priority          -0.000298          -0.000298          -0.002293   \n",
       "priority_ROUTINE           -0.007403          -0.007403          -0.057072   \n",
       "priority_Routine           -0.024581          -0.024581          -0.189491   \n",
       "priority_SCHEDULE          -0.005755          -0.005755          -0.044367   \n",
       "priority_STAT              -0.005131          -0.005131          -0.039555   \n",
       "priority_Schedule          -0.000729          -0.000729          -0.005621   \n",
       "priority_Stat              -0.004265          -0.004265          -0.032875   \n",
       "\n",
       "                   priority_Priority  priority_ROUTINE   priority_Routine   \\\n",
       "acc_itn                    -0.004095           0.017927           0.016274   \n",
       "acct                       -0.023338          -0.027170          -0.046232   \n",
       "proc_no                     0.015824           0.206522          -0.172714   \n",
       "cpt_code                   -0.009918           0.035886          -0.163657   \n",
       "pt_adm_no_ext              -0.023338          -0.027170          -0.046232   \n",
       "duration                   -0.004985           0.002957           0.077323   \n",
       "priority_ASAP              -0.001640          -0.040800          -0.135466   \n",
       "priority_As soon           -0.004347          -0.108182          -0.359188   \n",
       "priority_Neuro             -0.000298          -0.007403          -0.024581   \n",
       "priority_PRIOR 1           -0.000298          -0.007403          -0.024581   \n",
       "priority_PRTY 1            -0.002293          -0.057072          -0.189491   \n",
       "priority_Priority           1.000000          -0.005234          -0.017380   \n",
       "priority_ROUTINE           -0.005234           1.000000          -0.432490   \n",
       "priority_Routine           -0.017380          -0.432490           1.000000   \n",
       "priority_SCHEDULE          -0.004069          -0.101262          -0.336214   \n",
       "priority_STAT              -0.003628          -0.090279          -0.299747   \n",
       "priority_Schedule          -0.000516          -0.012829          -0.042594   \n",
       "priority_Stat              -0.003015          -0.075033          -0.249125   \n",
       "\n",
       "                   priority_SCHEDULE  priority_STAT      priority_Schedule  \\\n",
       "acc_itn                    -0.029054          -0.028542          -0.010688   \n",
       "acct                        0.177032          -0.025235           0.007917   \n",
       "proc_no                     0.087046           0.001226          -0.024133   \n",
       "cpt_code                    0.177036           0.022298          -0.010527   \n",
       "pt_adm_no_ext               0.177032          -0.025235           0.007917   \n",
       "duration                   -0.025578          -0.036913          -0.007452   \n",
       "priority_ASAP              -0.031718          -0.028277          -0.004018   \n",
       "priority_As soon           -0.084100          -0.074978          -0.010654   \n",
       "priority_Neuro             -0.005755          -0.005131          -0.000729   \n",
       "priority_PRIOR 1           -0.005755          -0.005131          -0.000729   \n",
       "priority_PRTY 1            -0.044367          -0.039555          -0.005621   \n",
       "priority_Priority          -0.004069          -0.003628          -0.000516   \n",
       "priority_ROUTINE           -0.101262          -0.090279          -0.012829   \n",
       "priority_Routine           -0.336214          -0.299747          -0.042594   \n",
       "priority_SCHEDULE           1.000000          -0.070182          -0.009973   \n",
       "priority_STAT              -0.070182           1.000000          -0.008891   \n",
       "priority_Schedule          -0.009973          -0.008891           1.000000   \n",
       "priority_Stat              -0.058330          -0.052003          -0.007390   \n",
       "\n",
       "                   priority_Stat      \n",
       "acc_itn                     0.006562  \n",
       "acct                       -0.019923  \n",
       "proc_no                    -0.011635  \n",
       "cpt_code                    0.022551  \n",
       "pt_adm_no_ext              -0.019923  \n",
       "duration                   -0.053311  \n",
       "priority_ASAP              -0.023502  \n",
       "priority_As soon           -0.062316  \n",
       "priority_Neuro             -0.004265  \n",
       "priority_PRIOR 1           -0.004265  \n",
       "priority_PRTY 1            -0.032875  \n",
       "priority_Priority          -0.003015  \n",
       "priority_ROUTINE           -0.075033  \n",
       "priority_Routine           -0.249125  \n",
       "priority_SCHEDULE          -0.058330  \n",
       "priority_STAT              -0.052003  \n",
       "priority_Schedule          -0.007390  \n",
       "priority_Stat               1.000000  "
      ]
     },
     "execution_count": 872,
     "metadata": {},
     "output_type": "execute_result"
    }
   ],
   "source": [
    "dummies.corr()"
   ]
  },
  {
   "cell_type": "code",
   "execution_count": 873,
   "metadata": {},
   "outputs": [
    {
     "data": {
      "text/plain": [
       "<seaborn.axisgrid.PairGrid at 0x20eff27ec88>"
      ]
     },
     "execution_count": 873,
     "metadata": {},
     "output_type": "execute_result"
    },
    {
     "data": {
      "image/png": "[encoded data removed]",
      "text/plain": [
       "<Figure size 1080x1080 with 42 Axes>"
      ]
     },
     "metadata": {
      "needs_background": "light"
     },
     "output_type": "display_data"
    }
   ],
   "source": [
    "sb.pairplot(df)"
   ]
  },
  {
   "cell_type": "code",
   "execution_count": 874,
   "metadata": {},
   "outputs": [
    {
     "data": {
      "text/plain": [
       "acc_itn                   int64\n",
       "priority                 object\n",
       "acct                      int64\n",
       "stp_dtime        datetime64[ns]\n",
       "ord_for_dtime    datetime64[ns]\n",
       "dept                     object\n",
       "proc_no                   int64\n",
       "cpt_code                float64\n",
       "pt_adm_no_ext             int64\n",
       "duration                float64\n",
       "dtype: object"
      ]
     },
     "execution_count": 874,
     "metadata": {},
     "output_type": "execute_result"
    }
   ],
   "source": [
    "df.dtypes"
   ]
  },
  {
   "cell_type": "code",
   "execution_count": 875,
   "metadata": {},
   "outputs": [
    {
     "data": {
      "text/html": [
       "<div>\n",
       "<style scoped>\n",
       "    .dataframe tbody tr th:only-of-type {\n",
       "        vertical-align: middle;\n",
       "    }\n",
       "\n",
       "    .dataframe tbody tr th {\n",
       "        vertical-align: top;\n",
       "    }\n",
       "\n",
       "    .dataframe thead th {\n",
       "        text-align: right;\n",
       "    }\n",
       "</style>\n",
       "<table border=\"1\" class=\"dataframe\">\n",
       "  <thead>\n",
       "    <tr style=\"text-align: right;\">\n",
       "      <th></th>\n",
       "      <th>acc_itn</th>\n",
       "      <th>acct</th>\n",
       "      <th>stp_dtime</th>\n",
       "      <th>ord_for_dtime</th>\n",
       "      <th>proc_no</th>\n",
       "      <th>cpt_code</th>\n",
       "      <th>pt_adm_no_ext</th>\n",
       "      <th>duration</th>\n",
       "      <th>priority_ASAP</th>\n",
       "      <th>priority_As soon</th>\n",
       "      <th>priority_Neuro</th>\n",
       "      <th>priority_PRIOR 1</th>\n",
       "      <th>priority_PRTY 1</th>\n",
       "      <th>priority_Priority</th>\n",
       "      <th>priority_ROUTINE</th>\n",
       "      <th>priority_Routine</th>\n",
       "      <th>priority_SCHEDULE</th>\n",
       "      <th>priority_STAT</th>\n",
       "      <th>priority_Schedule</th>\n",
       "      <th>priority_Stat</th>\n",
       "    </tr>\n",
       "  </thead>\n",
       "  <tbody>\n",
       "    <tr>\n",
       "      <th>0</th>\n",
       "      <td>7231535</td>\n",
       "      <td>4004017060</td>\n",
       "      <td>2017-12-04 17:11:00</td>\n",
       "      <td>2017-12-04 01:56:00</td>\n",
       "      <td>1601</td>\n",
       "      <td>70543.0</td>\n",
       "      <td>4004017060</td>\n",
       "      <td>915.0</td>\n",
       "      <td>0</td>\n",
       "      <td>0</td>\n",
       "      <td>0</td>\n",
       "      <td>0</td>\n",
       "      <td>0</td>\n",
       "      <td>0</td>\n",
       "      <td>0</td>\n",
       "      <td>1</td>\n",
       "      <td>0</td>\n",
       "      <td>0</td>\n",
       "      <td>0</td>\n",
       "      <td>0</td>\n",
       "    </tr>\n",
       "    <tr>\n",
       "      <th>1</th>\n",
       "      <td>7231655</td>\n",
       "      <td>4004017134</td>\n",
       "      <td>2017-04-13 17:20:00</td>\n",
       "      <td>2017-12-04 08:06:00</td>\n",
       "      <td>1602</td>\n",
       "      <td>72197.0</td>\n",
       "      <td>4004017134</td>\n",
       "      <td>337846.0</td>\n",
       "      <td>0</td>\n",
       "      <td>0</td>\n",
       "      <td>0</td>\n",
       "      <td>0</td>\n",
       "      <td>0</td>\n",
       "      <td>0</td>\n",
       "      <td>0</td>\n",
       "      <td>1</td>\n",
       "      <td>0</td>\n",
       "      <td>0</td>\n",
       "      <td>0</td>\n",
       "      <td>0</td>\n",
       "    </tr>\n",
       "    <tr>\n",
       "      <th>2</th>\n",
       "      <td>7231760</td>\n",
       "      <td>6223112189</td>\n",
       "      <td>2017-12-04 22:07:00</td>\n",
       "      <td>2017-12-04 09:26:00</td>\n",
       "      <td>1604</td>\n",
       "      <td>74183.0</td>\n",
       "      <td>6223112189</td>\n",
       "      <td>761.0</td>\n",
       "      <td>0</td>\n",
       "      <td>0</td>\n",
       "      <td>0</td>\n",
       "      <td>0</td>\n",
       "      <td>0</td>\n",
       "      <td>0</td>\n",
       "      <td>0</td>\n",
       "      <td>1</td>\n",
       "      <td>0</td>\n",
       "      <td>0</td>\n",
       "      <td>0</td>\n",
       "      <td>0</td>\n",
       "    </tr>\n",
       "    <tr>\n",
       "      <th>3</th>\n",
       "      <td>7231762</td>\n",
       "      <td>6223112302</td>\n",
       "      <td>2017-12-04 16:16:00</td>\n",
       "      <td>2017-12-04 09:32:00</td>\n",
       "      <td>1554</td>\n",
       "      <td>70553.0</td>\n",
       "      <td>6223112302</td>\n",
       "      <td>404.0</td>\n",
       "      <td>0</td>\n",
       "      <td>0</td>\n",
       "      <td>0</td>\n",
       "      <td>0</td>\n",
       "      <td>0</td>\n",
       "      <td>0</td>\n",
       "      <td>0</td>\n",
       "      <td>1</td>\n",
       "      <td>0</td>\n",
       "      <td>0</td>\n",
       "      <td>0</td>\n",
       "      <td>0</td>\n",
       "    </tr>\n",
       "    <tr>\n",
       "      <th>4</th>\n",
       "      <td>7231812</td>\n",
       "      <td>6223108688</td>\n",
       "      <td>2017-12-04 21:52:00</td>\n",
       "      <td>2017-12-04 09:59:00</td>\n",
       "      <td>447</td>\n",
       "      <td>70551.0</td>\n",
       "      <td>6223108688</td>\n",
       "      <td>713.0</td>\n",
       "      <td>0</td>\n",
       "      <td>0</td>\n",
       "      <td>0</td>\n",
       "      <td>0</td>\n",
       "      <td>0</td>\n",
       "      <td>0</td>\n",
       "      <td>0</td>\n",
       "      <td>1</td>\n",
       "      <td>0</td>\n",
       "      <td>0</td>\n",
       "      <td>0</td>\n",
       "      <td>0</td>\n",
       "    </tr>\n",
       "  </tbody>\n",
       "</table>\n",
       "</div>"
      ],
      "text/plain": [
       "   acc_itn        acct           stp_dtime       ord_for_dtime  proc_no  \\\n",
       "0  7231535  4004017060 2017-12-04 17:11:00 2017-12-04 01:56:00     1601   \n",
       "1  7231655  4004017134 2017-04-13 17:20:00 2017-12-04 08:06:00     1602   \n",
       "2  7231760  6223112189 2017-12-04 22:07:00 2017-12-04 09:26:00     1604   \n",
       "3  7231762  6223112302 2017-12-04 16:16:00 2017-12-04 09:32:00     1554   \n",
       "4  7231812  6223108688 2017-12-04 21:52:00 2017-12-04 09:59:00      447   \n",
       "\n",
       "   cpt_code  pt_adm_no_ext  duration  priority_ASAP      priority_As soon   \\\n",
       "0   70543.0     4004017060     915.0                  0                  0   \n",
       "1   72197.0     4004017134  337846.0                  0                  0   \n",
       "2   74183.0     6223112189     761.0                  0                  0   \n",
       "3   70553.0     6223112302     404.0                  0                  0   \n",
       "4   70551.0     6223108688     713.0                  0                  0   \n",
       "\n",
       "   priority_Neuro     priority_PRIOR 1   priority_PRTY 1    priority_Priority  \\\n",
       "0                  0                  0                  0                  0   \n",
       "1                  0                  0                  0                  0   \n",
       "2                  0                  0                  0                  0   \n",
       "3                  0                  0                  0                  0   \n",
       "4                  0                  0                  0                  0   \n",
       "\n",
       "   priority_ROUTINE   priority_Routine   priority_SCHEDULE  priority_STAT      \\\n",
       "0                  0                  1                  0                  0   \n",
       "1                  0                  1                  0                  0   \n",
       "2                  0                  1                  0                  0   \n",
       "3                  0                  1                  0                  0   \n",
       "4                  0                  1                  0                  0   \n",
       "\n",
       "   priority_Schedule  priority_Stat      \n",
       "0                  0                  0  \n",
       "1                  0                  0  \n",
       "2                  0                  0  \n",
       "3                  0                  0  \n",
       "4                  0                  0  "
      ]
     },
     "execution_count": 875,
     "metadata": {},
     "output_type": "execute_result"
    }
   ],
   "source": [
    "dummies.head()"
   ]
  },
  {
   "cell_type": "code",
   "execution_count": 876,
   "metadata": {},
   "outputs": [
    {
     "data": {
      "text/plain": [
       "<matplotlib.axes._subplots.AxesSubplot at 0x20e83a55c88>"
      ]
     },
     "execution_count": 876,
     "metadata": {},
     "output_type": "execute_result"
    },
    {
     "data": {
      "image/png": "[encoded data removed]",
      "text/plain": [
       "<Figure size 720x576 with 2 Axes>"
      ]
     },
     "metadata": {},
     "output_type": "display_data"
    }
   ],
   "source": [
    "corr_mat = df.corr()\n",
    "sb.set(font_scale=1.8)\n",
    "plt.figure(figsize=(10,8))\n",
    "sb.heatmap(corr_mat, annot=True, cmap='viridis' , annot_kws={\"size\": 16},)"
   ]
  },
  {
   "cell_type": "code",
   "execution_count": 877,
   "metadata": {},
   "outputs": [
    {
     "data": {
      "text/plain": [
       "Index(['priority', 'dept'], dtype='object')"
      ]
     },
     "execution_count": 877,
     "metadata": {},
     "output_type": "execute_result"
    }
   ],
   "source": [
    "cat_col=df.select_dtypes(include=[np.object])\n",
    "cat_col.columns"
   ]
  },
  {
   "cell_type": "code",
   "execution_count": 878,
   "metadata": {},
   "outputs": [],
   "source": [
    "zebra=['priority', 'dept']"
   ]
  },
  {
   "cell_type": "code",
   "execution_count": 879,
   "metadata": {},
   "outputs": [
    {
     "data": {
      "text/plain": [
       "(4755, 20)"
      ]
     },
     "execution_count": 879,
     "metadata": {},
     "output_type": "execute_result"
    }
   ],
   "source": [
    "dummies=pd.get_dummies(df,columns=zebra,drop_first=True)\n",
    "dummies.shape"
   ]
  },
  {
   "cell_type": "code",
   "execution_count": 880,
   "metadata": {},
   "outputs": [
    {
     "data": {
      "text/html": [
       "<div>\n",
       "<style scoped>\n",
       "    .dataframe tbody tr th:only-of-type {\n",
       "        vertical-align: middle;\n",
       "    }\n",
       "\n",
       "    .dataframe tbody tr th {\n",
       "        vertical-align: top;\n",
       "    }\n",
       "\n",
       "    .dataframe thead th {\n",
       "        text-align: right;\n",
       "    }\n",
       "</style>\n",
       "<table border=\"1\" class=\"dataframe\">\n",
       "  <thead>\n",
       "    <tr style=\"text-align: right;\">\n",
       "      <th></th>\n",
       "      <th>acc_itn</th>\n",
       "      <th>acct</th>\n",
       "      <th>stp_dtime</th>\n",
       "      <th>ord_for_dtime</th>\n",
       "      <th>proc_no</th>\n",
       "      <th>cpt_code</th>\n",
       "      <th>pt_adm_no_ext</th>\n",
       "      <th>duration</th>\n",
       "      <th>priority_ASAP</th>\n",
       "      <th>priority_As soon</th>\n",
       "      <th>priority_Neuro</th>\n",
       "      <th>priority_PRIOR 1</th>\n",
       "      <th>priority_PRTY 1</th>\n",
       "      <th>priority_Priority</th>\n",
       "      <th>priority_ROUTINE</th>\n",
       "      <th>priority_Routine</th>\n",
       "      <th>priority_SCHEDULE</th>\n",
       "      <th>priority_STAT</th>\n",
       "      <th>priority_Schedule</th>\n",
       "      <th>priority_Stat</th>\n",
       "    </tr>\n",
       "  </thead>\n",
       "  <tbody>\n",
       "    <tr>\n",
       "      <th>0</th>\n",
       "      <td>7231535</td>\n",
       "      <td>4004017060</td>\n",
       "      <td>2017-12-04 17:11:00</td>\n",
       "      <td>2017-12-04 01:56:00</td>\n",
       "      <td>1601</td>\n",
       "      <td>70543.0</td>\n",
       "      <td>4004017060</td>\n",
       "      <td>915.0</td>\n",
       "      <td>0</td>\n",
       "      <td>0</td>\n",
       "      <td>0</td>\n",
       "      <td>0</td>\n",
       "      <td>0</td>\n",
       "      <td>0</td>\n",
       "      <td>0</td>\n",
       "      <td>1</td>\n",
       "      <td>0</td>\n",
       "      <td>0</td>\n",
       "      <td>0</td>\n",
       "      <td>0</td>\n",
       "    </tr>\n",
       "    <tr>\n",
       "      <th>1</th>\n",
       "      <td>7231655</td>\n",
       "      <td>4004017134</td>\n",
       "      <td>2017-04-13 17:20:00</td>\n",
       "      <td>2017-12-04 08:06:00</td>\n",
       "      <td>1602</td>\n",
       "      <td>72197.0</td>\n",
       "      <td>4004017134</td>\n",
       "      <td>337846.0</td>\n",
       "      <td>0</td>\n",
       "      <td>0</td>\n",
       "      <td>0</td>\n",
       "      <td>0</td>\n",
       "      <td>0</td>\n",
       "      <td>0</td>\n",
       "      <td>0</td>\n",
       "      <td>1</td>\n",
       "      <td>0</td>\n",
       "      <td>0</td>\n",
       "      <td>0</td>\n",
       "      <td>0</td>\n",
       "    </tr>\n",
       "    <tr>\n",
       "      <th>2</th>\n",
       "      <td>7231760</td>\n",
       "      <td>6223112189</td>\n",
       "      <td>2017-12-04 22:07:00</td>\n",
       "      <td>2017-12-04 09:26:00</td>\n",
       "      <td>1604</td>\n",
       "      <td>74183.0</td>\n",
       "      <td>6223112189</td>\n",
       "      <td>761.0</td>\n",
       "      <td>0</td>\n",
       "      <td>0</td>\n",
       "      <td>0</td>\n",
       "      <td>0</td>\n",
       "      <td>0</td>\n",
       "      <td>0</td>\n",
       "      <td>0</td>\n",
       "      <td>1</td>\n",
       "      <td>0</td>\n",
       "      <td>0</td>\n",
       "      <td>0</td>\n",
       "      <td>0</td>\n",
       "    </tr>\n",
       "    <tr>\n",
       "      <th>3</th>\n",
       "      <td>7231762</td>\n",
       "      <td>6223112302</td>\n",
       "      <td>2017-12-04 16:16:00</td>\n",
       "      <td>2017-12-04 09:32:00</td>\n",
       "      <td>1554</td>\n",
       "      <td>70553.0</td>\n",
       "      <td>6223112302</td>\n",
       "      <td>404.0</td>\n",
       "      <td>0</td>\n",
       "      <td>0</td>\n",
       "      <td>0</td>\n",
       "      <td>0</td>\n",
       "      <td>0</td>\n",
       "      <td>0</td>\n",
       "      <td>0</td>\n",
       "      <td>1</td>\n",
       "      <td>0</td>\n",
       "      <td>0</td>\n",
       "      <td>0</td>\n",
       "      <td>0</td>\n",
       "    </tr>\n",
       "    <tr>\n",
       "      <th>4</th>\n",
       "      <td>7231812</td>\n",
       "      <td>6223108688</td>\n",
       "      <td>2017-12-04 21:52:00</td>\n",
       "      <td>2017-12-04 09:59:00</td>\n",
       "      <td>447</td>\n",
       "      <td>70551.0</td>\n",
       "      <td>6223108688</td>\n",
       "      <td>713.0</td>\n",
       "      <td>0</td>\n",
       "      <td>0</td>\n",
       "      <td>0</td>\n",
       "      <td>0</td>\n",
       "      <td>0</td>\n",
       "      <td>0</td>\n",
       "      <td>0</td>\n",
       "      <td>1</td>\n",
       "      <td>0</td>\n",
       "      <td>0</td>\n",
       "      <td>0</td>\n",
       "      <td>0</td>\n",
       "    </tr>\n",
       "  </tbody>\n",
       "</table>\n",
       "</div>"
      ],
      "text/plain": [
       "   acc_itn        acct           stp_dtime       ord_for_dtime  proc_no  \\\n",
       "0  7231535  4004017060 2017-12-04 17:11:00 2017-12-04 01:56:00     1601   \n",
       "1  7231655  4004017134 2017-04-13 17:20:00 2017-12-04 08:06:00     1602   \n",
       "2  7231760  6223112189 2017-12-04 22:07:00 2017-12-04 09:26:00     1604   \n",
       "3  7231762  6223112302 2017-12-04 16:16:00 2017-12-04 09:32:00     1554   \n",
       "4  7231812  6223108688 2017-12-04 21:52:00 2017-12-04 09:59:00      447   \n",
       "\n",
       "   cpt_code  pt_adm_no_ext  duration  priority_ASAP      priority_As soon   \\\n",
       "0   70543.0     4004017060     915.0                  0                  0   \n",
       "1   72197.0     4004017134  337846.0                  0                  0   \n",
       "2   74183.0     6223112189     761.0                  0                  0   \n",
       "3   70553.0     6223112302     404.0                  0                  0   \n",
       "4   70551.0     6223108688     713.0                  0                  0   \n",
       "\n",
       "   priority_Neuro     priority_PRIOR 1   priority_PRTY 1    priority_Priority  \\\n",
       "0                  0                  0                  0                  0   \n",
       "1                  0                  0                  0                  0   \n",
       "2                  0                  0                  0                  0   \n",
       "3                  0                  0                  0                  0   \n",
       "4                  0                  0                  0                  0   \n",
       "\n",
       "   priority_ROUTINE   priority_Routine   priority_SCHEDULE  priority_STAT      \\\n",
       "0                  0                  1                  0                  0   \n",
       "1                  0                  1                  0                  0   \n",
       "2                  0                  1                  0                  0   \n",
       "3                  0                  1                  0                  0   \n",
       "4                  0                  1                  0                  0   \n",
       "\n",
       "   priority_Schedule  priority_Stat      \n",
       "0                  0                  0  \n",
       "1                  0                  0  \n",
       "2                  0                  0  \n",
       "3                  0                  0  \n",
       "4                  0                  0  "
      ]
     },
     "execution_count": 880,
     "metadata": {},
     "output_type": "execute_result"
    }
   ],
   "source": [
    "dummies.head()"
   ]
  },
  {
   "cell_type": "code",
   "execution_count": 881,
   "metadata": {},
   "outputs": [
    {
     "data": {
      "text/plain": [
       "acc_itn                   int64\n",
       "priority                 object\n",
       "acct                      int64\n",
       "stp_dtime        datetime64[ns]\n",
       "ord_for_dtime    datetime64[ns]\n",
       "dept                     object\n",
       "proc_no                   int64\n",
       "cpt_code                float64\n",
       "pt_adm_no_ext             int64\n",
       "duration                float64\n",
       "dtype: object"
      ]
     },
     "execution_count": 881,
     "metadata": {},
     "output_type": "execute_result"
    }
   ],
   "source": [
    "df.dtypes"
   ]
  },
  {
   "cell_type": "code",
   "execution_count": 882,
   "metadata": {
    "scrolled": false
   },
   "outputs": [
    {
     "data": {
      "text/plain": [
       "Index(['acc_itn', 'acct', 'stp_dtime', 'ord_for_dtime', 'proc_no', 'cpt_code',\n",
       "       'pt_adm_no_ext', 'duration', 'priority_ASAP    ', 'priority_As soon ',\n",
       "       'priority_Neuro   ', 'priority_PRIOR 1 ', 'priority_PRTY 1  ',\n",
       "       'priority_Priority', 'priority_ROUTINE ', 'priority_Routine ',\n",
       "       'priority_SCHEDULE', 'priority_STAT    ', 'priority_Schedule',\n",
       "       'priority_Stat    '],\n",
       "      dtype='object')"
      ]
     },
     "execution_count": 882,
     "metadata": {},
     "output_type": "execute_result"
    }
   ],
   "source": [
    "dummies.columns"
   ]
  },
  {
   "cell_type": "code",
   "execution_count": 883,
   "metadata": {},
   "outputs": [],
   "source": [
    "X=dummies.drop(labels=['duration','ord_for_dtime','stp_dtime'],axis=1)\n",
    "y=dummies[[\"duration\"]]"
   ]
  },
  {
   "cell_type": "code",
   "execution_count": 884,
   "metadata": {},
   "outputs": [],
   "source": [
    "from sklearn.model_selection import train_test_split\n",
    "X_train, X_test, y_train, y_test = train_test_split(X, y, test_size=0.20, random_state=1)"
   ]
  },
  {
   "cell_type": "code",
   "execution_count": 885,
   "metadata": {},
   "outputs": [
    {
     "name": "stdout",
     "output_type": "stream",
     "text": [
      "(3804, 17)\n",
      "(951, 17)\n",
      "(3804, 1)\n",
      "(951, 1)\n"
     ]
    }
   ],
   "source": [
    "print(X_train.shape)\n",
    "print(X_test.shape)\n",
    "print(y_train.shape)\n",
    "print(y_test.shape)"
   ]
  },
  {
   "cell_type": "markdown",
   "metadata": {},
   "source": [
    "# Random Forest Base Model using The Pycaret Library "
   ]
  },
  {
   "cell_type": "code",
   "execution_count": 886,
   "metadata": {},
   "outputs": [
    {
     "data": {
      "text/plain": [
       "RandomForestRegressor(random_state=0)"
      ]
     },
     "execution_count": 886,
     "metadata": {},
     "output_type": "execute_result"
    }
   ],
   "source": [
    "from sklearn.ensemble import RandomForestRegressor\n",
    "\n",
    "model = RandomForestRegressor(random_state = 0)\n",
    "\n",
    "model.fit(X_train, y_train)"
   ]
  },
  {
   "cell_type": "code",
   "execution_count": 887,
   "metadata": {},
   "outputs": [],
   "source": [
    "y_pred_train = model.predict(X_train)\n",
    "y_pred_test = model.predict(X_test)  "
   ]
  },
  {
   "cell_type": "code",
   "execution_count": 888,
   "metadata": {},
   "outputs": [
    {
     "name": "stdout",
     "output_type": "stream",
     "text": [
      "Accuracy score for test data using the Random forest model without parameter specification: 0.49629497699427705\n"
     ]
    }
   ],
   "source": [
    "from sklearn.metrics import accuracy_score\n",
    "print('Accuracy score for test data using the Random forest model without parameter specification:', model.score(X_test,y_test))"
   ]
  },
  {
   "cell_type": "code",
   "execution_count": 889,
   "metadata": {},
   "outputs": [
    {
     "name": "stdout",
     "output_type": "stream",
     "text": [
      "RMSE for the train set is 16310.60198386366\n",
      "RMSE for the test set is 42691.75028485914\n"
     ]
    }
   ],
   "source": [
    "from sklearn.metrics import accuracy_score\n",
    "from sklearn import metrics\n",
    "RMSE_train = np.sqrt(metrics.mean_squared_error(y_train, y_pred_train))       \n",
    "RMSE_test = np.sqrt(metrics.mean_squared_error(y_test, y_pred_test))  \n",
    "# compute the RMSE of our predictions\n",
    "print('RMSE for the train set is {}'.format(RMSE_train))\n",
    "print('RMSE for the test set is {}'.format(RMSE_test))"
   ]
  },
  {
   "cell_type": "markdown",
   "metadata": {},
   "source": [
    "# Observation "
   ]
  },
  {
   "cell_type": "markdown",
   "metadata": {},
   "source": [
    "- The Model Underfits \n",
    "- Try Adding More Columns"
   ]
  },
  {
   "cell_type": "markdown",
   "metadata": {},
   "source": [
    "# Metrics"
   ]
  },
  {
   "cell_type": "code",
   "execution_count": 890,
   "metadata": {},
   "outputs": [
    {
     "name": "stdout",
     "output_type": "stream",
     "text": [
      "Accuracy Train Data : 0.9225585649750472\n",
      "Accuracy Test  Data : 0.49629497699427705\n"
     ]
    }
   ],
   "source": [
    "print(\"Accuracy Train Data : {}\".format(model.score(X_train,y_train)))\n",
    "print(\"Accuracy Test  Data : {}\".format(model.score(X_test,y_test)))\n",
    "#print(\"R squared: {}\".format(metrics.r2_score(y_true=X_test,y_pred=y_pred_train)))"
   ]
  },
  {
   "cell_type": "code",
   "execution_count": 891,
   "metadata": {},
   "outputs": [
    {
     "data": {
      "text/html": [
       "<div>\n",
       "<style scoped>\n",
       "    .dataframe tbody tr th:only-of-type {\n",
       "        vertical-align: middle;\n",
       "    }\n",
       "\n",
       "    .dataframe tbody tr th {\n",
       "        vertical-align: top;\n",
       "    }\n",
       "\n",
       "    .dataframe thead th {\n",
       "        text-align: right;\n",
       "    }\n",
       "</style>\n",
       "<table border=\"1\" class=\"dataframe\">\n",
       "  <thead>\n",
       "    <tr style=\"text-align: right;\">\n",
       "      <th></th>\n",
       "      <th>duration</th>\n",
       "    </tr>\n",
       "  </thead>\n",
       "  <tbody>\n",
       "    <tr>\n",
       "      <th>1772</th>\n",
       "      <td>140.0</td>\n",
       "    </tr>\n",
       "    <tr>\n",
       "      <th>206</th>\n",
       "      <td>695.0</td>\n",
       "    </tr>\n",
       "    <tr>\n",
       "      <th>544</th>\n",
       "      <td>1152.0</td>\n",
       "    </tr>\n",
       "    <tr>\n",
       "      <th>1140</th>\n",
       "      <td>44153.0</td>\n",
       "    </tr>\n",
       "    <tr>\n",
       "      <th>3759</th>\n",
       "      <td>2146.0</td>\n",
       "    </tr>\n",
       "    <tr>\n",
       "      <th>...</th>\n",
       "      <td>...</td>\n",
       "    </tr>\n",
       "    <tr>\n",
       "      <th>501</th>\n",
       "      <td>297.0</td>\n",
       "    </tr>\n",
       "    <tr>\n",
       "      <th>443</th>\n",
       "      <td>1013.0</td>\n",
       "    </tr>\n",
       "    <tr>\n",
       "      <th>1246</th>\n",
       "      <td>1584.0</td>\n",
       "    </tr>\n",
       "    <tr>\n",
       "      <th>1132</th>\n",
       "      <td>526.0</td>\n",
       "    </tr>\n",
       "    <tr>\n",
       "      <th>4343</th>\n",
       "      <td>44364.0</td>\n",
       "    </tr>\n",
       "  </tbody>\n",
       "</table>\n",
       "<p>951 rows × 1 columns</p>\n",
       "</div>"
      ],
      "text/plain": [
       "      duration\n",
       "1772     140.0\n",
       "206      695.0\n",
       "544     1152.0\n",
       "1140   44153.0\n",
       "3759    2146.0\n",
       "...        ...\n",
       "501      297.0\n",
       "443     1013.0\n",
       "1246    1584.0\n",
       "1132     526.0\n",
       "4343   44364.0\n",
       "\n",
       "[951 rows x 1 columns]"
      ]
     },
     "execution_count": 891,
     "metadata": {},
     "output_type": "execute_result"
    }
   ],
   "source": [
    "y_test"
   ]
  },
  {
   "cell_type": "code",
   "execution_count": 892,
   "metadata": {},
   "outputs": [
    {
     "data": {
      "text/plain": [
       "array([2.3321000e+02, 1.2996800e+03, 3.9968000e+02, 1.8259920e+04,\n",
       "       1.5960800e+03, 1.3459500e+03, 4.5156000e+02, 1.9792500e+03,\n",
       "       4.0327830e+04, 9.6622380e+04, 6.6909970e+04, 6.8634000e+02,\n",
       "       6.5456600e+03, 2.0530000e+02, 2.2547540e+04, 2.1651100e+03,\n",
       "       2.4292700e+03, 1.0328410e+04, 1.3501300e+03, 4.6793690e+04,\n",
       "       3.2604410e+04, 2.1059718e+05, 3.8754630e+04, 1.0326400e+03,\n",
       "       6.5253500e+03, 2.3454000e+03, 9.2555000e+02, 1.8924900e+04,\n",
       "       5.2955030e+04, 4.8159570e+04, 6.4010000e+02, 8.0470000e+02,\n",
       "       4.3083320e+04, 1.5584060e+04, 2.6739010e+04, 3.3170700e+03,\n",
       "       5.9656000e+02, 7.9523000e+02, 1.6442400e+03, 1.3979900e+03,\n",
       "       3.8080000e+02, 1.5208170e+04, 2.3728070e+04, 2.4216970e+04,\n",
       "       5.5670200e+03, 3.0937780e+04, 5.2389020e+04, 9.8045300e+03,\n",
       "       4.2934000e+02, 4.1997040e+04, 6.9702000e+02, 2.3250910e+04,\n",
       "       2.7348060e+04, 1.1205000e+03, 3.4797200e+03, 3.7025600e+03,\n",
       "       6.6325000e+02, 3.6467800e+03, 1.6250120e+04, 1.9458400e+03,\n",
       "       1.3718700e+03, 4.6779100e+04, 1.0325890e+04, 1.6460900e+03,\n",
       "       3.4052200e+03, 1.0543300e+03, 1.8566803e+05, 3.2870710e+04,\n",
       "       1.0600300e+03, 3.5136400e+03, 1.2951480e+04, 5.4276810e+04,\n",
       "       8.6703000e+02, 4.0809720e+04, 1.7623000e+02, 1.9228000e+03,\n",
       "       4.7261600e+03, 1.2743320e+04, 2.3529000e+03, 5.6145100e+03,\n",
       "       8.3230000e+02, 7.3004700e+03, 8.5059200e+03, 1.1959100e+03,\n",
       "       2.1465800e+04, 2.5327740e+04, 4.9990430e+04, 2.1047190e+04,\n",
       "       1.4587920e+04, 2.4470000e+03, 8.7995000e+03, 6.6781000e+02,\n",
       "       3.5678860e+04, 9.2541000e+02, 6.3108030e+04, 7.8229000e+02,\n",
       "       3.4456400e+03, 1.9289390e+04, 1.9065800e+03, 8.6011100e+04,\n",
       "       1.0425880e+04, 1.8108940e+04, 2.6557700e+03, 1.3273400e+03,\n",
       "       2.6402700e+03, 3.6566440e+04, 1.6445700e+03, 5.9216000e+02,\n",
       "       1.1968900e+03, 9.1488000e+02, 1.0597060e+04, 1.0837500e+03,\n",
       "       1.1146450e+04, 6.1013000e+02, 4.5163500e+03, 4.7260470e+04,\n",
       "       1.1306100e+03, 8.0413000e+02, 2.2995000e+02, 8.2795000e+02,\n",
       "       1.1276300e+03, 7.6898000e+03, 4.6857900e+03, 1.9188100e+03,\n",
       "       5.5166700e+03, 1.3091000e+03, 1.4450700e+03, 2.8319490e+04,\n",
       "       1.3019200e+03, 2.8849384e+05, 1.3829200e+03, 1.8352120e+04,\n",
       "       4.4020700e+04, 1.7142270e+04, 3.4315570e+04, 9.7485000e+02,\n",
       "       4.7679450e+04, 1.6721900e+03, 6.0291700e+03, 9.6538000e+02,\n",
       "       2.8201702e+05, 7.9867500e+03, 1.8730291e+05, 1.3473340e+04,\n",
       "       1.2426166e+05, 6.3761370e+04, 1.3340800e+04, 6.8476300e+03,\n",
       "       6.8859000e+02, 4.0850510e+04, 3.9463990e+04, 1.5789600e+03,\n",
       "       1.1895000e+03, 2.3707300e+03, 6.4049500e+03, 1.1602862e+05,\n",
       "       3.3385700e+03, 1.9244100e+04, 1.1379500e+03, 9.3903800e+03,\n",
       "       1.5931100e+03, 1.1544470e+04, 5.3411680e+04, 9.8852000e+02,\n",
       "       7.1931800e+03, 2.4629380e+04, 4.3451640e+04, 1.1887200e+03,\n",
       "       9.1634900e+03, 1.0365360e+04, 6.3078900e+03, 1.2084800e+03,\n",
       "       3.4323000e+02, 3.2333740e+04, 2.7441000e+02, 4.2659280e+04,\n",
       "       7.9611600e+03, 2.8341780e+04, 2.1002440e+04, 1.4100400e+03,\n",
       "       1.8071560e+04, 6.1121000e+02, 6.1680250e+04, 1.8650000e+02,\n",
       "       2.9095510e+04, 5.7727600e+03, 2.8280700e+03, 4.2204660e+04,\n",
       "       5.8618000e+03, 5.0223500e+03, 7.7473500e+03, 4.7486050e+04,\n",
       "       4.0610800e+04, 1.7860600e+03, 8.3688000e+02, 4.1876250e+04,\n",
       "       1.8666550e+04, 8.1836900e+03, 1.7928400e+03, 3.6215700e+03,\n",
       "       3.2104200e+03, 8.0877100e+03, 6.6875000e+02, 1.4193100e+03,\n",
       "       4.3140901e+05, 3.6051800e+03, 3.4328700e+03, 1.2475000e+04,\n",
       "       9.6877800e+03, 2.1996590e+04, 2.5697320e+04, 4.2778760e+04,\n",
       "       1.0315500e+03, 1.3923200e+03, 3.3650665e+05, 1.3811750e+04,\n",
       "       5.4875960e+04, 1.6429000e+03, 7.3114800e+03, 2.9094160e+04,\n",
       "       1.1597000e+03, 7.2017500e+03, 1.5806100e+03, 7.8799000e+02,\n",
       "       9.4915000e+02, 1.0568700e+03, 1.0961500e+03, 3.6071190e+04,\n",
       "       2.0917900e+03, 4.8215490e+04, 7.3914100e+03, 2.1599040e+04,\n",
       "       2.4044980e+04, 3.7336000e+02, 1.1517500e+03, 2.4175400e+04,\n",
       "       1.0497200e+03, 7.3676000e+02, 2.3086000e+03, 9.9296000e+02,\n",
       "       1.2112780e+04, 8.7542000e+02, 3.2960790e+04, 3.8082000e+02,\n",
       "       8.4948990e+04, 1.1205810e+04, 4.2748490e+04, 3.0520040e+04,\n",
       "       9.0397000e+02, 4.3393700e+04, 1.4311000e+02, 3.2108030e+04,\n",
       "       2.7096210e+04, 3.4119150e+04, 1.5833900e+03, 1.1269600e+03,\n",
       "       9.9936300e+03, 5.1240700e+03, 1.5060590e+04, 7.0730330e+04,\n",
       "       3.8609060e+04, 5.3547580e+04, 2.9626908e+05, 7.3869000e+02,\n",
       "       1.1908330e+04, 2.5618200e+03, 1.2319800e+03, 2.5715611e+05,\n",
       "       1.9434700e+03, 1.0855500e+03, 7.0391000e+02, 1.0096220e+04,\n",
       "       1.9786290e+04, 3.7253880e+04, 2.4769300e+03, 1.3289100e+03,\n",
       "       3.1881000e+02, 5.2769910e+04, 1.0206860e+04, 3.7042100e+04,\n",
       "       2.8157350e+04, 9.3058000e+02, 2.2098000e+02, 9.7188000e+03,\n",
       "       3.3852670e+04, 6.1130500e+03, 4.3871450e+04, 6.4132400e+03,\n",
       "       1.0207800e+03, 5.9027000e+02, 2.8088200e+04, 2.2008100e+03,\n",
       "       5.8846300e+03, 6.6548000e+02, 9.9878230e+04, 5.4871000e+02,\n",
       "       3.7074930e+04, 7.6742670e+04, 3.4434300e+03, 1.0562600e+03,\n",
       "       1.3188900e+03, 1.6172200e+03, 9.0347600e+03, 1.4587600e+03,\n",
       "       2.2553140e+04, 3.9613600e+03, 1.3105100e+03, 2.4980390e+04,\n",
       "       1.1193900e+03, 3.6112200e+03, 8.6075800e+03, 1.3960600e+03,\n",
       "       8.5865200e+03, 2.9477720e+04, 6.3907500e+03, 1.8058272e+05,\n",
       "       6.0454100e+03, 1.5990250e+04, 1.4774180e+04, 3.6924000e+02,\n",
       "       1.8180750e+04, 8.0447400e+03, 2.4793000e+02, 8.1145000e+02,\n",
       "       2.8155600e+03, 1.8064000e+03, 1.9737110e+04, 4.2218090e+04,\n",
       "       1.5451120e+04, 1.5469440e+04, 3.8263300e+03, 7.4550000e+02,\n",
       "       2.4249610e+04, 6.9439000e+02, 4.0527750e+04, 6.5506400e+03,\n",
       "       2.3556000e+02, 2.8943100e+03, 1.8439730e+04, 1.7297070e+04,\n",
       "       1.0598500e+03, 8.2444000e+02, 2.1372140e+04, 2.3759100e+03,\n",
       "       2.5171000e+02, 1.3982100e+03, 6.6597000e+02, 2.4104250e+04,\n",
       "       1.4161000e+03, 2.8445940e+04, 9.6478000e+02, 5.8685000e+02,\n",
       "       7.5372170e+04, 4.8785190e+04, 1.2328400e+03, 2.0927400e+03,\n",
       "       7.2502000e+02, 3.0431400e+03, 4.0254790e+04, 1.0401300e+03,\n",
       "       8.9210400e+03, 9.9960000e+02, 1.0191200e+03, 8.8018000e+02,\n",
       "       1.0125900e+03, 4.5585700e+04, 2.4462540e+04, 7.7930000e+02,\n",
       "       5.3757100e+04, 3.2968663e+05, 7.1987000e+02, 1.4820000e+02,\n",
       "       5.6614300e+03, 1.3441450e+04, 5.5031200e+03, 5.2955760e+04,\n",
       "       1.7144200e+03, 3.8871410e+04, 5.9605530e+04, 1.5278200e+03,\n",
       "       4.3785060e+04, 1.8669190e+04, 4.9007700e+03, 1.0877800e+03,\n",
       "       2.8091170e+04, 1.2791780e+04, 2.4655000e+02, 1.6425850e+04,\n",
       "       2.2926790e+04, 1.6892090e+04, 8.6956380e+04, 7.1625000e+02,\n",
       "       2.6939000e+03, 1.1275670e+04, 1.0196200e+03, 3.2065130e+04,\n",
       "       2.1363100e+03, 1.1562370e+04, 1.0159400e+03, 2.5548000e+02,\n",
       "       1.0212900e+03, 3.8413540e+04, 1.4410000e+03, 1.4456100e+03,\n",
       "       1.5581500e+03, 7.4731300e+03, 1.1305300e+03, 1.9443700e+03,\n",
       "       2.0091200e+03, 2.7440631e+05, 1.4551100e+03, 1.3477300e+03,\n",
       "       3.9143330e+04, 5.7307000e+02, 1.5535400e+03, 2.0822140e+04,\n",
       "       1.8830400e+03, 6.3290090e+04, 2.2286400e+03, 6.2765500e+03,\n",
       "       4.6706000e+02, 2.6031340e+04, 6.1396300e+03, 3.7332200e+04,\n",
       "       5.0569600e+03, 3.7379230e+04, 1.3058820e+04, 3.9627470e+04,\n",
       "       1.3139700e+03, 3.7590320e+04, 3.1532546e+05, 4.0430000e+03,\n",
       "       1.5754560e+04, 2.1880660e+04, 9.9742000e+02, 1.9974300e+03,\n",
       "       1.5258500e+03, 1.1000140e+04, 2.0375000e+02, 1.2407400e+03,\n",
       "       2.7992360e+04, 5.8489270e+04, 4.1902100e+03, 2.3348900e+03,\n",
       "       9.2390000e+02, 1.1114110e+04, 7.1266600e+03, 2.3550000e+02,\n",
       "       5.0346410e+04, 1.5562850e+04, 4.2191600e+03, 3.3404480e+04,\n",
       "       1.5535600e+03, 1.2173240e+04, 1.1330500e+03, 1.7061400e+03,\n",
       "       1.1635900e+03, 6.6562000e+02, 1.4109800e+03, 2.1256400e+03,\n",
       "       3.1576700e+03, 8.3411000e+02, 3.7203400e+03, 1.5510410e+04,\n",
       "       3.4737200e+03, 1.6914280e+04, 7.6523000e+02, 4.5240900e+03,\n",
       "       3.0701470e+04, 1.5192520e+04, 3.9722210e+04, 2.1431670e+04,\n",
       "       1.1948800e+03, 4.9528020e+04, 1.0992300e+03, 1.6081300e+04,\n",
       "       1.5536700e+04, 1.0125900e+03, 2.3352535e+05, 1.2829130e+04,\n",
       "       3.8437910e+04, 6.4820000e+03, 1.1430200e+03, 8.7320000e+02,\n",
       "       1.0556480e+04, 1.5044000e+03, 1.4609400e+03, 4.6864000e+03,\n",
       "       3.1806980e+04, 4.9511000e+02, 2.3767430e+04, 2.2361730e+05,\n",
       "       4.9479900e+03, 2.2249620e+04, 3.0881200e+03, 7.1069500e+03,\n",
       "       1.6306310e+04, 1.6299900e+04, 2.9832100e+03, 6.8316000e+02,\n",
       "       5.8500380e+04, 8.9645000e+02, 1.5555610e+04, 6.6366160e+04,\n",
       "       1.5358100e+03, 1.0582933e+05, 2.0631610e+04, 1.1264800e+03,\n",
       "       7.0824590e+04, 2.6280960e+04, 9.6168000e+03, 3.3152800e+03,\n",
       "       1.0838330e+04, 1.5025070e+04, 3.9699600e+04, 1.2390300e+03,\n",
       "       1.2429280e+04, 1.2382007e+05, 3.0962300e+03, 5.7204000e+02,\n",
       "       4.5327700e+03, 3.5505730e+04, 6.7313000e+03, 6.0576320e+04,\n",
       "       1.4118500e+03, 5.2004000e+02, 1.0128800e+03, 1.5886810e+05,\n",
       "       4.8267400e+03, 1.2176200e+03, 9.7066100e+03, 1.5358400e+03,\n",
       "       2.1162160e+04, 6.9307600e+03, 1.7316210e+04, 4.3756160e+04,\n",
       "       2.6421990e+04, 4.7237800e+03, 6.4475000e+02, 1.9954300e+03,\n",
       "       7.5259300e+03, 4.5445320e+04, 8.1946400e+03, 7.1895600e+03,\n",
       "       1.1793900e+03, 2.9261000e+02, 8.9884000e+02, 4.2370400e+03,\n",
       "       3.0375000e+02, 2.4081460e+04, 8.9345000e+02, 1.1397400e+03,\n",
       "       4.3334550e+04, 5.2959200e+03, 1.7707790e+04, 6.7931900e+03,\n",
       "       2.1246220e+04, 3.7214569e+05, 1.5283900e+03, 1.5100710e+04,\n",
       "       7.3136410e+04, 6.1004900e+03, 1.2337500e+03, 1.9838900e+03,\n",
       "       9.1265560e+04, 4.5542790e+04, 2.7520000e+02, 6.4119510e+04,\n",
       "       2.0047590e+04, 1.2941900e+04, 1.5226590e+04, 5.5165000e+02,\n",
       "       5.3883700e+04, 1.0253800e+03, 5.1767300e+03, 7.9383800e+03,\n",
       "       1.5316500e+04, 4.3564237e+05, 3.4852120e+04, 5.4776580e+04,\n",
       "       3.8713370e+04, 2.1619000e+02, 2.7325000e+02, 1.9563700e+03,\n",
       "       2.0656000e+02, 3.0761300e+03, 9.4213000e+02, 9.6709000e+02,\n",
       "       7.2994000e+02, 3.3252920e+04, 1.9668780e+04, 4.4215000e+02,\n",
       "       5.1595430e+04, 3.3042970e+04, 1.8484800e+03, 1.0243060e+04,\n",
       "       2.3236160e+04, 6.5183400e+03, 5.2504900e+03, 3.7882410e+04,\n",
       "       1.8508400e+03, 5.4880900e+03, 1.7755750e+04, 1.3276000e+03,\n",
       "       4.3109200e+03, 1.0183900e+03, 7.1374900e+03, 1.2457300e+03,\n",
       "       2.9090900e+03, 6.8372900e+03, 1.9234000e+03, 8.6883000e+02,\n",
       "       3.1786670e+04, 5.0585700e+04, 7.0018210e+04, 1.1763700e+03,\n",
       "       5.0396000e+02, 1.0697800e+03, 3.0783060e+04, 4.3398000e+03,\n",
       "       2.4655350e+04, 2.9005250e+04, 7.9502000e+02, 1.7052150e+04,\n",
       "       6.6588600e+03, 1.8912574e+05, 1.0702900e+03, 5.4427800e+03,\n",
       "       4.1880900e+03, 5.6310000e+03, 1.6177480e+04, 3.5889050e+04,\n",
       "       3.1236050e+04, 1.0785400e+03, 1.2841820e+04, 2.4873800e+03,\n",
       "       3.4556930e+04, 1.1343600e+03, 3.0287640e+04, 2.0055000e+02,\n",
       "       8.7106000e+02, 4.2397900e+03, 8.3268000e+03, 1.9525100e+03,\n",
       "       1.3069600e+03, 3.4496890e+04, 6.7947400e+03, 4.2012000e+02,\n",
       "       6.8558000e+02, 2.2680000e+02, 1.5550180e+04, 2.8097600e+04,\n",
       "       1.0349170e+04, 1.4193500e+03, 1.4341840e+04, 1.4024900e+03,\n",
       "       1.5607500e+03, 7.7593000e+02, 1.5228600e+03, 3.4026750e+05,\n",
       "       6.2616460e+04, 1.2027000e+03, 2.4224850e+04, 1.1679200e+03,\n",
       "       1.6402930e+04, 1.3270400e+03, 6.1530000e+04, 1.4389150e+04,\n",
       "       2.7797960e+04, 1.7937390e+04, 5.7000200e+03, 1.0189100e+04,\n",
       "       2.1092920e+04, 3.4023510e+04, 7.9125680e+04, 1.7145830e+04,\n",
       "       7.1417000e+02, 1.6509700e+03, 1.7218050e+04, 1.2798600e+03,\n",
       "       5.1200100e+03, 2.4607050e+04, 3.1583300e+03, 2.1657300e+03,\n",
       "       9.1932000e+02, 1.0538760e+04, 2.2761400e+03, 1.2699303e+05,\n",
       "       5.7597100e+03, 1.2587760e+05, 2.2002090e+04, 1.3400700e+03,\n",
       "       4.6193590e+04, 4.2075470e+04, 4.0581970e+04, 1.4017500e+03,\n",
       "       1.3536000e+03, 9.8439000e+02, 4.8246700e+04, 1.7666500e+03,\n",
       "       2.4909650e+04, 3.8374400e+03, 6.9374990e+04, 1.8616110e+04,\n",
       "       1.3030590e+04, 4.1191900e+03, 1.1793700e+03, 2.0019310e+04,\n",
       "       4.5822000e+02, 4.2372440e+04, 3.6602120e+04, 1.1000730e+04,\n",
       "       1.3341900e+03, 9.0051000e+02, 1.2045490e+04, 1.2198000e+03,\n",
       "       5.4886690e+04, 1.8955280e+04, 3.1883300e+03, 3.7241200e+03,\n",
       "       4.2929910e+04, 9.1745000e+02, 2.0905300e+03, 5.9181930e+04,\n",
       "       1.7142160e+04, 1.9812000e+02, 1.2587700e+03, 2.9725340e+04,\n",
       "       4.8372000e+02, 7.0416000e+02, 1.4516900e+03, 1.6631030e+04,\n",
       "       1.0146500e+03, 5.5326800e+03, 1.5373900e+03, 1.9780790e+04,\n",
       "       7.4637000e+02, 2.4674300e+04, 4.3781000e+02, 7.8005660e+04,\n",
       "       1.1764600e+03, 1.3264800e+03, 3.4328700e+03, 4.1084620e+04,\n",
       "       1.5143900e+03, 1.3739510e+04, 7.9662000e+02, 9.9408800e+03,\n",
       "       2.8294100e+03, 5.0138500e+03, 2.4128470e+04, 1.4837600e+03,\n",
       "       5.4776580e+04, 5.0482400e+03, 4.5982800e+03, 1.3459400e+03,\n",
       "       3.6420110e+04, 3.7134000e+02, 2.4307900e+03, 1.0416000e+03,\n",
       "       3.4486083e+05, 8.3359000e+02, 1.3547500e+03, 2.0533500e+03,\n",
       "       2.4459844e+05, 1.3881000e+03, 2.3853700e+04, 1.0626800e+03,\n",
       "       6.0898000e+02, 2.7634300e+03, 1.7986000e+03, 1.3462660e+04,\n",
       "       1.3819400e+03, 3.0474900e+04, 5.8689600e+03, 4.3099540e+04,\n",
       "       1.2281000e+02, 2.5870900e+03, 2.8332690e+04, 2.5199830e+04,\n",
       "       1.6407730e+04, 1.3998000e+03, 3.7800740e+04, 1.7140620e+04,\n",
       "       9.0489000e+02, 9.4376000e+02, 2.0248300e+03, 1.4291064e+05,\n",
       "       6.0819000e+02, 8.1061000e+02, 1.5511404e+05, 1.7913700e+03,\n",
       "       7.2928300e+03, 1.4247500e+04, 1.0760320e+04, 5.9015200e+03,\n",
       "       1.6365800e+03, 3.3732160e+04, 3.3959250e+04, 1.5246100e+03,\n",
       "       6.5933000e+02, 1.1859700e+03, 1.6504200e+03, 3.5485410e+04,\n",
       "       4.7153960e+04, 3.0616430e+04, 9.7001000e+02, 1.0667240e+04,\n",
       "       1.0912640e+04, 1.3023000e+03, 5.6622940e+04, 8.9120000e+02,\n",
       "       6.2357200e+03, 1.0323300e+03, 1.3862000e+03, 1.2786317e+05,\n",
       "       3.2368670e+04, 1.8308100e+03, 1.8507500e+03, 6.1206260e+04,\n",
       "       2.9747740e+04, 9.1496800e+03, 2.4422070e+04, 4.2975670e+04,\n",
       "       1.8273900e+03, 2.9723200e+03, 1.8606440e+04, 9.3685100e+03,\n",
       "       4.4034880e+04, 2.2048500e+03, 7.8216200e+03, 4.7272000e+02,\n",
       "       6.2811700e+03, 1.7727570e+04, 1.0181700e+03, 1.3385100e+03,\n",
       "       9.8058000e+02, 1.3686610e+04, 2.1648969e+05, 1.1926360e+04,\n",
       "       3.0507620e+04, 1.5189260e+04, 3.5588690e+04, 2.8209050e+04,\n",
       "       2.3063760e+04, 4.0569880e+04, 7.0689700e+03, 1.5778600e+03,\n",
       "       1.4536090e+04, 1.1029460e+04, 8.7194400e+03, 7.1859000e+02,\n",
       "       3.8250650e+04, 1.0925900e+04, 1.0397100e+03, 1.2587760e+05,\n",
       "       1.5794950e+04, 3.4489212e+05, 4.2636800e+03, 1.0523400e+03,\n",
       "       2.2467700e+03, 6.6406000e+02, 3.4035120e+04, 6.1445600e+03,\n",
       "       2.2611590e+04, 1.2369300e+03, 1.2297700e+03, 8.6929000e+02,\n",
       "       3.6299750e+04, 2.5349800e+03, 3.6643700e+03, 2.0596300e+03,\n",
       "       1.6388100e+03, 1.2542800e+03, 3.5718100e+03, 4.2560440e+04,\n",
       "       4.9719090e+04, 9.6655000e+02, 3.1908600e+03, 9.6340360e+04,\n",
       "       2.1688300e+03, 1.8377000e+03, 1.3374200e+03, 2.0580940e+04,\n",
       "       7.2892800e+03, 1.9453300e+03, 1.3133300e+03, 1.1586500e+03,\n",
       "       2.3809020e+04, 2.8098900e+04, 1.6885010e+04, 1.5070200e+04,\n",
       "       1.1034840e+04, 1.1289000e+03, 4.0051340e+04, 7.4860630e+04,\n",
       "       3.1982030e+04, 4.3944700e+03, 9.1000300e+03, 7.5959800e+03,\n",
       "       6.0555900e+03, 9.4878700e+03, 3.8946350e+04, 1.0390700e+03,\n",
       "       4.1954300e+04, 5.0627400e+03, 2.9838500e+03, 6.5890470e+04,\n",
       "       5.3434000e+02, 8.1769500e+03, 2.6520450e+04, 1.0480430e+04,\n",
       "       1.5077740e+04, 4.8108800e+03, 7.1549040e+04, 3.6365800e+03,\n",
       "       8.6719300e+03, 2.7386350e+04, 7.4492900e+03, 2.4944970e+04,\n",
       "       5.0341620e+04, 2.5964460e+04, 2.6703300e+03, 3.3084670e+04,\n",
       "       2.8520780e+04, 1.5494000e+03, 4.1638160e+04, 3.0931470e+04,\n",
       "       6.6412300e+03, 9.2419000e+02, 8.5237000e+02, 3.0747790e+04,\n",
       "       6.1107840e+04, 1.1049100e+03, 5.4965000e+02, 1.4516630e+04,\n",
       "       2.1564690e+04, 4.5874890e+04, 9.5792000e+02, 9.0423000e+02,\n",
       "       1.0072900e+03, 1.2212720e+05, 3.5339310e+04, 3.4867320e+04,\n",
       "       2.5518020e+04, 1.5694880e+04, 2.5499000e+02, 9.0410000e+02,\n",
       "       2.8917100e+03, 2.6131590e+04, 2.1606940e+04])"
      ]
     },
     "execution_count": 892,
     "metadata": {},
     "output_type": "execute_result"
    }
   ],
   "source": [
    "y_pred_test"
   ]
  },
  {
   "cell_type": "code",
   "execution_count": 893,
   "metadata": {},
   "outputs": [],
   "source": [
    "a=pd.DataFrame(y_pred_test)"
   ]
  },
  {
   "cell_type": "code",
   "execution_count": null,
   "metadata": {},
   "outputs": [],
   "source": []
  },
  {
   "cell_type": "code",
   "execution_count": 894,
   "metadata": {},
   "outputs": [],
   "source": [
    "y_test.reset_index(inplace=True)"
   ]
  },
  {
   "cell_type": "code",
   "execution_count": 895,
   "metadata": {},
   "outputs": [],
   "source": [
    "x=y_test.join(a)"
   ]
  },
  {
   "cell_type": "code",
   "execution_count": 896,
   "metadata": {},
   "outputs": [],
   "source": [
    "x.drop(columns='index',inplace=True)"
   ]
  },
  {
   "cell_type": "code",
   "execution_count": 897,
   "metadata": {},
   "outputs": [
    {
     "data": {
      "text/html": [
       "<div>\n",
       "<style scoped>\n",
       "    .dataframe tbody tr th:only-of-type {\n",
       "        vertical-align: middle;\n",
       "    }\n",
       "\n",
       "    .dataframe tbody tr th {\n",
       "        vertical-align: top;\n",
       "    }\n",
       "\n",
       "    .dataframe thead th {\n",
       "        text-align: right;\n",
       "    }\n",
       "</style>\n",
       "<table border=\"1\" class=\"dataframe\">\n",
       "  <thead>\n",
       "    <tr style=\"text-align: right;\">\n",
       "      <th></th>\n",
       "      <th>duration</th>\n",
       "      <th>Predicted Duration</th>\n",
       "    </tr>\n",
       "  </thead>\n",
       "  <tbody>\n",
       "    <tr>\n",
       "      <th>0</th>\n",
       "      <td>140.0</td>\n",
       "      <td>233.21</td>\n",
       "    </tr>\n",
       "    <tr>\n",
       "      <th>1</th>\n",
       "      <td>695.0</td>\n",
       "      <td>1299.68</td>\n",
       "    </tr>\n",
       "    <tr>\n",
       "      <th>2</th>\n",
       "      <td>1152.0</td>\n",
       "      <td>399.68</td>\n",
       "    </tr>\n",
       "    <tr>\n",
       "      <th>3</th>\n",
       "      <td>44153.0</td>\n",
       "      <td>18259.92</td>\n",
       "    </tr>\n",
       "    <tr>\n",
       "      <th>4</th>\n",
       "      <td>2146.0</td>\n",
       "      <td>1596.08</td>\n",
       "    </tr>\n",
       "    <tr>\n",
       "      <th>...</th>\n",
       "      <td>...</td>\n",
       "      <td>...</td>\n",
       "    </tr>\n",
       "    <tr>\n",
       "      <th>946</th>\n",
       "      <td>297.0</td>\n",
       "      <td>254.99</td>\n",
       "    </tr>\n",
       "    <tr>\n",
       "      <th>947</th>\n",
       "      <td>1013.0</td>\n",
       "      <td>904.10</td>\n",
       "    </tr>\n",
       "    <tr>\n",
       "      <th>948</th>\n",
       "      <td>1584.0</td>\n",
       "      <td>2891.71</td>\n",
       "    </tr>\n",
       "    <tr>\n",
       "      <th>949</th>\n",
       "      <td>526.0</td>\n",
       "      <td>26131.59</td>\n",
       "    </tr>\n",
       "    <tr>\n",
       "      <th>950</th>\n",
       "      <td>44364.0</td>\n",
       "      <td>21606.94</td>\n",
       "    </tr>\n",
       "  </tbody>\n",
       "</table>\n",
       "<p>951 rows × 2 columns</p>\n",
       "</div>"
      ],
      "text/plain": [
       "     duration  Predicted Duration\n",
       "0       140.0              233.21\n",
       "1       695.0             1299.68\n",
       "2      1152.0              399.68\n",
       "3     44153.0            18259.92\n",
       "4      2146.0             1596.08\n",
       "..        ...                 ...\n",
       "946     297.0              254.99\n",
       "947    1013.0              904.10\n",
       "948    1584.0             2891.71\n",
       "949     526.0            26131.59\n",
       "950   44364.0            21606.94\n",
       "\n",
       "[951 rows x 2 columns]"
      ]
     },
     "execution_count": 897,
     "metadata": {},
     "output_type": "execute_result"
    }
   ],
   "source": [
    "x.rename({0:'Predicted Duration' },axis=1)"
   ]
  },
  {
   "cell_type": "code",
   "execution_count": 898,
   "metadata": {},
   "outputs": [
    {
     "data": {
      "text/plain": [
       "0       70543.0\n",
       "1       72197.0\n",
       "2       74183.0\n",
       "3       70553.0\n",
       "4       70551.0\n",
       "         ...   \n",
       "4750    72156.0\n",
       "4751    70551.0\n",
       "4752    72148.0\n",
       "4753    73720.0\n",
       "4754    73723.0\n",
       "Name: cpt_code, Length: 4755, dtype: float64"
      ]
     },
     "execution_count": 898,
     "metadata": {},
     "output_type": "execute_result"
    }
   ],
   "source": [
    "dummies.cpt_code"
   ]
  },
  {
   "cell_type": "markdown",
   "metadata": {},
   "source": [
    "# Classification"
   ]
  },
  {
   "cell_type": "code",
   "execution_count": 899,
   "metadata": {
    "scrolled": true
   },
   "outputs": [
    {
     "data": {
      "text/plain": [
       "acc_itn                   int64\n",
       "priority                 object\n",
       "acct                      int64\n",
       "stp_dtime        datetime64[ns]\n",
       "ord_for_dtime    datetime64[ns]\n",
       "dept                     object\n",
       "proc_no                   int64\n",
       "cpt_code                float64\n",
       "pt_adm_no_ext             int64\n",
       "duration                float64\n",
       "dtype: object"
      ]
     },
     "execution_count": 899,
     "metadata": {},
     "output_type": "execute_result"
    }
   ],
   "source": [
    "df.dtypes"
   ]
  },
  {
   "cell_type": "code",
   "execution_count": 900,
   "metadata": {},
   "outputs": [],
   "source": [
    "dummies['cpt_code'] = dummies['cpt_code'].astype('category')"
   ]
  },
  {
   "cell_type": "code",
   "execution_count": 901,
   "metadata": {},
   "outputs": [],
   "source": [
    "X_new=dummies.drop(labels=['cpt_code', 'acct', 'ord_for_dtime','stp_dtime'],axis=1)\n",
    "y_new=dummies[[\"cpt_code\"]]"
   ]
  },
  {
   "cell_type": "code",
   "execution_count": 902,
   "metadata": {},
   "outputs": [],
   "source": [
    "X_train, X_test, y_train, y_test = train_test_split(X_new,y_new,test_size=0.50,random_state=42)"
   ]
  },
  {
   "cell_type": "code",
   "execution_count": 903,
   "metadata": {},
   "outputs": [],
   "source": [
    "from sklearn.tree import DecisionTreeClassifier \n",
    "from sklearn.metrics import classification_report"
   ]
  },
  {
   "cell_type": "code",
   "execution_count": 904,
   "metadata": {},
   "outputs": [],
   "source": [
    "dt= DecisionTreeClassifier()"
   ]
  },
  {
   "cell_type": "code",
   "execution_count": 905,
   "metadata": {},
   "outputs": [
    {
     "data": {
      "text/plain": [
       "DecisionTreeClassifier()"
      ]
     },
     "execution_count": 905,
     "metadata": {},
     "output_type": "execute_result"
    }
   ],
   "source": [
    "dt.fit(X_train, y_train)"
   ]
  },
  {
   "cell_type": "code",
   "execution_count": 906,
   "metadata": {},
   "outputs": [],
   "source": [
    "y_pred_tree_test=dt.predict(X_test)"
   ]
  },
  {
   "cell_type": "code",
   "execution_count": 907,
   "metadata": {},
   "outputs": [],
   "source": [
    "y_pred_tree_train=dt.predict(X_train)"
   ]
  },
  {
   "cell_type": "code",
   "execution_count": 908,
   "metadata": {},
   "outputs": [
    {
     "data": {
      "text/html": [
       "<div>\n",
       "<style scoped>\n",
       "    .dataframe tbody tr th:only-of-type {\n",
       "        vertical-align: middle;\n",
       "    }\n",
       "\n",
       "    .dataframe tbody tr th {\n",
       "        vertical-align: top;\n",
       "    }\n",
       "\n",
       "    .dataframe thead th {\n",
       "        text-align: right;\n",
       "    }\n",
       "</style>\n",
       "<table border=\"1\" class=\"dataframe\">\n",
       "  <thead>\n",
       "    <tr style=\"text-align: right;\">\n",
       "      <th></th>\n",
       "      <th>cpt_code</th>\n",
       "    </tr>\n",
       "  </thead>\n",
       "  <tbody>\n",
       "    <tr>\n",
       "      <th>731</th>\n",
       "      <td>70553.0</td>\n",
       "    </tr>\n",
       "    <tr>\n",
       "      <th>2602</th>\n",
       "      <td>74183.0</td>\n",
       "    </tr>\n",
       "    <tr>\n",
       "      <th>1965</th>\n",
       "      <td>70551.0</td>\n",
       "    </tr>\n",
       "    <tr>\n",
       "      <th>4038</th>\n",
       "      <td>73221.0</td>\n",
       "    </tr>\n",
       "    <tr>\n",
       "      <th>1497</th>\n",
       "      <td>70549.0</td>\n",
       "    </tr>\n",
       "    <tr>\n",
       "      <th>...</th>\n",
       "      <td>...</td>\n",
       "    </tr>\n",
       "    <tr>\n",
       "      <th>3994</th>\n",
       "      <td>70553.0</td>\n",
       "    </tr>\n",
       "    <tr>\n",
       "      <th>2581</th>\n",
       "      <td>70544.0</td>\n",
       "    </tr>\n",
       "    <tr>\n",
       "      <th>3365</th>\n",
       "      <td>70551.0</td>\n",
       "    </tr>\n",
       "    <tr>\n",
       "      <th>4740</th>\n",
       "      <td>73720.0</td>\n",
       "    </tr>\n",
       "    <tr>\n",
       "      <th>1587</th>\n",
       "      <td>70551.0</td>\n",
       "    </tr>\n",
       "  </tbody>\n",
       "</table>\n",
       "<p>2378 rows × 1 columns</p>\n",
       "</div>"
      ],
      "text/plain": [
       "     cpt_code\n",
       "731   70553.0\n",
       "2602  74183.0\n",
       "1965  70551.0\n",
       "4038  73221.0\n",
       "1497  70549.0\n",
       "...       ...\n",
       "3994  70553.0\n",
       "2581  70544.0\n",
       "3365  70551.0\n",
       "4740  73720.0\n",
       "1587  70551.0\n",
       "\n",
       "[2378 rows x 1 columns]"
      ]
     },
     "execution_count": 908,
     "metadata": {},
     "output_type": "execute_result"
    }
   ],
   "source": [
    "y_test"
   ]
  },
  {
   "cell_type": "code",
   "execution_count": 909,
   "metadata": {},
   "outputs": [
    {
     "data": {
      "text/plain": [
       "array([70553., 74183., 70551., ..., 70551., 73720., 70551.])"
      ]
     },
     "execution_count": 909,
     "metadata": {},
     "output_type": "execute_result"
    }
   ],
   "source": [
    "y_pred_tree_test"
   ]
  },
  {
   "cell_type": "code",
   "execution_count": 910,
   "metadata": {},
   "outputs": [],
   "source": [
    "y=pd.DataFrame(y_pred_tree_test)"
   ]
  },
  {
   "cell_type": "code",
   "execution_count": 911,
   "metadata": {},
   "outputs": [],
   "source": [
    "y_test.reset_index(inplace=True)"
   ]
  },
  {
   "cell_type": "code",
   "execution_count": 912,
   "metadata": {},
   "outputs": [],
   "source": [
    "zz=y_test.join(y)"
   ]
  },
  {
   "cell_type": "code",
   "execution_count": 913,
   "metadata": {},
   "outputs": [
    {
     "data": {
      "text/html": [
       "<div>\n",
       "<style scoped>\n",
       "    .dataframe tbody tr th:only-of-type {\n",
       "        vertical-align: middle;\n",
       "    }\n",
       "\n",
       "    .dataframe tbody tr th {\n",
       "        vertical-align: top;\n",
       "    }\n",
       "\n",
       "    .dataframe thead th {\n",
       "        text-align: right;\n",
       "    }\n",
       "</style>\n",
       "<table border=\"1\" class=\"dataframe\">\n",
       "  <thead>\n",
       "    <tr style=\"text-align: right;\">\n",
       "      <th></th>\n",
       "      <th>index</th>\n",
       "      <th>cpt_code</th>\n",
       "      <th>0</th>\n",
       "    </tr>\n",
       "  </thead>\n",
       "  <tbody>\n",
       "    <tr>\n",
       "      <th>0</th>\n",
       "      <td>731</td>\n",
       "      <td>70553.0</td>\n",
       "      <td>70553.0</td>\n",
       "    </tr>\n",
       "    <tr>\n",
       "      <th>1</th>\n",
       "      <td>2602</td>\n",
       "      <td>74183.0</td>\n",
       "      <td>74183.0</td>\n",
       "    </tr>\n",
       "    <tr>\n",
       "      <th>2</th>\n",
       "      <td>1965</td>\n",
       "      <td>70551.0</td>\n",
       "      <td>70551.0</td>\n",
       "    </tr>\n",
       "    <tr>\n",
       "      <th>3</th>\n",
       "      <td>4038</td>\n",
       "      <td>73221.0</td>\n",
       "      <td>73221.0</td>\n",
       "    </tr>\n",
       "    <tr>\n",
       "      <th>4</th>\n",
       "      <td>1497</td>\n",
       "      <td>70549.0</td>\n",
       "      <td>70549.0</td>\n",
       "    </tr>\n",
       "    <tr>\n",
       "      <th>...</th>\n",
       "      <td>...</td>\n",
       "      <td>...</td>\n",
       "      <td>...</td>\n",
       "    </tr>\n",
       "    <tr>\n",
       "      <th>2373</th>\n",
       "      <td>3994</td>\n",
       "      <td>70553.0</td>\n",
       "      <td>70553.0</td>\n",
       "    </tr>\n",
       "    <tr>\n",
       "      <th>2374</th>\n",
       "      <td>2581</td>\n",
       "      <td>70544.0</td>\n",
       "      <td>70544.0</td>\n",
       "    </tr>\n",
       "    <tr>\n",
       "      <th>2375</th>\n",
       "      <td>3365</td>\n",
       "      <td>70551.0</td>\n",
       "      <td>70551.0</td>\n",
       "    </tr>\n",
       "    <tr>\n",
       "      <th>2376</th>\n",
       "      <td>4740</td>\n",
       "      <td>73720.0</td>\n",
       "      <td>73720.0</td>\n",
       "    </tr>\n",
       "    <tr>\n",
       "      <th>2377</th>\n",
       "      <td>1587</td>\n",
       "      <td>70551.0</td>\n",
       "      <td>70551.0</td>\n",
       "    </tr>\n",
       "  </tbody>\n",
       "</table>\n",
       "<p>2378 rows × 3 columns</p>\n",
       "</div>"
      ],
      "text/plain": [
       "      index cpt_code        0\n",
       "0       731  70553.0  70553.0\n",
       "1      2602  74183.0  74183.0\n",
       "2      1965  70551.0  70551.0\n",
       "3      4038  73221.0  73221.0\n",
       "4      1497  70549.0  70549.0\n",
       "...     ...      ...      ...\n",
       "2373   3994  70553.0  70553.0\n",
       "2374   2581  70544.0  70544.0\n",
       "2375   3365  70551.0  70551.0\n",
       "2376   4740  73720.0  73720.0\n",
       "2377   1587  70551.0  70551.0\n",
       "\n",
       "[2378 rows x 3 columns]"
      ]
     },
     "execution_count": 913,
     "metadata": {},
     "output_type": "execute_result"
    }
   ],
   "source": [
    "zz"
   ]
  },
  {
   "cell_type": "code",
   "execution_count": 914,
   "metadata": {},
   "outputs": [
    {
     "name": "stdout",
     "output_type": "stream",
     "text": [
      "Accuracy for the train data using the logistic regression model is 1.0\n"
     ]
    }
   ],
   "source": [
    "from sklearn.metrics import accuracy_score\n",
    "print('Accuracy for the train data using the logistic regression model is',accuracy_score(y_pred_tree_train, y_train))\n",
    "#print('Accuracy for the test data using the logistic regression model is',accuracy_score(y_pred_tree_test, y_test))"
   ]
  },
  {
   "cell_type": "code",
   "execution_count": 915,
   "metadata": {},
   "outputs": [
    {
     "data": {
      "text/plain": [
       "1.0"
      ]
     },
     "execution_count": 915,
     "metadata": {},
     "output_type": "execute_result"
    }
   ],
   "source": [
    "dt.score(X_train,y_train)"
   ]
  },
  {
   "cell_type": "code",
   "execution_count": 917,
   "metadata": {},
   "outputs": [
    {
     "data": {
      "text/plain": [
       "acc_itn                       int64\n",
       "acct                          int64\n",
       "stp_dtime            datetime64[ns]\n",
       "ord_for_dtime        datetime64[ns]\n",
       "proc_no                       int64\n",
       "cpt_code                   category\n",
       "pt_adm_no_ext                 int64\n",
       "duration                    float64\n",
       "priority_ASAP                 uint8\n",
       "priority_As soon              uint8\n",
       "priority_Neuro                uint8\n",
       "priority_PRIOR 1              uint8\n",
       "priority_PRTY 1               uint8\n",
       "priority_Priority             uint8\n",
       "priority_ROUTINE              uint8\n",
       "priority_Routine              uint8\n",
       "priority_SCHEDULE             uint8\n",
       "priority_STAT                 uint8\n",
       "priority_Schedule             uint8\n",
       "priority_Stat                 uint8\n",
       "dtype: object"
      ]
     },
     "execution_count": 917,
     "metadata": {},
     "output_type": "execute_result"
    }
   ],
   "source": [
    "dummies.dtypes"
   ]
  }
 ],
 "metadata": {
  "kernelspec": {
   "display_name": "Python 3",
   "language": "python",
   "name": "python3"
  },
  "language_info": {
   "codemirror_mode": {
    "name": "ipython",
    "version": 3
   },
   "file_extension": ".py",
   "mimetype": "text/x-python",
   "name": "python",
   "nbconvert_exporter": "python",
   "pygments_lexer": "ipython3",
   "version": "3.7.7"
  }
 },
 "nbformat": 4,
 "nbformat_minor": 4
}
