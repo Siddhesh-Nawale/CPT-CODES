{
 "cells": [
  {
   "cell_type": "code",
   "execution_count": 359,
   "metadata": {},
   "outputs": [],
   "source": [
    "import pandas as pd\n",
    "import numpy as np\n",
    "import seaborn as sb\n",
    "import matplotlib.pyplot as plt \n",
    "import missingno as mo\n",
    "import warnings\n",
    "warnings.filterwarnings('ignore')\n",
    "%matplotlib inline\n",
    "\n",
    "from sklearn.model_selection import train_test_split"
   ]
  },
  {
   "cell_type": "code",
   "execution_count": 360,
   "metadata": {},
   "outputs": [],
   "source": [
    "df=pd.read_csv('data_from_MRI.csv')"
   ]
  },
  {
   "cell_type": "code",
   "execution_count": 361,
   "metadata": {},
   "outputs": [
    {
     "data": {
      "text/html": [
       "<div>\n",
       "<style scoped>\n",
       "    .dataframe tbody tr th:only-of-type {\n",
       "        vertical-align: middle;\n",
       "    }\n",
       "\n",
       "    .dataframe tbody tr th {\n",
       "        vertical-align: top;\n",
       "    }\n",
       "\n",
       "    .dataframe thead th {\n",
       "        text-align: right;\n",
       "    }\n",
       "</style>\n",
       "<table border=\"1\" class=\"dataframe\">\n",
       "  <thead>\n",
       "    <tr style=\"text-align: right;\">\n",
       "      <th></th>\n",
       "      <th>ID</th>\n",
       "      <th>acc_itn</th>\n",
       "      <th>priority</th>\n",
       "      <th>acct</th>\n",
       "      <th>stp_dtime</th>\n",
       "      <th>ord_for_dtime</th>\n",
       "      <th>dept</th>\n",
       "      <th>proc_no</th>\n",
       "      <th>reason1</th>\n",
       "      <th>cpt_code</th>\n",
       "      <th>pt_adm_no_ext</th>\n",
       "    </tr>\n",
       "  </thead>\n",
       "  <tbody>\n",
       "    <tr>\n",
       "      <th>0</th>\n",
       "      <td>1</td>\n",
       "      <td>7231535</td>\n",
       "      <td>Routine</td>\n",
       "      <td>4004017060</td>\n",
       "      <td>12-04-2017 17:11</td>\n",
       "      <td>12-04-2017 01:56</td>\n",
       "      <td>MRI</td>\n",
       "      <td>1601</td>\n",
       "      <td>lip abscess</td>\n",
       "      <td>70543.0</td>\n",
       "      <td>4004017060</td>\n",
       "    </tr>\n",
       "    <tr>\n",
       "      <th>1</th>\n",
       "      <td>2</td>\n",
       "      <td>7231655</td>\n",
       "      <td>Routine</td>\n",
       "      <td>4004017134</td>\n",
       "      <td>13-04-2017 17:20</td>\n",
       "      <td>12-04-2017 08:06</td>\n",
       "      <td>MRI</td>\n",
       "      <td>1602</td>\n",
       "      <td>large sacral decubitus</td>\n",
       "      <td>72197.0</td>\n",
       "      <td>4004017134</td>\n",
       "    </tr>\n",
       "    <tr>\n",
       "      <th>2</th>\n",
       "      <td>3</td>\n",
       "      <td>7231760</td>\n",
       "      <td>Routine</td>\n",
       "      <td>6223112189</td>\n",
       "      <td>12-04-2017 22:07</td>\n",
       "      <td>12-04-2017 09:26</td>\n",
       "      <td>MRI</td>\n",
       "      <td>1604</td>\n",
       "      <td>panc abnormality</td>\n",
       "      <td>74183.0</td>\n",
       "      <td>6223112189</td>\n",
       "    </tr>\n",
       "    <tr>\n",
       "      <th>3</th>\n",
       "      <td>4</td>\n",
       "      <td>7231762</td>\n",
       "      <td>Routine</td>\n",
       "      <td>6223112302</td>\n",
       "      <td>12-04-2017 16:16</td>\n",
       "      <td>12-04-2017 09:32</td>\n",
       "      <td>MRI</td>\n",
       "      <td>1554</td>\n",
       "      <td>rule out CNS mets</td>\n",
       "      <td>70553.0</td>\n",
       "      <td>6223112302</td>\n",
       "    </tr>\n",
       "    <tr>\n",
       "      <th>4</th>\n",
       "      <td>5</td>\n",
       "      <td>7231812</td>\n",
       "      <td>Routine</td>\n",
       "      <td>6223108688</td>\n",
       "      <td>12-04-2017 21:52</td>\n",
       "      <td>12-04-2017 09:59</td>\n",
       "      <td>MRI</td>\n",
       "      <td>447</td>\n",
       "      <td>Syncope/dizziness</td>\n",
       "      <td>70551.0</td>\n",
       "      <td>6223108688</td>\n",
       "    </tr>\n",
       "  </tbody>\n",
       "</table>\n",
       "</div>"
      ],
      "text/plain": [
       "   ID  acc_itn  priority        acct         stp_dtime     ord_for_dtime dept  \\\n",
       "0   1  7231535  Routine   4004017060  12-04-2017 17:11  12-04-2017 01:56  MRI   \n",
       "1   2  7231655  Routine   4004017134  13-04-2017 17:20  12-04-2017 08:06  MRI   \n",
       "2   3  7231760  Routine   6223112189  12-04-2017 22:07  12-04-2017 09:26  MRI   \n",
       "3   4  7231762  Routine   6223112302  12-04-2017 16:16  12-04-2017 09:32  MRI   \n",
       "4   5  7231812  Routine   6223108688  12-04-2017 21:52  12-04-2017 09:59  MRI   \n",
       "\n",
       "   proc_no                 reason1  cpt_code  pt_adm_no_ext  \n",
       "0     1601             lip abscess   70543.0     4004017060  \n",
       "1     1602  large sacral decubitus   72197.0     4004017134  \n",
       "2     1604        panc abnormality   74183.0     6223112189  \n",
       "3     1554       rule out CNS mets   70553.0     6223112302  \n",
       "4      447       Syncope/dizziness   70551.0     6223108688  "
      ]
     },
     "execution_count": 361,
     "metadata": {},
     "output_type": "execute_result"
    }
   ],
   "source": [
    "df.head()"
   ]
  },
  {
   "cell_type": "code",
   "execution_count": 362,
   "metadata": {},
   "outputs": [
    {
     "data": {
      "text/plain": [
       "Index(['ID', 'acc_itn', 'priority', 'acct', 'stp_dtime', 'ord_for_dtime',\n",
       "       'dept', 'proc_no', 'reason1', 'cpt_code', 'pt_adm_no_ext'],\n",
       "      dtype='object')"
      ]
     },
     "execution_count": 362,
     "metadata": {},
     "output_type": "execute_result"
    }
   ],
   "source": [
    "df.columns"
   ]
  },
  {
   "cell_type": "code",
   "execution_count": 363,
   "metadata": {},
   "outputs": [
    {
     "data": {
      "text/plain": [
       "(4755, 11)"
      ]
     },
     "execution_count": 363,
     "metadata": {},
     "output_type": "execute_result"
    }
   ],
   "source": [
    "# 4755 rows and 11 columns\n",
    "df.shape"
   ]
  },
  {
   "cell_type": "markdown",
   "metadata": {},
   "source": [
    "ID and acc_itn columns don't add any value to the target variable. time columns are objects so should be converted to datetime "
   ]
  },
  {
   "cell_type": "code",
   "execution_count": 364,
   "metadata": {},
   "outputs": [
    {
     "name": "stdout",
     "output_type": "stream",
     "text": [
      "<class 'pandas.core.frame.DataFrame'>\n",
      "RangeIndex: 4755 entries, 0 to 4754\n",
      "Data columns (total 11 columns):\n",
      " #   Column         Non-Null Count  Dtype  \n",
      "---  ------         --------------  -----  \n",
      " 0   ID             4755 non-null   int64  \n",
      " 1   acc_itn        4755 non-null   int64  \n",
      " 2   priority       4755 non-null   object \n",
      " 3   acct           4755 non-null   int64  \n",
      " 4   stp_dtime      4755 non-null   object \n",
      " 5   ord_for_dtime  4755 non-null   object \n",
      " 6   dept           4755 non-null   object \n",
      " 7   proc_no        4755 non-null   int64  \n",
      " 8   reason1        4337 non-null   object \n",
      " 9   cpt_code       4751 non-null   float64\n",
      " 10  pt_adm_no_ext  4755 non-null   int64  \n",
      "dtypes: float64(1), int64(5), object(5)\n",
      "memory usage: 408.8+ KB\n"
     ]
    }
   ],
   "source": [
    "# Info about columns. \n",
    "df.info()"
   ]
  },
  {
   "cell_type": "code",
   "execution_count": 365,
   "metadata": {},
   "outputs": [
    {
     "data": {
      "text/html": [
       "<div>\n",
       "<style scoped>\n",
       "    .dataframe tbody tr th:only-of-type {\n",
       "        vertical-align: middle;\n",
       "    }\n",
       "\n",
       "    .dataframe tbody tr th {\n",
       "        vertical-align: top;\n",
       "    }\n",
       "\n",
       "    .dataframe thead th {\n",
       "        text-align: right;\n",
       "    }\n",
       "</style>\n",
       "<table border=\"1\" class=\"dataframe\">\n",
       "  <thead>\n",
       "    <tr style=\"text-align: right;\">\n",
       "      <th></th>\n",
       "      <th>ID</th>\n",
       "      <th>acc_itn</th>\n",
       "      <th>acct</th>\n",
       "      <th>proc_no</th>\n",
       "      <th>cpt_code</th>\n",
       "      <th>pt_adm_no_ext</th>\n",
       "    </tr>\n",
       "  </thead>\n",
       "  <tbody>\n",
       "    <tr>\n",
       "      <th>count</th>\n",
       "      <td>4755.000000</td>\n",
       "      <td>4.755000e+03</td>\n",
       "      <td>4.755000e+03</td>\n",
       "      <td>4755.000000</td>\n",
       "      <td>4751.00000</td>\n",
       "      <td>4.755000e+03</td>\n",
       "    </tr>\n",
       "    <tr>\n",
       "      <th>mean</th>\n",
       "      <td>2378.000000</td>\n",
       "      <td>7.419800e+06</td>\n",
       "      <td>5.598179e+09</td>\n",
       "      <td>1020.975394</td>\n",
       "      <td>71489.08314</td>\n",
       "      <td>5.598179e+09</td>\n",
       "    </tr>\n",
       "    <tr>\n",
       "      <th>std</th>\n",
       "      <td>1372.794595</td>\n",
       "      <td>1.100040e+05</td>\n",
       "      <td>9.908031e+08</td>\n",
       "      <td>575.678701</td>\n",
       "      <td>1381.36143</td>\n",
       "      <td>9.908031e+08</td>\n",
       "    </tr>\n",
       "    <tr>\n",
       "      <th>min</th>\n",
       "      <td>1.000000</td>\n",
       "      <td>7.231535e+06</td>\n",
       "      <td>3.100000e+09</td>\n",
       "      <td>446.000000</td>\n",
       "      <td>70540.00000</td>\n",
       "      <td>3.100000e+09</td>\n",
       "    </tr>\n",
       "    <tr>\n",
       "      <th>25%</th>\n",
       "      <td>1189.500000</td>\n",
       "      <td>7.325926e+06</td>\n",
       "      <td>4.004063e+09</td>\n",
       "      <td>447.000000</td>\n",
       "      <td>70551.00000</td>\n",
       "      <td>4.004063e+09</td>\n",
       "    </tr>\n",
       "    <tr>\n",
       "      <th>50%</th>\n",
       "      <td>2378.000000</td>\n",
       "      <td>7.416011e+06</td>\n",
       "      <td>6.223232e+09</td>\n",
       "      <td>455.000000</td>\n",
       "      <td>70551.00000</td>\n",
       "      <td>6.223232e+09</td>\n",
       "    </tr>\n",
       "    <tr>\n",
       "      <th>75%</th>\n",
       "      <td>3566.500000</td>\n",
       "      <td>7.514258e+06</td>\n",
       "      <td>6.223383e+09</td>\n",
       "      <td>1602.000000</td>\n",
       "      <td>72156.00000</td>\n",
       "      <td>6.223383e+09</td>\n",
       "    </tr>\n",
       "    <tr>\n",
       "      <th>max</th>\n",
       "      <td>4755.000000</td>\n",
       "      <td>7.617326e+06</td>\n",
       "      <td>6.223548e+09</td>\n",
       "      <td>1675.000000</td>\n",
       "      <td>75561.00000</td>\n",
       "      <td>6.223548e+09</td>\n",
       "    </tr>\n",
       "  </tbody>\n",
       "</table>\n",
       "</div>"
      ],
      "text/plain": [
       "                ID       acc_itn          acct      proc_no     cpt_code  \\\n",
       "count  4755.000000  4.755000e+03  4.755000e+03  4755.000000   4751.00000   \n",
       "mean   2378.000000  7.419800e+06  5.598179e+09  1020.975394  71489.08314   \n",
       "std    1372.794595  1.100040e+05  9.908031e+08   575.678701   1381.36143   \n",
       "min       1.000000  7.231535e+06  3.100000e+09   446.000000  70540.00000   \n",
       "25%    1189.500000  7.325926e+06  4.004063e+09   447.000000  70551.00000   \n",
       "50%    2378.000000  7.416011e+06  6.223232e+09   455.000000  70551.00000   \n",
       "75%    3566.500000  7.514258e+06  6.223383e+09  1602.000000  72156.00000   \n",
       "max    4755.000000  7.617326e+06  6.223548e+09  1675.000000  75561.00000   \n",
       "\n",
       "       pt_adm_no_ext  \n",
       "count   4.755000e+03  \n",
       "mean    5.598179e+09  \n",
       "std     9.908031e+08  \n",
       "min     3.100000e+09  \n",
       "25%     4.004063e+09  \n",
       "50%     6.223232e+09  \n",
       "75%     6.223383e+09  \n",
       "max     6.223548e+09  "
      ]
     },
     "execution_count": 365,
     "metadata": {},
     "output_type": "execute_result"
    }
   ],
   "source": [
    "#Statistics about the data\n",
    "\n",
    "df.describe()"
   ]
  },
  {
   "cell_type": "code",
   "execution_count": 366,
   "metadata": {},
   "outputs": [
    {
     "data": {
      "text/plain": [
       "<matplotlib.axes._subplots.AxesSubplot at 0x1d7663124e0>"
      ]
     },
     "execution_count": 366,
     "metadata": {},
     "output_type": "execute_result"
    },
    {
     "data": {
      "image/png": "[encoded data removed]",
      "text/plain": [
       "<Figure size 1728x720 with 3 Axes>"
      ]
     },
     "metadata": {
      "needs_background": "light"
     },
     "output_type": "display_data"
    }
   ],
   "source": [
    "mo.bar(df)"
   ]
  },
  {
   "cell_type": "code",
   "execution_count": 370,
   "metadata": {},
   "outputs": [],
   "source": [
    "df['priority'] = df['priority'].replace(['Routine ','ROUTINE '],'Routine')\n",
    "df['priority'] = df['priority'].replace(['As soon ','ASAP    ','As soon','ASAP'],'ASAP')\n",
    "df['priority'] = df['priority'].replace(['Stat    ','STAT    '],'STAT')\n",
    "df['priority'] = df['priority'].replace(['SCHEDULE','Schedule'],'Schedule')\n",
    "df['priority'] = df['priority'].replace(['PRIOR 1 ','PRTY 1  '],'Priority')\n",
    "df['priority'] = df['priority'].replace(['Neuro   '],'Neuro')"
   ]
  },
  {
   "cell_type": "code",
   "execution_count": 371,
   "metadata": {},
   "outputs": [
    {
     "data": {
      "text/plain": [
       "Routine     3351\n",
       "STAT         477\n",
       "ASAP         453\n",
       "Schedule     353\n",
       "Priority     119\n",
       "Neuro          2\n",
       "Name: priority, dtype: int64"
      ]
     },
     "execution_count": 371,
     "metadata": {},
     "output_type": "execute_result"
    }
   ],
   "source": [
    "df['priority'].value_counts()"
   ]
  },
  {
   "cell_type": "code",
   "execution_count": 372,
   "metadata": {
    "scrolled": true
   },
   "outputs": [
    {
     "data": {
      "text/plain": [
       "ID                 0\n",
       "acc_itn            0\n",
       "priority           0\n",
       "acct               0\n",
       "stp_dtime          0\n",
       "ord_for_dtime      0\n",
       "dept               0\n",
       "proc_no            0\n",
       "reason1          418\n",
       "cpt_code           4\n",
       "pt_adm_no_ext      0\n",
       "dtype: int64"
      ]
     },
     "execution_count": 372,
     "metadata": {},
     "output_type": "execute_result"
    }
   ],
   "source": [
    "# Null values check\n",
    "df.isnull().sum()"
   ]
  },
  {
   "cell_type": "code",
   "execution_count": 373,
   "metadata": {},
   "outputs": [
    {
     "data": {
      "text/plain": [
       "ID                 int64\n",
       "acc_itn            int64\n",
       "priority          object\n",
       "acct               int64\n",
       "stp_dtime         object\n",
       "ord_for_dtime     object\n",
       "dept              object\n",
       "proc_no            int64\n",
       "reason1           object\n",
       "cpt_code         float64\n",
       "pt_adm_no_ext      int64\n",
       "dtype: object"
      ]
     },
     "execution_count": 373,
     "metadata": {},
     "output_type": "execute_result"
    }
   ],
   "source": [
    "#data types of every column\n",
    "df.dtypes"
   ]
  },
  {
   "cell_type": "markdown",
   "metadata": {},
   "source": [
    "reason1 column contains textual data and all are different hence doesn't add any value"
   ]
  },
  {
   "cell_type": "code",
   "execution_count": 374,
   "metadata": {},
   "outputs": [
    {
     "data": {
      "text/plain": [
       "TIA                                         573\n",
       "Stroke                                      572\n",
       "Altered Level of Consciousness              222\n",
       "Dizziness                                   170\n",
       "Syncope                                     115\n",
       "                                           ... \n",
       "Myocardial Infarction, 3v CAD                 1\n",
       "bilateral hand tingling                       1\n",
       "mrcp - cholangioca with increasing lfts/      1\n",
       "R heel decub ulcer; ? osteomyelitis           1\n",
       "left foot ulcer, r/o osteomyelitis            1\n",
       "Name: reason1, Length: 1423, dtype: int64"
      ]
     },
     "execution_count": 374,
     "metadata": {},
     "output_type": "execute_result"
    }
   ],
   "source": [
    "\n",
    "df.reason1.value_counts()"
   ]
  },
  {
   "cell_type": "markdown",
   "metadata": {},
   "source": [
    "Most widely used cpt code is 70551. We will Nan values with this"
   ]
  },
  {
   "cell_type": "code",
   "execution_count": 378,
   "metadata": {},
   "outputs": [
    {
     "data": {
      "text/plain": [
       "0    70551.0\n",
       "dtype: float64"
      ]
     },
     "execution_count": 378,
     "metadata": {},
     "output_type": "execute_result"
    }
   ],
   "source": [
    "# most widely used cpt code\n",
    "df.cpt_code.mode()"
   ]
  },
  {
   "cell_type": "code",
   "execution_count": 379,
   "metadata": {},
   "outputs": [],
   "source": [
    "def mko(df):\n",
    "    mis_no = df.isnull().sum()/len(df) *100\n",
    "    c=df.isnull().sum()\n",
    "    miss_frame=pd.concat([c,mis_no],axis=1)\n",
    "    renamecol=miss_frame.rename(columns={0:\"Count\",1:\"Percentage\"})\n",
    "    renamecol=renamecol[renamecol[\"Count\"]!=0]\n",
    "    print (\"Your selected dataframe has \" + str(df.shape[1]) + \" columns.\\n\"      \n",
    "            \"There are \" + str(renamecol.shape[0]) +\n",
    "              \" columns that have missing values.\")\n",
    "    return renamecol.round(4)"
   ]
  },
  {
   "cell_type": "code",
   "execution_count": 380,
   "metadata": {},
   "outputs": [
    {
     "name": "stdout",
     "output_type": "stream",
     "text": [
      "Your selected dataframe has 11 columns.\n",
      "There are 2 columns that have missing values.\n"
     ]
    },
    {
     "data": {
      "text/html": [
       "<div>\n",
       "<style scoped>\n",
       "    .dataframe tbody tr th:only-of-type {\n",
       "        vertical-align: middle;\n",
       "    }\n",
       "\n",
       "    .dataframe tbody tr th {\n",
       "        vertical-align: top;\n",
       "    }\n",
       "\n",
       "    .dataframe thead th {\n",
       "        text-align: right;\n",
       "    }\n",
       "</style>\n",
       "<table border=\"1\" class=\"dataframe\">\n",
       "  <thead>\n",
       "    <tr style=\"text-align: right;\">\n",
       "      <th></th>\n",
       "      <th>Count</th>\n",
       "      <th>Percentage</th>\n",
       "    </tr>\n",
       "  </thead>\n",
       "  <tbody>\n",
       "    <tr>\n",
       "      <th>reason1</th>\n",
       "      <td>418</td>\n",
       "      <td>8.7907</td>\n",
       "    </tr>\n",
       "    <tr>\n",
       "      <th>cpt_code</th>\n",
       "      <td>4</td>\n",
       "      <td>0.0841</td>\n",
       "    </tr>\n",
       "  </tbody>\n",
       "</table>\n",
       "</div>"
      ],
      "text/plain": [
       "          Count  Percentage\n",
       "reason1     418      8.7907\n",
       "cpt_code      4      0.0841"
      ]
     },
     "execution_count": 380,
     "metadata": {},
     "output_type": "execute_result"
    }
   ],
   "source": [
    " mko(df)"
   ]
  },
  {
   "cell_type": "markdown",
   "metadata": {},
   "source": [
    "We are dropping 'reason1', 'ID', and 'acc_itn' because they don't add any value to the target variable"
   ]
  },
  {
   "cell_type": "code",
   "execution_count": 381,
   "metadata": {},
   "outputs": [],
   "source": [
    "# Dropping \n",
    "df.drop(columns=['reason1','ID', 'acc_itn'],axis=1,inplace=True)"
   ]
  },
  {
   "cell_type": "code",
   "execution_count": 382,
   "metadata": {},
   "outputs": [
    {
     "data": {
      "text/plain": [
       "Index(['priority', 'acct', 'stp_dtime', 'ord_for_dtime', 'dept', 'proc_no',\n",
       "       'cpt_code', 'pt_adm_no_ext'],\n",
       "      dtype='object')"
      ]
     },
     "execution_count": 382,
     "metadata": {},
     "output_type": "execute_result"
    }
   ],
   "source": [
    "df.columns"
   ]
  },
  {
   "cell_type": "markdown",
   "metadata": {},
   "source": [
    "Filling cpt_code with its mode because it's a categorial column"
   ]
  },
  {
   "cell_type": "code",
   "execution_count": 383,
   "metadata": {},
   "outputs": [],
   "source": [
    "df['cpt_code']=df['cpt_code'].fillna(df['cpt_code'].mode()[0])"
   ]
  },
  {
   "cell_type": "code",
   "execution_count": 384,
   "metadata": {},
   "outputs": [
    {
     "data": {
      "text/plain": [
       "<matplotlib.axes._subplots.AxesSubplot at 0x1d766998780>"
      ]
     },
     "execution_count": 384,
     "metadata": {},
     "output_type": "execute_result"
    },
    {
     "data": {
      "image/png": "[encoded data removed]",
      "text/plain": [
       "<Figure size 1728x720 with 3 Axes>"
      ]
     },
     "metadata": {
      "needs_background": "light"
     },
     "output_type": "display_data"
    }
   ],
   "source": [
    "mo.bar(df)"
   ]
  },
  {
   "cell_type": "markdown",
   "metadata": {},
   "source": [
    "NO NULL Values NOW"
   ]
  },
  {
   "cell_type": "code",
   "execution_count": 386,
   "metadata": {},
   "outputs": [
    {
     "name": "stdout",
     "output_type": "stream",
     "text": [
      "Your selected dataframe has 8 columns.\n",
      "There are 0 columns that have missing values.\n"
     ]
    },
    {
     "data": {
      "text/html": [
       "<div>\n",
       "<style scoped>\n",
       "    .dataframe tbody tr th:only-of-type {\n",
       "        vertical-align: middle;\n",
       "    }\n",
       "\n",
       "    .dataframe tbody tr th {\n",
       "        vertical-align: top;\n",
       "    }\n",
       "\n",
       "    .dataframe thead th {\n",
       "        text-align: right;\n",
       "    }\n",
       "</style>\n",
       "<table border=\"1\" class=\"dataframe\">\n",
       "  <thead>\n",
       "    <tr style=\"text-align: right;\">\n",
       "      <th></th>\n",
       "      <th>Count</th>\n",
       "      <th>Percentage</th>\n",
       "    </tr>\n",
       "  </thead>\n",
       "  <tbody>\n",
       "  </tbody>\n",
       "</table>\n",
       "</div>"
      ],
      "text/plain": [
       "Empty DataFrame\n",
       "Columns: [Count, Percentage]\n",
       "Index: []"
      ]
     },
     "execution_count": 386,
     "metadata": {},
     "output_type": "execute_result"
    }
   ],
   "source": [
    "mko(df)"
   ]
  },
  {
   "cell_type": "code",
   "execution_count": 387,
   "metadata": {},
   "outputs": [
    {
     "data": {
      "text/html": [
       "<div>\n",
       "<style scoped>\n",
       "    .dataframe tbody tr th:only-of-type {\n",
       "        vertical-align: middle;\n",
       "    }\n",
       "\n",
       "    .dataframe tbody tr th {\n",
       "        vertical-align: top;\n",
       "    }\n",
       "\n",
       "    .dataframe thead th {\n",
       "        text-align: right;\n",
       "    }\n",
       "</style>\n",
       "<table border=\"1\" class=\"dataframe\">\n",
       "  <thead>\n",
       "    <tr style=\"text-align: right;\">\n",
       "      <th></th>\n",
       "      <th>priority</th>\n",
       "      <th>acct</th>\n",
       "      <th>stp_dtime</th>\n",
       "      <th>ord_for_dtime</th>\n",
       "      <th>dept</th>\n",
       "      <th>proc_no</th>\n",
       "      <th>cpt_code</th>\n",
       "      <th>pt_adm_no_ext</th>\n",
       "    </tr>\n",
       "  </thead>\n",
       "  <tbody>\n",
       "    <tr>\n",
       "      <th>0</th>\n",
       "      <td>Routine</td>\n",
       "      <td>4004017060</td>\n",
       "      <td>12-04-2017 17:11</td>\n",
       "      <td>12-04-2017 01:56</td>\n",
       "      <td>MRI</td>\n",
       "      <td>1601</td>\n",
       "      <td>70543.0</td>\n",
       "      <td>4004017060</td>\n",
       "    </tr>\n",
       "    <tr>\n",
       "      <th>1</th>\n",
       "      <td>Routine</td>\n",
       "      <td>4004017134</td>\n",
       "      <td>13-04-2017 17:20</td>\n",
       "      <td>12-04-2017 08:06</td>\n",
       "      <td>MRI</td>\n",
       "      <td>1602</td>\n",
       "      <td>72197.0</td>\n",
       "      <td>4004017134</td>\n",
       "    </tr>\n",
       "    <tr>\n",
       "      <th>2</th>\n",
       "      <td>Routine</td>\n",
       "      <td>6223112189</td>\n",
       "      <td>12-04-2017 22:07</td>\n",
       "      <td>12-04-2017 09:26</td>\n",
       "      <td>MRI</td>\n",
       "      <td>1604</td>\n",
       "      <td>74183.0</td>\n",
       "      <td>6223112189</td>\n",
       "    </tr>\n",
       "    <tr>\n",
       "      <th>3</th>\n",
       "      <td>Routine</td>\n",
       "      <td>6223112302</td>\n",
       "      <td>12-04-2017 16:16</td>\n",
       "      <td>12-04-2017 09:32</td>\n",
       "      <td>MRI</td>\n",
       "      <td>1554</td>\n",
       "      <td>70553.0</td>\n",
       "      <td>6223112302</td>\n",
       "    </tr>\n",
       "    <tr>\n",
       "      <th>4</th>\n",
       "      <td>Routine</td>\n",
       "      <td>6223108688</td>\n",
       "      <td>12-04-2017 21:52</td>\n",
       "      <td>12-04-2017 09:59</td>\n",
       "      <td>MRI</td>\n",
       "      <td>447</td>\n",
       "      <td>70551.0</td>\n",
       "      <td>6223108688</td>\n",
       "    </tr>\n",
       "  </tbody>\n",
       "</table>\n",
       "</div>"
      ],
      "text/plain": [
       "  priority        acct         stp_dtime     ord_for_dtime dept  proc_no  \\\n",
       "0  Routine  4004017060  12-04-2017 17:11  12-04-2017 01:56  MRI     1601   \n",
       "1  Routine  4004017134  13-04-2017 17:20  12-04-2017 08:06  MRI     1602   \n",
       "2  Routine  6223112189  12-04-2017 22:07  12-04-2017 09:26  MRI     1604   \n",
       "3  Routine  6223112302  12-04-2017 16:16  12-04-2017 09:32  MRI     1554   \n",
       "4  Routine  6223108688  12-04-2017 21:52  12-04-2017 09:59  MRI      447   \n",
       "\n",
       "   cpt_code  pt_adm_no_ext  \n",
       "0   70543.0     4004017060  \n",
       "1   72197.0     4004017134  \n",
       "2   74183.0     6223112189  \n",
       "3   70553.0     6223112302  \n",
       "4   70551.0     6223108688  "
      ]
     },
     "execution_count": 387,
     "metadata": {},
     "output_type": "execute_result"
    }
   ],
   "source": [
    "df.head()"
   ]
  },
  {
   "cell_type": "code",
   "execution_count": 388,
   "metadata": {},
   "outputs": [
    {
     "data": {
      "text/plain": [
       "Routine     3351\n",
       "STAT         477\n",
       "ASAP         453\n",
       "Schedule     353\n",
       "Priority     119\n",
       "Neuro          2\n",
       "Name: priority, dtype: int64"
      ]
     },
     "execution_count": 388,
     "metadata": {},
     "output_type": "execute_result"
    }
   ],
   "source": [
    "df.priority.value_counts()"
   ]
  },
  {
   "cell_type": "markdown",
   "metadata": {},
   "source": [
    "We are converting datetime columns to datetime type because they are in object type"
   ]
  },
  {
   "cell_type": "code",
   "execution_count": 389,
   "metadata": {},
   "outputs": [],
   "source": [
    "import datetime\n",
    "\n",
    "df['ord_for_dtime'] =  pd.to_datetime(df['ord_for_dtime'] )\n",
    "df['stp_dtime'] =  pd.to_datetime(df['stp_dtime'] )"
   ]
  },
  {
   "cell_type": "code",
   "execution_count": 390,
   "metadata": {},
   "outputs": [
    {
     "data": {
      "text/html": [
       "<div>\n",
       "<style scoped>\n",
       "    .dataframe tbody tr th:only-of-type {\n",
       "        vertical-align: middle;\n",
       "    }\n",
       "\n",
       "    .dataframe tbody tr th {\n",
       "        vertical-align: top;\n",
       "    }\n",
       "\n",
       "    .dataframe thead th {\n",
       "        text-align: right;\n",
       "    }\n",
       "</style>\n",
       "<table border=\"1\" class=\"dataframe\">\n",
       "  <thead>\n",
       "    <tr style=\"text-align: right;\">\n",
       "      <th></th>\n",
       "      <th>priority</th>\n",
       "      <th>acct</th>\n",
       "      <th>stp_dtime</th>\n",
       "      <th>ord_for_dtime</th>\n",
       "      <th>dept</th>\n",
       "      <th>proc_no</th>\n",
       "      <th>cpt_code</th>\n",
       "      <th>pt_adm_no_ext</th>\n",
       "    </tr>\n",
       "  </thead>\n",
       "  <tbody>\n",
       "    <tr>\n",
       "      <th>0</th>\n",
       "      <td>Routine</td>\n",
       "      <td>4004017060</td>\n",
       "      <td>2017-12-04 17:11:00</td>\n",
       "      <td>2017-12-04 01:56:00</td>\n",
       "      <td>MRI</td>\n",
       "      <td>1601</td>\n",
       "      <td>70543.0</td>\n",
       "      <td>4004017060</td>\n",
       "    </tr>\n",
       "    <tr>\n",
       "      <th>1</th>\n",
       "      <td>Routine</td>\n",
       "      <td>4004017134</td>\n",
       "      <td>2017-04-13 17:20:00</td>\n",
       "      <td>2017-12-04 08:06:00</td>\n",
       "      <td>MRI</td>\n",
       "      <td>1602</td>\n",
       "      <td>72197.0</td>\n",
       "      <td>4004017134</td>\n",
       "    </tr>\n",
       "    <tr>\n",
       "      <th>2</th>\n",
       "      <td>Routine</td>\n",
       "      <td>6223112189</td>\n",
       "      <td>2017-12-04 22:07:00</td>\n",
       "      <td>2017-12-04 09:26:00</td>\n",
       "      <td>MRI</td>\n",
       "      <td>1604</td>\n",
       "      <td>74183.0</td>\n",
       "      <td>6223112189</td>\n",
       "    </tr>\n",
       "    <tr>\n",
       "      <th>3</th>\n",
       "      <td>Routine</td>\n",
       "      <td>6223112302</td>\n",
       "      <td>2017-12-04 16:16:00</td>\n",
       "      <td>2017-12-04 09:32:00</td>\n",
       "      <td>MRI</td>\n",
       "      <td>1554</td>\n",
       "      <td>70553.0</td>\n",
       "      <td>6223112302</td>\n",
       "    </tr>\n",
       "    <tr>\n",
       "      <th>4</th>\n",
       "      <td>Routine</td>\n",
       "      <td>6223108688</td>\n",
       "      <td>2017-12-04 21:52:00</td>\n",
       "      <td>2017-12-04 09:59:00</td>\n",
       "      <td>MRI</td>\n",
       "      <td>447</td>\n",
       "      <td>70551.0</td>\n",
       "      <td>6223108688</td>\n",
       "    </tr>\n",
       "  </tbody>\n",
       "</table>\n",
       "</div>"
      ],
      "text/plain": [
       "  priority        acct           stp_dtime       ord_for_dtime dept  proc_no  \\\n",
       "0  Routine  4004017060 2017-12-04 17:11:00 2017-12-04 01:56:00  MRI     1601   \n",
       "1  Routine  4004017134 2017-04-13 17:20:00 2017-12-04 08:06:00  MRI     1602   \n",
       "2  Routine  6223112189 2017-12-04 22:07:00 2017-12-04 09:26:00  MRI     1604   \n",
       "3  Routine  6223112302 2017-12-04 16:16:00 2017-12-04 09:32:00  MRI     1554   \n",
       "4  Routine  6223108688 2017-12-04 21:52:00 2017-12-04 09:59:00  MRI      447   \n",
       "\n",
       "   cpt_code  pt_adm_no_ext  \n",
       "0   70543.0     4004017060  \n",
       "1   72197.0     4004017134  \n",
       "2   74183.0     6223112189  \n",
       "3   70553.0     6223112302  \n",
       "4   70551.0     6223108688  "
      ]
     },
     "execution_count": 390,
     "metadata": {},
     "output_type": "execute_result"
    }
   ],
   "source": [
    "df.head()"
   ]
  },
  {
   "cell_type": "code",
   "execution_count": 391,
   "metadata": {},
   "outputs": [
    {
     "data": {
      "text/plain": [
       "priority                 object\n",
       "acct                      int64\n",
       "stp_dtime        datetime64[ns]\n",
       "ord_for_dtime    datetime64[ns]\n",
       "dept                     object\n",
       "proc_no                   int64\n",
       "cpt_code                float64\n",
       "pt_adm_no_ext             int64\n",
       "dtype: object"
      ]
     },
     "execution_count": 391,
     "metadata": {},
     "output_type": "execute_result"
    }
   ],
   "source": [
    "df.dtypes"
   ]
  },
  {
   "cell_type": "markdown",
   "metadata": {},
   "source": [
    "We are taking different to make a new column named 'duration' and changing its type to timedelta"
   ]
  },
  {
   "cell_type": "code",
   "execution_count": 392,
   "metadata": {},
   "outputs": [],
   "source": [
    "df['duration']=(df.stp_dtime-df.ord_for_dtime).astype('timedelta64[m]')"
   ]
  },
  {
   "cell_type": "code",
   "execution_count": 393,
   "metadata": {},
   "outputs": [
    {
     "data": {
      "text/html": [
       "<div>\n",
       "<style scoped>\n",
       "    .dataframe tbody tr th:only-of-type {\n",
       "        vertical-align: middle;\n",
       "    }\n",
       "\n",
       "    .dataframe tbody tr th {\n",
       "        vertical-align: top;\n",
       "    }\n",
       "\n",
       "    .dataframe thead th {\n",
       "        text-align: right;\n",
       "    }\n",
       "</style>\n",
       "<table border=\"1\" class=\"dataframe\">\n",
       "  <thead>\n",
       "    <tr style=\"text-align: right;\">\n",
       "      <th></th>\n",
       "      <th>priority</th>\n",
       "      <th>acct</th>\n",
       "      <th>stp_dtime</th>\n",
       "      <th>ord_for_dtime</th>\n",
       "      <th>dept</th>\n",
       "      <th>proc_no</th>\n",
       "      <th>cpt_code</th>\n",
       "      <th>pt_adm_no_ext</th>\n",
       "      <th>duration</th>\n",
       "    </tr>\n",
       "  </thead>\n",
       "  <tbody>\n",
       "    <tr>\n",
       "      <th>0</th>\n",
       "      <td>Routine</td>\n",
       "      <td>4004017060</td>\n",
       "      <td>2017-12-04 17:11:00</td>\n",
       "      <td>2017-12-04 01:56:00</td>\n",
       "      <td>MRI</td>\n",
       "      <td>1601</td>\n",
       "      <td>70543.0</td>\n",
       "      <td>4004017060</td>\n",
       "      <td>915.0</td>\n",
       "    </tr>\n",
       "    <tr>\n",
       "      <th>1</th>\n",
       "      <td>Routine</td>\n",
       "      <td>4004017134</td>\n",
       "      <td>2017-04-13 17:20:00</td>\n",
       "      <td>2017-12-04 08:06:00</td>\n",
       "      <td>MRI</td>\n",
       "      <td>1602</td>\n",
       "      <td>72197.0</td>\n",
       "      <td>4004017134</td>\n",
       "      <td>-337846.0</td>\n",
       "    </tr>\n",
       "    <tr>\n",
       "      <th>2</th>\n",
       "      <td>Routine</td>\n",
       "      <td>6223112189</td>\n",
       "      <td>2017-12-04 22:07:00</td>\n",
       "      <td>2017-12-04 09:26:00</td>\n",
       "      <td>MRI</td>\n",
       "      <td>1604</td>\n",
       "      <td>74183.0</td>\n",
       "      <td>6223112189</td>\n",
       "      <td>761.0</td>\n",
       "    </tr>\n",
       "    <tr>\n",
       "      <th>3</th>\n",
       "      <td>Routine</td>\n",
       "      <td>6223112302</td>\n",
       "      <td>2017-12-04 16:16:00</td>\n",
       "      <td>2017-12-04 09:32:00</td>\n",
       "      <td>MRI</td>\n",
       "      <td>1554</td>\n",
       "      <td>70553.0</td>\n",
       "      <td>6223112302</td>\n",
       "      <td>404.0</td>\n",
       "    </tr>\n",
       "    <tr>\n",
       "      <th>4</th>\n",
       "      <td>Routine</td>\n",
       "      <td>6223108688</td>\n",
       "      <td>2017-12-04 21:52:00</td>\n",
       "      <td>2017-12-04 09:59:00</td>\n",
       "      <td>MRI</td>\n",
       "      <td>447</td>\n",
       "      <td>70551.0</td>\n",
       "      <td>6223108688</td>\n",
       "      <td>713.0</td>\n",
       "    </tr>\n",
       "  </tbody>\n",
       "</table>\n",
       "</div>"
      ],
      "text/plain": [
       "  priority        acct           stp_dtime       ord_for_dtime dept  proc_no  \\\n",
       "0  Routine  4004017060 2017-12-04 17:11:00 2017-12-04 01:56:00  MRI     1601   \n",
       "1  Routine  4004017134 2017-04-13 17:20:00 2017-12-04 08:06:00  MRI     1602   \n",
       "2  Routine  6223112189 2017-12-04 22:07:00 2017-12-04 09:26:00  MRI     1604   \n",
       "3  Routine  6223112302 2017-12-04 16:16:00 2017-12-04 09:32:00  MRI     1554   \n",
       "4  Routine  6223108688 2017-12-04 21:52:00 2017-12-04 09:59:00  MRI      447   \n",
       "\n",
       "   cpt_code  pt_adm_no_ext  duration  \n",
       "0   70543.0     4004017060     915.0  \n",
       "1   72197.0     4004017134 -337846.0  \n",
       "2   74183.0     6223112189     761.0  \n",
       "3   70553.0     6223112302     404.0  \n",
       "4   70551.0     6223108688     713.0  "
      ]
     },
     "execution_count": 393,
     "metadata": {},
     "output_type": "execute_result"
    }
   ],
   "source": [
    "df.head()"
   ]
  },
  {
   "cell_type": "code",
   "execution_count": 394,
   "metadata": {},
   "outputs": [],
   "source": [
    "# Handling negative durations\n",
    "df['duration']=abs(df['duration'])"
   ]
  },
  {
   "cell_type": "code",
   "execution_count": 395,
   "metadata": {
    "scrolled": true
   },
   "outputs": [
    {
     "data": {
      "text/html": [
       "<div>\n",
       "<style scoped>\n",
       "    .dataframe tbody tr th:only-of-type {\n",
       "        vertical-align: middle;\n",
       "    }\n",
       "\n",
       "    .dataframe tbody tr th {\n",
       "        vertical-align: top;\n",
       "    }\n",
       "\n",
       "    .dataframe thead th {\n",
       "        text-align: right;\n",
       "    }\n",
       "</style>\n",
       "<table border=\"1\" class=\"dataframe\">\n",
       "  <thead>\n",
       "    <tr style=\"text-align: right;\">\n",
       "      <th></th>\n",
       "      <th>priority</th>\n",
       "      <th>acct</th>\n",
       "      <th>stp_dtime</th>\n",
       "      <th>ord_for_dtime</th>\n",
       "      <th>dept</th>\n",
       "      <th>proc_no</th>\n",
       "      <th>cpt_code</th>\n",
       "      <th>pt_adm_no_ext</th>\n",
       "      <th>duration</th>\n",
       "    </tr>\n",
       "  </thead>\n",
       "  <tbody>\n",
       "    <tr>\n",
       "      <th>0</th>\n",
       "      <td>Routine</td>\n",
       "      <td>4004017060</td>\n",
       "      <td>2017-12-04 17:11:00</td>\n",
       "      <td>2017-12-04 01:56:00</td>\n",
       "      <td>MRI</td>\n",
       "      <td>1601</td>\n",
       "      <td>70543.0</td>\n",
       "      <td>4004017060</td>\n",
       "      <td>915.0</td>\n",
       "    </tr>\n",
       "    <tr>\n",
       "      <th>1</th>\n",
       "      <td>Routine</td>\n",
       "      <td>4004017134</td>\n",
       "      <td>2017-04-13 17:20:00</td>\n",
       "      <td>2017-12-04 08:06:00</td>\n",
       "      <td>MRI</td>\n",
       "      <td>1602</td>\n",
       "      <td>72197.0</td>\n",
       "      <td>4004017134</td>\n",
       "      <td>337846.0</td>\n",
       "    </tr>\n",
       "    <tr>\n",
       "      <th>2</th>\n",
       "      <td>Routine</td>\n",
       "      <td>6223112189</td>\n",
       "      <td>2017-12-04 22:07:00</td>\n",
       "      <td>2017-12-04 09:26:00</td>\n",
       "      <td>MRI</td>\n",
       "      <td>1604</td>\n",
       "      <td>74183.0</td>\n",
       "      <td>6223112189</td>\n",
       "      <td>761.0</td>\n",
       "    </tr>\n",
       "    <tr>\n",
       "      <th>3</th>\n",
       "      <td>Routine</td>\n",
       "      <td>6223112302</td>\n",
       "      <td>2017-12-04 16:16:00</td>\n",
       "      <td>2017-12-04 09:32:00</td>\n",
       "      <td>MRI</td>\n",
       "      <td>1554</td>\n",
       "      <td>70553.0</td>\n",
       "      <td>6223112302</td>\n",
       "      <td>404.0</td>\n",
       "    </tr>\n",
       "    <tr>\n",
       "      <th>4</th>\n",
       "      <td>Routine</td>\n",
       "      <td>6223108688</td>\n",
       "      <td>2017-12-04 21:52:00</td>\n",
       "      <td>2017-12-04 09:59:00</td>\n",
       "      <td>MRI</td>\n",
       "      <td>447</td>\n",
       "      <td>70551.0</td>\n",
       "      <td>6223108688</td>\n",
       "      <td>713.0</td>\n",
       "    </tr>\n",
       "  </tbody>\n",
       "</table>\n",
       "</div>"
      ],
      "text/plain": [
       "  priority        acct           stp_dtime       ord_for_dtime dept  proc_no  \\\n",
       "0  Routine  4004017060 2017-12-04 17:11:00 2017-12-04 01:56:00  MRI     1601   \n",
       "1  Routine  4004017134 2017-04-13 17:20:00 2017-12-04 08:06:00  MRI     1602   \n",
       "2  Routine  6223112189 2017-12-04 22:07:00 2017-12-04 09:26:00  MRI     1604   \n",
       "3  Routine  6223112302 2017-12-04 16:16:00 2017-12-04 09:32:00  MRI     1554   \n",
       "4  Routine  6223108688 2017-12-04 21:52:00 2017-12-04 09:59:00  MRI      447   \n",
       "\n",
       "   cpt_code  pt_adm_no_ext  duration  \n",
       "0   70543.0     4004017060     915.0  \n",
       "1   72197.0     4004017134  337846.0  \n",
       "2   74183.0     6223112189     761.0  \n",
       "3   70553.0     6223112302     404.0  \n",
       "4   70551.0     6223108688     713.0  "
      ]
     },
     "execution_count": 395,
     "metadata": {},
     "output_type": "execute_result"
    }
   ],
   "source": [
    "df.head()"
   ]
  },
  {
   "cell_type": "code",
   "execution_count": 396,
   "metadata": {},
   "outputs": [],
   "source": [
    "import pandas as pd\n",
    "\n",
    "if isinstance(df, (pd.DatetimeIndex, pd.MultiIndex)):\n",
    "\tdf = df.to_frame(index=False)\n",
    "\n",
    "# remove any pre-existing indices for ease of use in the D-Tale code, but this is not required\n",
    "df = df.reset_index().drop('index', axis=1, errors='ignore')\n",
    "df.columns = [str(c) for c in df.columns]  # update columns to strings in case they are numbers\n",
    "\n",
    "chart_data = pd.concat([\n",
    "\tdf['priority'],\n",
    "\tdf['duration'],\n",
    "], axis=1)\n",
    "chart_data = chart_data.sort_values(['priority'])\n",
    "chart_data = chart_data.rename(columns={'priority': 'x'})\n",
    "chart_data = chart_data.groupby(['x'])[['duration']].mean().reset_index()\n",
    "chart_data = chart_data.dropna()\n",
    "\n",
    "import plotly.graph_objs as go\n",
    "\n",
    "charts = []\n",
    "charts.append(go.Bar(\n",
    "x=chart_data['x'],\n",
    "y=chart_data['duration']\n",
    "))\n",
    "figure = go.Figure(data=charts, layout=go.Layout({\n",
    "    'barmode': 'group',\n",
    "    'legend': {'orientation': 'h'},\n",
    "    'title': {'text': 'duration by priority (Mean) in Minutes'},\n",
    "    'xaxis': {'title': {'text': 'priority'}},\n",
    "    'yaxis': {'title': {'text': 'duration (Minutes)'}}\n",
    "}))"
   ]
  },
  {
   "cell_type": "markdown",
   "metadata": {},
   "source": [
    "# Plot of Avg duration by priority of the procedure"
   ]
  },
  {
   "cell_type": "code",
   "execution_count": 397,
   "metadata": {},
   "outputs": [
    {
     "data": {
      "application/vnd.plotly.v1+json": {
       "config": {
        "plotlyServerURL": "https://plot.ly"
       },
       "data": [
        {
         "type": "bar",
         "x": [
          "ASAP",
          "Neuro",
          "Priority",
          "Routine",
          "STAT",
          "Schedule"
         ],
         "y": [
          17537.028697571743,
          740.5,
          1218.327731092437,
          23578.403760071622,
          8974.683438155136,
          14828.83852691218
         ]
        }
       ],
       "layout": {
        "barmode": "group",
        "legend": {
         "orientation": "h"
        },
        "template": {
         "data": {
          "bar": [
           {
            "error_x": {
             "color": "#2a3f5f"
            },
            "error_y": {
             "color": "#2a3f5f"
            },
            "marker": {
             "line": {
              "color": "#E5ECF6",
              "width": 0.5
             }
            },
            "type": "bar"
           }
          ],
          "barpolar": [
           {
            "marker": {
             "line": {
              "color": "#E5ECF6",
              "width": 0.5
             }
            },
            "type": "barpolar"
           }
          ],
          "carpet": [
           {
            "aaxis": {
             "endlinecolor": "#2a3f5f",
             "gridcolor": "white",
             "linecolor": "white",
             "minorgridcolor": "white",
             "startlinecolor": "#2a3f5f"
            },
            "baxis": {
             "endlinecolor": "#2a3f5f",
             "gridcolor": "white",
             "linecolor": "white",
             "minorgridcolor": "white",
             "startlinecolor": "#2a3f5f"
            },
            "type": "carpet"
           }
          ],
          "choropleth": [
           {
            "colorbar": {
             "outlinewidth": 0,
             "ticks": ""
            },
            "type": "choropleth"
           }
          ],
          "contour": [
           {
            "colorbar": {
             "outlinewidth": 0,
             "ticks": ""
            },
            "colorscale": [
             [
              0,
              "#0d0887"
             ],
             [
              0.1111111111111111,
              "#46039f"
             ],
             [
              0.2222222222222222,
              "#7201a8"
             ],
             [
              0.3333333333333333,
              "#9c179e"
             ],
             [
              0.4444444444444444,
              "#bd3786"
             ],
             [
              0.5555555555555556,
              "#d8576b"
             ],
             [
              0.6666666666666666,
              "#ed7953"
             ],
             [
              0.7777777777777778,
              "#fb9f3a"
             ],
             [
              0.8888888888888888,
              "#fdca26"
             ],
             [
              1,
              "#f0f921"
             ]
            ],
            "type": "contour"
           }
          ],
          "contourcarpet": [
           {
            "colorbar": {
             "outlinewidth": 0,
             "ticks": ""
            },
            "type": "contourcarpet"
           }
          ],
          "heatmap": [
           {
            "colorbar": {
             "outlinewidth": 0,
             "ticks": ""
            },
            "colorscale": [
             [
              0,
              "#0d0887"
             ],
             [
              0.1111111111111111,
              "#46039f"
             ],
             [
              0.2222222222222222,
              "#7201a8"
             ],
             [
              0.3333333333333333,
              "#9c179e"
             ],
             [
              0.4444444444444444,
              "#bd3786"
             ],
             [
              0.5555555555555556,
              "#d8576b"
             ],
             [
              0.6666666666666666,
              "#ed7953"
             ],
             [
              0.7777777777777778,
              "#fb9f3a"
             ],
             [
              0.8888888888888888,
              "#fdca26"
             ],
             [
              1,
              "#f0f921"
             ]
            ],
            "type": "heatmap"
           }
          ],
          "heatmapgl": [
           {
            "colorbar": {
             "outlinewidth": 0,
             "ticks": ""
            },
            "colorscale": [
             [
              0,
              "#0d0887"
             ],
             [
              0.1111111111111111,
              "#46039f"
             ],
             [
              0.2222222222222222,
              "#7201a8"
             ],
             [
              0.3333333333333333,
              "#9c179e"
             ],
             [
              0.4444444444444444,
              "#bd3786"
             ],
             [
              0.5555555555555556,
              "#d8576b"
             ],
             [
              0.6666666666666666,
              "#ed7953"
             ],
             [
              0.7777777777777778,
              "#fb9f3a"
             ],
             [
              0.8888888888888888,
              "#fdca26"
             ],
             [
              1,
              "#f0f921"
             ]
            ],
            "type": "heatmapgl"
           }
          ],
          "histogram": [
           {
            "marker": {
             "colorbar": {
              "outlinewidth": 0,
              "ticks": ""
             }
            },
            "type": "histogram"
           }
          ],
          "histogram2d": [
           {
            "colorbar": {
             "outlinewidth": 0,
             "ticks": ""
            },
            "colorscale": [
             [
              0,
              "#0d0887"
             ],
             [
              0.1111111111111111,
              "#46039f"
             ],
             [
              0.2222222222222222,
              "#7201a8"
             ],
             [
              0.3333333333333333,
              "#9c179e"
             ],
             [
              0.4444444444444444,
              "#bd3786"
             ],
             [
              0.5555555555555556,
              "#d8576b"
             ],
             [
              0.6666666666666666,
              "#ed7953"
             ],
             [
              0.7777777777777778,
              "#fb9f3a"
             ],
             [
              0.8888888888888888,
              "#fdca26"
             ],
             [
              1,
              "#f0f921"
             ]
            ],
            "type": "histogram2d"
           }
          ],
          "histogram2dcontour": [
           {
            "colorbar": {
             "outlinewidth": 0,
             "ticks": ""
            },
            "colorscale": [
             [
              0,
              "#0d0887"
             ],
             [
              0.1111111111111111,
              "#46039f"
             ],
             [
              0.2222222222222222,
              "#7201a8"
             ],
             [
              0.3333333333333333,
              "#9c179e"
             ],
             [
              0.4444444444444444,
              "#bd3786"
             ],
             [
              0.5555555555555556,
              "#d8576b"
             ],
             [
              0.6666666666666666,
              "#ed7953"
             ],
             [
              0.7777777777777778,
              "#fb9f3a"
             ],
             [
              0.8888888888888888,
              "#fdca26"
             ],
             [
              1,
              "#f0f921"
             ]
            ],
            "type": "histogram2dcontour"
           }
          ],
          "mesh3d": [
           {
            "colorbar": {
             "outlinewidth": 0,
             "ticks": ""
            },
            "type": "mesh3d"
           }
          ],
          "parcoords": [
           {
            "line": {
             "colorbar": {
              "outlinewidth": 0,
              "ticks": ""
             }
            },
            "type": "parcoords"
           }
          ],
          "pie": [
           {
            "automargin": true,
            "type": "pie"
           }
          ],
          "scatter": [
           {
            "marker": {
             "colorbar": {
              "outlinewidth": 0,
              "ticks": ""
             }
            },
            "type": "scatter"
           }
          ],
          "scatter3d": [
           {
            "line": {
             "colorbar": {
              "outlinewidth": 0,
              "ticks": ""
             }
            },
            "marker": {
             "colorbar": {
              "outlinewidth": 0,
              "ticks": ""
             }
            },
            "type": "scatter3d"
           }
          ],
          "scattercarpet": [
           {
            "marker": {
             "colorbar": {
              "outlinewidth": 0,
              "ticks": ""
             }
            },
            "type": "scattercarpet"
           }
          ],
          "scattergeo": [
           {
            "marker": {
             "colorbar": {
              "outlinewidth": 0,
              "ticks": ""
             }
            },
            "type": "scattergeo"
           }
          ],
          "scattergl": [
           {
            "marker": {
             "colorbar": {
              "outlinewidth": 0,
              "ticks": ""
             }
            },
            "type": "scattergl"
           }
          ],
          "scattermapbox": [
           {
            "marker": {
             "colorbar": {
              "outlinewidth": 0,
              "ticks": ""
             }
            },
            "type": "scattermapbox"
           }
          ],
          "scatterpolar": [
           {
            "marker": {
             "colorbar": {
              "outlinewidth": 0,
              "ticks": ""
             }
            },
            "type": "scatterpolar"
           }
          ],
          "scatterpolargl": [
           {
            "marker": {
             "colorbar": {
              "outlinewidth": 0,
              "ticks": ""
             }
            },
            "type": "scatterpolargl"
           }
          ],
          "scatterternary": [
           {
            "marker": {
             "colorbar": {
              "outlinewidth": 0,
              "ticks": ""
             }
            },
            "type": "scatterternary"
           }
          ],
          "surface": [
           {
            "colorbar": {
             "outlinewidth": 0,
             "ticks": ""
            },
            "colorscale": [
             [
              0,
              "#0d0887"
             ],
             [
              0.1111111111111111,
              "#46039f"
             ],
             [
              0.2222222222222222,
              "#7201a8"
             ],
             [
              0.3333333333333333,
              "#9c179e"
             ],
             [
              0.4444444444444444,
              "#bd3786"
             ],
             [
              0.5555555555555556,
              "#d8576b"
             ],
             [
              0.6666666666666666,
              "#ed7953"
             ],
             [
              0.7777777777777778,
              "#fb9f3a"
             ],
             [
              0.8888888888888888,
              "#fdca26"
             ],
             [
              1,
              "#f0f921"
             ]
            ],
            "type": "surface"
           }
          ],
          "table": [
           {
            "cells": {
             "fill": {
              "color": "#EBF0F8"
             },
             "line": {
              "color": "white"
             }
            },
            "header": {
             "fill": {
              "color": "#C8D4E3"
             },
             "line": {
              "color": "white"
             }
            },
            "type": "table"
           }
          ]
         },
         "layout": {
          "annotationdefaults": {
           "arrowcolor": "#2a3f5f",
           "arrowhead": 0,
           "arrowwidth": 1
          },
          "coloraxis": {
           "colorbar": {
            "outlinewidth": 0,
            "ticks": ""
           }
          },
          "colorscale": {
           "diverging": [
            [
             0,
             "#8e0152"
            ],
            [
             0.1,
             "#c51b7d"
            ],
            [
             0.2,
             "#de77ae"
            ],
            [
             0.3,
             "#f1b6da"
            ],
            [
             0.4,
             "#fde0ef"
            ],
            [
             0.5,
             "#f7f7f7"
            ],
            [
             0.6,
             "#e6f5d0"
            ],
            [
             0.7,
             "#b8e186"
            ],
            [
             0.8,
             "#7fbc41"
            ],
            [
             0.9,
             "#4d9221"
            ],
            [
             1,
             "#276419"
            ]
           ],
           "sequential": [
            [
             0,
             "#0d0887"
            ],
            [
             0.1111111111111111,
             "#46039f"
            ],
            [
             0.2222222222222222,
             "#7201a8"
            ],
            [
             0.3333333333333333,
             "#9c179e"
            ],
            [
             0.4444444444444444,
             "#bd3786"
            ],
            [
             0.5555555555555556,
             "#d8576b"
            ],
            [
             0.6666666666666666,
             "#ed7953"
            ],
            [
             0.7777777777777778,
             "#fb9f3a"
            ],
            [
             0.8888888888888888,
             "#fdca26"
            ],
            [
             1,
             "#f0f921"
            ]
           ],
           "sequentialminus": [
            [
             0,
             "#0d0887"
            ],
            [
             0.1111111111111111,
             "#46039f"
            ],
            [
             0.2222222222222222,
             "#7201a8"
            ],
            [
             0.3333333333333333,
             "#9c179e"
            ],
            [
             0.4444444444444444,
             "#bd3786"
            ],
            [
             0.5555555555555556,
             "#d8576b"
            ],
            [
             0.6666666666666666,
             "#ed7953"
            ],
            [
             0.7777777777777778,
             "#fb9f3a"
            ],
            [
             0.8888888888888888,
             "#fdca26"
            ],
            [
             1,
             "#f0f921"
            ]
           ]
          },
          "colorway": [
           "#636efa",
           "#EF553B",
           "#00cc96",
           "#ab63fa",
           "#FFA15A",
           "#19d3f3",
           "#FF6692",
           "#B6E880",
           "#FF97FF",
           "#FECB52"
          ],
          "font": {
           "color": "#2a3f5f"
          },
          "geo": {
           "bgcolor": "white",
           "lakecolor": "white",
           "landcolor": "#E5ECF6",
           "showlakes": true,
           "showland": true,
           "subunitcolor": "white"
          },
          "hoverlabel": {
           "align": "left"
          },
          "hovermode": "closest",
          "mapbox": {
           "style": "light"
          },
          "paper_bgcolor": "white",
          "plot_bgcolor": "#E5ECF6",
          "polar": {
           "angularaxis": {
            "gridcolor": "white",
            "linecolor": "white",
            "ticks": ""
           },
           "bgcolor": "#E5ECF6",
           "radialaxis": {
            "gridcolor": "white",
            "linecolor": "white",
            "ticks": ""
           }
          },
          "scene": {
           "xaxis": {
            "backgroundcolor": "#E5ECF6",
            "gridcolor": "white",
            "gridwidth": 2,
            "linecolor": "white",
            "showbackground": true,
            "ticks": "",
            "zerolinecolor": "white"
           },
           "yaxis": {
            "backgroundcolor": "#E5ECF6",
            "gridcolor": "white",
            "gridwidth": 2,
            "linecolor": "white",
            "showbackground": true,
            "ticks": "",
            "zerolinecolor": "white"
           },
           "zaxis": {
            "backgroundcolor": "#E5ECF6",
            "gridcolor": "white",
            "gridwidth": 2,
            "linecolor": "white",
            "showbackground": true,
            "ticks": "",
            "zerolinecolor": "white"
           }
          },
          "shapedefaults": {
           "line": {
            "color": "#2a3f5f"
           }
          },
          "ternary": {
           "aaxis": {
            "gridcolor": "white",
            "linecolor": "white",
            "ticks": ""
           },
           "baxis": {
            "gridcolor": "white",
            "linecolor": "white",
            "ticks": ""
           },
           "bgcolor": "#E5ECF6",
           "caxis": {
            "gridcolor": "white",
            "linecolor": "white",
            "ticks": ""
           }
          },
          "title": {
           "x": 0.05
          },
          "xaxis": {
           "automargin": true,
           "gridcolor": "white",
           "linecolor": "white",
           "ticks": "",
           "title": {
            "standoff": 15
           },
           "zerolinecolor": "white",
           "zerolinewidth": 2
          },
          "yaxis": {
           "automargin": true,
           "gridcolor": "white",
           "linecolor": "white",
           "ticks": "",
           "title": {
            "standoff": 15
           },
           "zerolinecolor": "white",
           "zerolinewidth": 2
          }
         }
        },
        "title": {
         "text": "duration by priority (Mean) in Minutes"
        },
        "xaxis": {
         "title": {
          "text": "priority"
         }
        },
        "yaxis": {
         "title": {
          "text": "duration (Minutes)"
         }
        }
       }
      },
      "text/html": [
       "<div>\n",
       "        \n",
       "        \n",
       "            <div id=\"e62d51f9-2579-44e4-8c6f-88aaeee994b4\" class=\"plotly-graph-div\" style=\"height:525px; width:100%;\"></div>\n",
       "            <script type=\"text/javascript\">\n",
       "                require([\"plotly\"], function(Plotly) {\n",
       "                    window.PLOTLYENV=window.PLOTLYENV || {};\n",
       "                    \n",
       "                if (document.getElementById(\"e62d51f9-2579-44e4-8c6f-88aaeee994b4\")) {\n",
       "                    Plotly.newPlot(\n",
       "                        'e62d51f9-2579-44e4-8c6f-88aaeee994b4',\n",
       "                        [{\"type\": \"bar\", \"x\": [\"ASAP\", \"Neuro\", \"Priority\", \"Routine\", \"STAT\", \"Schedule\"], \"y\": [17537.028697571743, 740.5, 1218.327731092437, 23578.403760071622, 8974.683438155136, 14828.83852691218]}],\n",
       "                        {\"barmode\": \"group\", \"legend\": {\"orientation\": \"h\"}, \"template\": {\"data\": {\"bar\": [{\"error_x\": {\"color\": \"#2a3f5f\"}, \"error_y\": {\"color\": \"#2a3f5f\"}, \"marker\": {\"line\": {\"color\": \"#E5ECF6\", \"width\": 0.5}}, \"type\": \"bar\"}], \"barpolar\": [{\"marker\": {\"line\": {\"color\": \"#E5ECF6\", \"width\": 0.5}}, \"type\": \"barpolar\"}], \"carpet\": [{\"aaxis\": {\"endlinecolor\": \"#2a3f5f\", \"gridcolor\": \"white\", \"linecolor\": \"white\", \"minorgridcolor\": \"white\", \"startlinecolor\": \"#2a3f5f\"}, \"baxis\": {\"endlinecolor\": \"#2a3f5f\", \"gridcolor\": \"white\", \"linecolor\": \"white\", \"minorgridcolor\": \"white\", \"startlinecolor\": \"#2a3f5f\"}, \"type\": \"carpet\"}], \"choropleth\": [{\"colorbar\": {\"outlinewidth\": 0, \"ticks\": \"\"}, \"type\": \"choropleth\"}], \"contour\": [{\"colorbar\": {\"outlinewidth\": 0, \"ticks\": \"\"}, \"colorscale\": [[0.0, \"#0d0887\"], [0.1111111111111111, \"#46039f\"], [0.2222222222222222, \"#7201a8\"], [0.3333333333333333, \"#9c179e\"], [0.4444444444444444, \"#bd3786\"], [0.5555555555555556, \"#d8576b\"], [0.6666666666666666, \"#ed7953\"], [0.7777777777777778, \"#fb9f3a\"], [0.8888888888888888, \"#fdca26\"], [1.0, \"#f0f921\"]], \"type\": \"contour\"}], \"contourcarpet\": [{\"colorbar\": {\"outlinewidth\": 0, \"ticks\": \"\"}, \"type\": \"contourcarpet\"}], \"heatmap\": [{\"colorbar\": {\"outlinewidth\": 0, \"ticks\": \"\"}, \"colorscale\": [[0.0, \"#0d0887\"], [0.1111111111111111, \"#46039f\"], [0.2222222222222222, \"#7201a8\"], [0.3333333333333333, \"#9c179e\"], [0.4444444444444444, \"#bd3786\"], [0.5555555555555556, \"#d8576b\"], [0.6666666666666666, \"#ed7953\"], [0.7777777777777778, \"#fb9f3a\"], [0.8888888888888888, \"#fdca26\"], [1.0, \"#f0f921\"]], \"type\": \"heatmap\"}], \"heatmapgl\": [{\"colorbar\": {\"outlinewidth\": 0, \"ticks\": \"\"}, \"colorscale\": [[0.0, \"#0d0887\"], [0.1111111111111111, \"#46039f\"], [0.2222222222222222, \"#7201a8\"], [0.3333333333333333, \"#9c179e\"], [0.4444444444444444, \"#bd3786\"], [0.5555555555555556, \"#d8576b\"], [0.6666666666666666, \"#ed7953\"], [0.7777777777777778, \"#fb9f3a\"], [0.8888888888888888, \"#fdca26\"], [1.0, \"#f0f921\"]], \"type\": \"heatmapgl\"}], \"histogram\": [{\"marker\": {\"colorbar\": {\"outlinewidth\": 0, \"ticks\": \"\"}}, \"type\": \"histogram\"}], \"histogram2d\": [{\"colorbar\": {\"outlinewidth\": 0, \"ticks\": \"\"}, \"colorscale\": [[0.0, \"#0d0887\"], [0.1111111111111111, \"#46039f\"], [0.2222222222222222, \"#7201a8\"], [0.3333333333333333, \"#9c179e\"], [0.4444444444444444, \"#bd3786\"], [0.5555555555555556, \"#d8576b\"], [0.6666666666666666, \"#ed7953\"], [0.7777777777777778, \"#fb9f3a\"], [0.8888888888888888, \"#fdca26\"], [1.0, \"#f0f921\"]], \"type\": \"histogram2d\"}], \"histogram2dcontour\": [{\"colorbar\": {\"outlinewidth\": 0, \"ticks\": \"\"}, \"colorscale\": [[0.0, \"#0d0887\"], [0.1111111111111111, \"#46039f\"], [0.2222222222222222, \"#7201a8\"], [0.3333333333333333, \"#9c179e\"], [0.4444444444444444, \"#bd3786\"], [0.5555555555555556, \"#d8576b\"], [0.6666666666666666, \"#ed7953\"], [0.7777777777777778, \"#fb9f3a\"], [0.8888888888888888, \"#fdca26\"], [1.0, \"#f0f921\"]], \"type\": \"histogram2dcontour\"}], \"mesh3d\": [{\"colorbar\": {\"outlinewidth\": 0, \"ticks\": \"\"}, \"type\": \"mesh3d\"}], \"parcoords\": [{\"line\": {\"colorbar\": {\"outlinewidth\": 0, \"ticks\": \"\"}}, \"type\": \"parcoords\"}], \"pie\": [{\"automargin\": true, \"type\": \"pie\"}], \"scatter\": [{\"marker\": {\"colorbar\": {\"outlinewidth\": 0, \"ticks\": \"\"}}, \"type\": \"scatter\"}], \"scatter3d\": [{\"line\": {\"colorbar\": {\"outlinewidth\": 0, \"ticks\": \"\"}}, \"marker\": {\"colorbar\": {\"outlinewidth\": 0, \"ticks\": \"\"}}, \"type\": \"scatter3d\"}], \"scattercarpet\": [{\"marker\": {\"colorbar\": {\"outlinewidth\": 0, \"ticks\": \"\"}}, \"type\": \"scattercarpet\"}], \"scattergeo\": [{\"marker\": {\"colorbar\": {\"outlinewidth\": 0, \"ticks\": \"\"}}, \"type\": \"scattergeo\"}], \"scattergl\": [{\"marker\": {\"colorbar\": {\"outlinewidth\": 0, \"ticks\": \"\"}}, \"type\": \"scattergl\"}], \"scattermapbox\": [{\"marker\": {\"colorbar\": {\"outlinewidth\": 0, \"ticks\": \"\"}}, \"type\": \"scattermapbox\"}], \"scatterpolar\": [{\"marker\": {\"colorbar\": {\"outlinewidth\": 0, \"ticks\": \"\"}}, \"type\": \"scatterpolar\"}], \"scatterpolargl\": [{\"marker\": {\"colorbar\": {\"outlinewidth\": 0, \"ticks\": \"\"}}, \"type\": \"scatterpolargl\"}], \"scatterternary\": [{\"marker\": {\"colorbar\": {\"outlinewidth\": 0, \"ticks\": \"\"}}, \"type\": \"scatterternary\"}], \"surface\": [{\"colorbar\": {\"outlinewidth\": 0, \"ticks\": \"\"}, \"colorscale\": [[0.0, \"#0d0887\"], [0.1111111111111111, \"#46039f\"], [0.2222222222222222, \"#7201a8\"], [0.3333333333333333, \"#9c179e\"], [0.4444444444444444, \"#bd3786\"], [0.5555555555555556, \"#d8576b\"], [0.6666666666666666, \"#ed7953\"], [0.7777777777777778, \"#fb9f3a\"], [0.8888888888888888, \"#fdca26\"], [1.0, \"#f0f921\"]], \"type\": \"surface\"}], \"table\": [{\"cells\": {\"fill\": {\"color\": \"#EBF0F8\"}, \"line\": {\"color\": \"white\"}}, \"header\": {\"fill\": {\"color\": \"#C8D4E3\"}, \"line\": {\"color\": \"white\"}}, \"type\": \"table\"}]}, \"layout\": {\"annotationdefaults\": {\"arrowcolor\": \"#2a3f5f\", \"arrowhead\": 0, \"arrowwidth\": 1}, \"coloraxis\": {\"colorbar\": {\"outlinewidth\": 0, \"ticks\": \"\"}}, \"colorscale\": {\"diverging\": [[0, \"#8e0152\"], [0.1, \"#c51b7d\"], [0.2, \"#de77ae\"], [0.3, \"#f1b6da\"], [0.4, \"#fde0ef\"], [0.5, \"#f7f7f7\"], [0.6, \"#e6f5d0\"], [0.7, \"#b8e186\"], [0.8, \"#7fbc41\"], [0.9, \"#4d9221\"], [1, \"#276419\"]], \"sequential\": [[0.0, \"#0d0887\"], [0.1111111111111111, \"#46039f\"], [0.2222222222222222, \"#7201a8\"], [0.3333333333333333, \"#9c179e\"], [0.4444444444444444, \"#bd3786\"], [0.5555555555555556, \"#d8576b\"], [0.6666666666666666, \"#ed7953\"], [0.7777777777777778, \"#fb9f3a\"], [0.8888888888888888, \"#fdca26\"], [1.0, \"#f0f921\"]], \"sequentialminus\": [[0.0, \"#0d0887\"], [0.1111111111111111, \"#46039f\"], [0.2222222222222222, \"#7201a8\"], [0.3333333333333333, \"#9c179e\"], [0.4444444444444444, \"#bd3786\"], [0.5555555555555556, \"#d8576b\"], [0.6666666666666666, \"#ed7953\"], [0.7777777777777778, \"#fb9f3a\"], [0.8888888888888888, \"#fdca26\"], [1.0, \"#f0f921\"]]}, \"colorway\": [\"#636efa\", \"#EF553B\", \"#00cc96\", \"#ab63fa\", \"#FFA15A\", \"#19d3f3\", \"#FF6692\", \"#B6E880\", \"#FF97FF\", \"#FECB52\"], \"font\": {\"color\": \"#2a3f5f\"}, \"geo\": {\"bgcolor\": \"white\", \"lakecolor\": \"white\", \"landcolor\": \"#E5ECF6\", \"showlakes\": true, \"showland\": true, \"subunitcolor\": \"white\"}, \"hoverlabel\": {\"align\": \"left\"}, \"hovermode\": \"closest\", \"mapbox\": {\"style\": \"light\"}, \"paper_bgcolor\": \"white\", \"plot_bgcolor\": \"#E5ECF6\", \"polar\": {\"angularaxis\": {\"gridcolor\": \"white\", \"linecolor\": \"white\", \"ticks\": \"\"}, \"bgcolor\": \"#E5ECF6\", \"radialaxis\": {\"gridcolor\": \"white\", \"linecolor\": \"white\", \"ticks\": \"\"}}, \"scene\": {\"xaxis\": {\"backgroundcolor\": \"#E5ECF6\", \"gridcolor\": \"white\", \"gridwidth\": 2, \"linecolor\": \"white\", \"showbackground\": true, \"ticks\": \"\", \"zerolinecolor\": \"white\"}, \"yaxis\": {\"backgroundcolor\": \"#E5ECF6\", \"gridcolor\": \"white\", \"gridwidth\": 2, \"linecolor\": \"white\", \"showbackground\": true, \"ticks\": \"\", \"zerolinecolor\": \"white\"}, \"zaxis\": {\"backgroundcolor\": \"#E5ECF6\", \"gridcolor\": \"white\", \"gridwidth\": 2, \"linecolor\": \"white\", \"showbackground\": true, \"ticks\": \"\", \"zerolinecolor\": \"white\"}}, \"shapedefaults\": {\"line\": {\"color\": \"#2a3f5f\"}}, \"ternary\": {\"aaxis\": {\"gridcolor\": \"white\", \"linecolor\": \"white\", \"ticks\": \"\"}, \"baxis\": {\"gridcolor\": \"white\", \"linecolor\": \"white\", \"ticks\": \"\"}, \"bgcolor\": \"#E5ECF6\", \"caxis\": {\"gridcolor\": \"white\", \"linecolor\": \"white\", \"ticks\": \"\"}}, \"title\": {\"x\": 0.05}, \"xaxis\": {\"automargin\": true, \"gridcolor\": \"white\", \"linecolor\": \"white\", \"ticks\": \"\", \"title\": {\"standoff\": 15}, \"zerolinecolor\": \"white\", \"zerolinewidth\": 2}, \"yaxis\": {\"automargin\": true, \"gridcolor\": \"white\", \"linecolor\": \"white\", \"ticks\": \"\", \"title\": {\"standoff\": 15}, \"zerolinecolor\": \"white\", \"zerolinewidth\": 2}}}, \"title\": {\"text\": \"duration by priority (Mean) in Minutes\"}, \"xaxis\": {\"title\": {\"text\": \"priority\"}}, \"yaxis\": {\"title\": {\"text\": \"duration (Minutes)\"}}},\n",
       "                        {\"responsive\": true}\n",
       "                    ).then(function(){\n",
       "                            \n",
       "var gd = document.getElementById('e62d51f9-2579-44e4-8c6f-88aaeee994b4');\n",
       "var x = new MutationObserver(function (mutations, observer) {{\n",
       "        var display = window.getComputedStyle(gd).display;\n",
       "        if (!display || display === 'none') {{\n",
       "            console.log([gd, 'removed!']);\n",
       "            Plotly.purge(gd);\n",
       "            observer.disconnect();\n",
       "        }}\n",
       "}});\n",
       "\n",
       "// Listen for the removal of the full notebook cells\n",
       "var notebookContainer = gd.closest('#notebook-container');\n",
       "if (notebookContainer) {{\n",
       "    x.observe(notebookContainer, {childList: true});\n",
       "}}\n",
       "\n",
       "// Listen for the clearing of the current output cell\n",
       "var outputEl = gd.closest('.output');\n",
       "if (outputEl) {{\n",
       "    x.observe(outputEl, {childList: true});\n",
       "}}\n",
       "\n",
       "                        })\n",
       "                };\n",
       "                });\n",
       "            </script>\n",
       "        </div>"
      ]
     },
     "metadata": {},
     "output_type": "display_data"
    }
   ],
   "source": [
    "figure"
   ]
  },
  {
   "cell_type": "markdown",
   "metadata": {},
   "source": [
    "# •\tAvg duration by priority of the procedure"
   ]
  },
  {
   "cell_type": "code",
   "execution_count": 398,
   "metadata": {},
   "outputs": [
    {
     "data": {
      "text/html": [
       "<div>\n",
       "<style scoped>\n",
       "    .dataframe tbody tr th:only-of-type {\n",
       "        vertical-align: middle;\n",
       "    }\n",
       "\n",
       "    .dataframe tbody tr th {\n",
       "        vertical-align: top;\n",
       "    }\n",
       "\n",
       "    .dataframe thead th {\n",
       "        text-align: right;\n",
       "    }\n",
       "</style>\n",
       "<table border=\"1\" class=\"dataframe\">\n",
       "  <thead>\n",
       "    <tr style=\"text-align: right;\">\n",
       "      <th></th>\n",
       "      <th>priority</th>\n",
       "      <th>avg_duration</th>\n",
       "    </tr>\n",
       "  </thead>\n",
       "  <tbody>\n",
       "    <tr>\n",
       "      <th>0</th>\n",
       "      <td>ASAP</td>\n",
       "      <td>17537.028698</td>\n",
       "    </tr>\n",
       "    <tr>\n",
       "      <th>1</th>\n",
       "      <td>Neuro</td>\n",
       "      <td>740.500000</td>\n",
       "    </tr>\n",
       "    <tr>\n",
       "      <th>2</th>\n",
       "      <td>Priority</td>\n",
       "      <td>1218.327731</td>\n",
       "    </tr>\n",
       "    <tr>\n",
       "      <th>3</th>\n",
       "      <td>Routine</td>\n",
       "      <td>23578.403760</td>\n",
       "    </tr>\n",
       "    <tr>\n",
       "      <th>4</th>\n",
       "      <td>STAT</td>\n",
       "      <td>8974.683438</td>\n",
       "    </tr>\n",
       "    <tr>\n",
       "      <th>5</th>\n",
       "      <td>Schedule</td>\n",
       "      <td>14828.838527</td>\n",
       "    </tr>\n",
       "  </tbody>\n",
       "</table>\n",
       "</div>"
      ],
      "text/plain": [
       "   priority  avg_duration\n",
       "0      ASAP  17537.028698\n",
       "1     Neuro    740.500000\n",
       "2  Priority   1218.327731\n",
       "3   Routine  23578.403760\n",
       "4      STAT   8974.683438\n",
       "5  Schedule  14828.838527"
      ]
     },
     "execution_count": 398,
     "metadata": {},
     "output_type": "execute_result"
    }
   ],
   "source": [
    "avg_duration_by_priority = df.groupby('priority')['duration'].mean().reset_index()\n",
    "avg_duration_by_priority.columns = ['priority', 'avg_duration']\n",
    "avg_duration_by_priority"
   ]
  },
  {
   "cell_type": "markdown",
   "metadata": {},
   "source": [
    "# No of scans by priority of the procedure"
   ]
  },
  {
   "cell_type": "code",
   "execution_count": 399,
   "metadata": {},
   "outputs": [
    {
     "data": {
      "text/html": [
       "<div>\n",
       "<style scoped>\n",
       "    .dataframe tbody tr th:only-of-type {\n",
       "        vertical-align: middle;\n",
       "    }\n",
       "\n",
       "    .dataframe tbody tr th {\n",
       "        vertical-align: top;\n",
       "    }\n",
       "\n",
       "    .dataframe thead th {\n",
       "        text-align: right;\n",
       "    }\n",
       "</style>\n",
       "<table border=\"1\" class=\"dataframe\">\n",
       "  <thead>\n",
       "    <tr style=\"text-align: right;\">\n",
       "      <th></th>\n",
       "      <th>priority</th>\n",
       "      <th>no_of_scans</th>\n",
       "    </tr>\n",
       "  </thead>\n",
       "  <tbody>\n",
       "    <tr>\n",
       "      <th>0</th>\n",
       "      <td>Routine</td>\n",
       "      <td>3351</td>\n",
       "    </tr>\n",
       "    <tr>\n",
       "      <th>1</th>\n",
       "      <td>STAT</td>\n",
       "      <td>477</td>\n",
       "    </tr>\n",
       "    <tr>\n",
       "      <th>2</th>\n",
       "      <td>ASAP</td>\n",
       "      <td>453</td>\n",
       "    </tr>\n",
       "    <tr>\n",
       "      <th>3</th>\n",
       "      <td>Schedule</td>\n",
       "      <td>353</td>\n",
       "    </tr>\n",
       "    <tr>\n",
       "      <th>4</th>\n",
       "      <td>Priority</td>\n",
       "      <td>119</td>\n",
       "    </tr>\n",
       "    <tr>\n",
       "      <th>5</th>\n",
       "      <td>Neuro</td>\n",
       "      <td>2</td>\n",
       "    </tr>\n",
       "  </tbody>\n",
       "</table>\n",
       "</div>"
      ],
      "text/plain": [
       "   priority  no_of_scans\n",
       "0   Routine         3351\n",
       "1      STAT          477\n",
       "2      ASAP          453\n",
       "3  Schedule          353\n",
       "4  Priority          119\n",
       "5     Neuro            2"
      ]
     },
     "execution_count": 399,
     "metadata": {},
     "output_type": "execute_result"
    }
   ],
   "source": [
    "no_of_scans_by_priority = df['priority'].value_counts().reset_index()\n",
    "no_of_scans_by_priority.columns = ['priority', 'no_of_scans']\n",
    "no_of_scans_by_priority"
   ]
  },
  {
   "cell_type": "markdown",
   "metadata": {},
   "source": [
    "# Avg Duration & Total Scans by Priority"
   ]
  },
  {
   "cell_type": "code",
   "execution_count": 400,
   "metadata": {},
   "outputs": [
    {
     "data": {
      "text/html": [
       "<div>\n",
       "<style scoped>\n",
       "    .dataframe tbody tr th:only-of-type {\n",
       "        vertical-align: middle;\n",
       "    }\n",
       "\n",
       "    .dataframe tbody tr th {\n",
       "        vertical-align: top;\n",
       "    }\n",
       "\n",
       "    .dataframe thead th {\n",
       "        text-align: right;\n",
       "    }\n",
       "</style>\n",
       "<table border=\"1\" class=\"dataframe\">\n",
       "  <thead>\n",
       "    <tr style=\"text-align: right;\">\n",
       "      <th></th>\n",
       "      <th>priority</th>\n",
       "      <th>avg_duration</th>\n",
       "      <th>no_of_scans</th>\n",
       "    </tr>\n",
       "  </thead>\n",
       "  <tbody>\n",
       "    <tr>\n",
       "      <th>0</th>\n",
       "      <td>ASAP</td>\n",
       "      <td>17537.028698</td>\n",
       "      <td>3351</td>\n",
       "    </tr>\n",
       "    <tr>\n",
       "      <th>1</th>\n",
       "      <td>Neuro</td>\n",
       "      <td>740.500000</td>\n",
       "      <td>477</td>\n",
       "    </tr>\n",
       "    <tr>\n",
       "      <th>2</th>\n",
       "      <td>Priority</td>\n",
       "      <td>1218.327731</td>\n",
       "      <td>453</td>\n",
       "    </tr>\n",
       "    <tr>\n",
       "      <th>3</th>\n",
       "      <td>Routine</td>\n",
       "      <td>23578.403760</td>\n",
       "      <td>353</td>\n",
       "    </tr>\n",
       "    <tr>\n",
       "      <th>4</th>\n",
       "      <td>STAT</td>\n",
       "      <td>8974.683438</td>\n",
       "      <td>119</td>\n",
       "    </tr>\n",
       "    <tr>\n",
       "      <th>5</th>\n",
       "      <td>Schedule</td>\n",
       "      <td>14828.838527</td>\n",
       "      <td>2</td>\n",
       "    </tr>\n",
       "  </tbody>\n",
       "</table>\n",
       "</div>"
      ],
      "text/plain": [
       "   priority  avg_duration  no_of_scans\n",
       "0      ASAP  17537.028698         3351\n",
       "1     Neuro    740.500000          477\n",
       "2  Priority   1218.327731          453\n",
       "3   Routine  23578.403760          353\n",
       "4      STAT   8974.683438          119\n",
       "5  Schedule  14828.838527            2"
      ]
     },
     "execution_count": 400,
     "metadata": {},
     "output_type": "execute_result"
    }
   ],
   "source": [
    "avg_duration_by_priority['no_of_scans'] = no_of_scans_by_priority['no_of_scans']\n",
    "avg_duration_by_priority"
   ]
  },
  {
   "cell_type": "code",
   "execution_count": 401,
   "metadata": {},
   "outputs": [],
   "source": [
    "#for pyacart\n",
    "df.to_csv('newmri.csv')"
   ]
  },
  {
   "cell_type": "markdown",
   "metadata": {},
   "source": [
    "# Insight on correlation with pairplot"
   ]
  },
  {
   "cell_type": "markdown",
   "metadata": {},
   "source": [
    "We are ploting pairplot of the numerical columns to see relationships. We can notice that there isn't any good relationship of any variable to target variable which is sad thing for a regression problem, but the best thing for classification problem. The insight is that regression model may not bring good results but classification model will bring best results"
   ]
  },
  {
   "cell_type": "code",
   "execution_count": 402,
   "metadata": {},
   "outputs": [
    {
     "data": {
      "text/plain": [
       "<seaborn.axisgrid.PairGrid at 0x1d766aa4b70>"
      ]
     },
     "execution_count": 402,
     "metadata": {},
     "output_type": "execute_result"
    },
    {
     "data": {
      "image/png": "[encoded data removed]",
      "text/plain": [
       "<Figure size 900x900 with 30 Axes>"
      ]
     },
     "metadata": {
      "needs_background": "light"
     },
     "output_type": "display_data"
    }
   ],
   "source": [
    "# Ploting pairplot of the numerical columns to see relationships.\n",
    "sb.pairplot(df)"
   ]
  },
  {
   "cell_type": "code",
   "execution_count": 403,
   "metadata": {},
   "outputs": [
    {
     "data": {
      "text/plain": [
       "priority                 object\n",
       "acct                      int64\n",
       "stp_dtime        datetime64[ns]\n",
       "ord_for_dtime    datetime64[ns]\n",
       "dept                     object\n",
       "proc_no                   int64\n",
       "cpt_code                float64\n",
       "pt_adm_no_ext             int64\n",
       "duration                float64\n",
       "dtype: object"
      ]
     },
     "execution_count": 403,
     "metadata": {},
     "output_type": "execute_result"
    }
   ],
   "source": [
    "df.dtypes"
   ]
  },
  {
   "cell_type": "markdown",
   "metadata": {},
   "source": [
    "# Insight on correlation with its values"
   ]
  },
  {
   "cell_type": "markdown",
   "metadata": {},
   "source": [
    "The greater the correlation with our target variable 'duration', the better it is for our model. We can see the chart, there is no good relationship of any variable with our target variable. It's really not good for our regression problem, but we will be happy with our classification model as the data is spread out very well"
   ]
  },
  {
   "cell_type": "code",
   "execution_count": 404,
   "metadata": {},
   "outputs": [
    {
     "data": {
      "text/plain": [
       "<matplotlib.axes._subplots.AxesSubplot at 0x1d7629ea5c0>"
      ]
     },
     "execution_count": 404,
     "metadata": {},
     "output_type": "execute_result"
    },
    {
     "data": {
      "image/png": "[encoded data removed]",
      "text/plain": [
       "<Figure size 864x432 with 2 Axes>"
      ]
     },
     "metadata": {},
     "output_type": "display_data"
    }
   ],
   "source": [
    "# Finding correlation between the columns\n",
    "\n",
    "corr_mat = df.corr()\n",
    "sb.set(font_scale=1.8)\n",
    "plt.figure(figsize=(12,6))\n",
    "sb.heatmap(corr_mat, annot=True, cmap='viridis' , annot_kws={\"size\": 16},)"
   ]
  },
  {
   "cell_type": "markdown",
   "metadata": {},
   "source": [
    "# Encoding categorical variables"
   ]
  },
  {
   "cell_type": "markdown",
   "metadata": {},
   "source": [
    "We have two category columns so we are encoding them"
   ]
  },
  {
   "cell_type": "code",
   "execution_count": 412,
   "metadata": {},
   "outputs": [
    {
     "data": {
      "text/plain": [
       "Index(['priority', 'dept'], dtype='object')"
      ]
     },
     "execution_count": 412,
     "metadata": {},
     "output_type": "execute_result"
    }
   ],
   "source": [
    "cat_col=df.select_dtypes(include=[np.object])\n",
    "cat_col.columns"
   ]
  },
  {
   "cell_type": "code",
   "execution_count": 413,
   "metadata": {},
   "outputs": [],
   "source": [
    "zebra=['priority', 'dept']"
   ]
  },
  {
   "cell_type": "code",
   "execution_count": 414,
   "metadata": {},
   "outputs": [
    {
     "data": {
      "text/plain": [
       "(4755, 12)"
      ]
     },
     "execution_count": 414,
     "metadata": {},
     "output_type": "execute_result"
    }
   ],
   "source": [
    "dummies=pd.get_dummies(df,columns=zebra,drop_first=True)\n",
    "dummies.shape"
   ]
  },
  {
   "cell_type": "code",
   "execution_count": 415,
   "metadata": {},
   "outputs": [
    {
     "data": {
      "text/html": [
       "<div>\n",
       "<style scoped>\n",
       "    .dataframe tbody tr th:only-of-type {\n",
       "        vertical-align: middle;\n",
       "    }\n",
       "\n",
       "    .dataframe tbody tr th {\n",
       "        vertical-align: top;\n",
       "    }\n",
       "\n",
       "    .dataframe thead th {\n",
       "        text-align: right;\n",
       "    }\n",
       "</style>\n",
       "<table border=\"1\" class=\"dataframe\">\n",
       "  <thead>\n",
       "    <tr style=\"text-align: right;\">\n",
       "      <th></th>\n",
       "      <th>acct</th>\n",
       "      <th>stp_dtime</th>\n",
       "      <th>ord_for_dtime</th>\n",
       "      <th>proc_no</th>\n",
       "      <th>cpt_code</th>\n",
       "      <th>pt_adm_no_ext</th>\n",
       "      <th>duration</th>\n",
       "      <th>priority_Neuro</th>\n",
       "      <th>priority_Priority</th>\n",
       "      <th>priority_Routine</th>\n",
       "      <th>priority_STAT</th>\n",
       "      <th>priority_Schedule</th>\n",
       "    </tr>\n",
       "  </thead>\n",
       "  <tbody>\n",
       "    <tr>\n",
       "      <th>0</th>\n",
       "      <td>4004017060</td>\n",
       "      <td>2017-12-04 17:11:00</td>\n",
       "      <td>2017-12-04 01:56:00</td>\n",
       "      <td>1601</td>\n",
       "      <td>70543.0</td>\n",
       "      <td>4004017060</td>\n",
       "      <td>915.0</td>\n",
       "      <td>0</td>\n",
       "      <td>0</td>\n",
       "      <td>1</td>\n",
       "      <td>0</td>\n",
       "      <td>0</td>\n",
       "    </tr>\n",
       "    <tr>\n",
       "      <th>1</th>\n",
       "      <td>4004017134</td>\n",
       "      <td>2017-04-13 17:20:00</td>\n",
       "      <td>2017-12-04 08:06:00</td>\n",
       "      <td>1602</td>\n",
       "      <td>72197.0</td>\n",
       "      <td>4004017134</td>\n",
       "      <td>337846.0</td>\n",
       "      <td>0</td>\n",
       "      <td>0</td>\n",
       "      <td>1</td>\n",
       "      <td>0</td>\n",
       "      <td>0</td>\n",
       "    </tr>\n",
       "    <tr>\n",
       "      <th>2</th>\n",
       "      <td>6223112189</td>\n",
       "      <td>2017-12-04 22:07:00</td>\n",
       "      <td>2017-12-04 09:26:00</td>\n",
       "      <td>1604</td>\n",
       "      <td>74183.0</td>\n",
       "      <td>6223112189</td>\n",
       "      <td>761.0</td>\n",
       "      <td>0</td>\n",
       "      <td>0</td>\n",
       "      <td>1</td>\n",
       "      <td>0</td>\n",
       "      <td>0</td>\n",
       "    </tr>\n",
       "    <tr>\n",
       "      <th>3</th>\n",
       "      <td>6223112302</td>\n",
       "      <td>2017-12-04 16:16:00</td>\n",
       "      <td>2017-12-04 09:32:00</td>\n",
       "      <td>1554</td>\n",
       "      <td>70553.0</td>\n",
       "      <td>6223112302</td>\n",
       "      <td>404.0</td>\n",
       "      <td>0</td>\n",
       "      <td>0</td>\n",
       "      <td>1</td>\n",
       "      <td>0</td>\n",
       "      <td>0</td>\n",
       "    </tr>\n",
       "    <tr>\n",
       "      <th>4</th>\n",
       "      <td>6223108688</td>\n",
       "      <td>2017-12-04 21:52:00</td>\n",
       "      <td>2017-12-04 09:59:00</td>\n",
       "      <td>447</td>\n",
       "      <td>70551.0</td>\n",
       "      <td>6223108688</td>\n",
       "      <td>713.0</td>\n",
       "      <td>0</td>\n",
       "      <td>0</td>\n",
       "      <td>1</td>\n",
       "      <td>0</td>\n",
       "      <td>0</td>\n",
       "    </tr>\n",
       "  </tbody>\n",
       "</table>\n",
       "</div>"
      ],
      "text/plain": [
       "         acct           stp_dtime       ord_for_dtime  proc_no  cpt_code  \\\n",
       "0  4004017060 2017-12-04 17:11:00 2017-12-04 01:56:00     1601   70543.0   \n",
       "1  4004017134 2017-04-13 17:20:00 2017-12-04 08:06:00     1602   72197.0   \n",
       "2  6223112189 2017-12-04 22:07:00 2017-12-04 09:26:00     1604   74183.0   \n",
       "3  6223112302 2017-12-04 16:16:00 2017-12-04 09:32:00     1554   70553.0   \n",
       "4  6223108688 2017-12-04 21:52:00 2017-12-04 09:59:00      447   70551.0   \n",
       "\n",
       "   pt_adm_no_ext  duration  priority_Neuro  priority_Priority  \\\n",
       "0     4004017060     915.0               0                  0   \n",
       "1     4004017134  337846.0               0                  0   \n",
       "2     6223112189     761.0               0                  0   \n",
       "3     6223112302     404.0               0                  0   \n",
       "4     6223108688     713.0               0                  0   \n",
       "\n",
       "   priority_Routine  priority_STAT  priority_Schedule  \n",
       "0                 1              0                  0  \n",
       "1                 1              0                  0  \n",
       "2                 1              0                  0  \n",
       "3                 1              0                  0  \n",
       "4                 1              0                  0  "
      ]
     },
     "execution_count": 415,
     "metadata": {},
     "output_type": "execute_result"
    }
   ],
   "source": [
    "dummies.head()"
   ]
  },
  {
   "cell_type": "markdown",
   "metadata": {},
   "source": [
    "Our cpt_code is a category column so we are converting it into category so that model treat it as category rather than a numeric column"
   ]
  },
  {
   "cell_type": "code",
   "execution_count": 417,
   "metadata": {},
   "outputs": [],
   "source": [
    "dummies['cpt_code'] = dummies['cpt_code'].astype('category')"
   ]
  },
  {
   "cell_type": "code",
   "execution_count": 419,
   "metadata": {},
   "outputs": [
    {
     "data": {
      "text/plain": [
       "acct                          int64\n",
       "stp_dtime            datetime64[ns]\n",
       "ord_for_dtime        datetime64[ns]\n",
       "proc_no                       int64\n",
       "cpt_code                   category\n",
       "pt_adm_no_ext                 int64\n",
       "duration                    float64\n",
       "priority_Neuro                uint8\n",
       "priority_Priority             uint8\n",
       "priority_Routine              uint8\n",
       "priority_STAT                 uint8\n",
       "priority_Schedule             uint8\n",
       "dtype: object"
      ]
     },
     "execution_count": 419,
     "metadata": {},
     "output_type": "execute_result"
    }
   ],
   "source": [
    "dummies.dtypes"
   ]
  },
  {
   "cell_type": "code",
   "execution_count": 420,
   "metadata": {
    "scrolled": false
   },
   "outputs": [
    {
     "data": {
      "text/plain": [
       "Index(['acct', 'stp_dtime', 'ord_for_dtime', 'proc_no', 'cpt_code',\n",
       "       'pt_adm_no_ext', 'duration', 'priority_Neuro', 'priority_Priority',\n",
       "       'priority_Routine', 'priority_STAT', 'priority_Schedule'],\n",
       "      dtype='object')"
      ]
     },
     "execution_count": 420,
     "metadata": {},
     "output_type": "execute_result"
    }
   ],
   "source": [
    "dummies.columns"
   ]
  },
  {
   "cell_type": "code",
   "execution_count": 422,
   "metadata": {},
   "outputs": [
    {
     "data": {
      "text/html": [
       "<div>\n",
       "<style scoped>\n",
       "    .dataframe tbody tr th:only-of-type {\n",
       "        vertical-align: middle;\n",
       "    }\n",
       "\n",
       "    .dataframe tbody tr th {\n",
       "        vertical-align: top;\n",
       "    }\n",
       "\n",
       "    .dataframe thead th {\n",
       "        text-align: right;\n",
       "    }\n",
       "</style>\n",
       "<table border=\"1\" class=\"dataframe\">\n",
       "  <thead>\n",
       "    <tr style=\"text-align: right;\">\n",
       "      <th></th>\n",
       "      <th>acct</th>\n",
       "      <th>stp_dtime</th>\n",
       "      <th>ord_for_dtime</th>\n",
       "      <th>proc_no</th>\n",
       "      <th>cpt_code</th>\n",
       "      <th>pt_adm_no_ext</th>\n",
       "      <th>duration</th>\n",
       "      <th>priority_Neuro</th>\n",
       "      <th>priority_Priority</th>\n",
       "      <th>priority_Routine</th>\n",
       "      <th>priority_STAT</th>\n",
       "      <th>priority_Schedule</th>\n",
       "    </tr>\n",
       "  </thead>\n",
       "  <tbody>\n",
       "    <tr>\n",
       "      <th>0</th>\n",
       "      <td>4004017060</td>\n",
       "      <td>2017-12-04 17:11:00</td>\n",
       "      <td>2017-12-04 01:56:00</td>\n",
       "      <td>1601</td>\n",
       "      <td>70543.0</td>\n",
       "      <td>4004017060</td>\n",
       "      <td>915.0</td>\n",
       "      <td>0</td>\n",
       "      <td>0</td>\n",
       "      <td>1</td>\n",
       "      <td>0</td>\n",
       "      <td>0</td>\n",
       "    </tr>\n",
       "    <tr>\n",
       "      <th>1</th>\n",
       "      <td>4004017134</td>\n",
       "      <td>2017-04-13 17:20:00</td>\n",
       "      <td>2017-12-04 08:06:00</td>\n",
       "      <td>1602</td>\n",
       "      <td>72197.0</td>\n",
       "      <td>4004017134</td>\n",
       "      <td>337846.0</td>\n",
       "      <td>0</td>\n",
       "      <td>0</td>\n",
       "      <td>1</td>\n",
       "      <td>0</td>\n",
       "      <td>0</td>\n",
       "    </tr>\n",
       "    <tr>\n",
       "      <th>2</th>\n",
       "      <td>6223112189</td>\n",
       "      <td>2017-12-04 22:07:00</td>\n",
       "      <td>2017-12-04 09:26:00</td>\n",
       "      <td>1604</td>\n",
       "      <td>74183.0</td>\n",
       "      <td>6223112189</td>\n",
       "      <td>761.0</td>\n",
       "      <td>0</td>\n",
       "      <td>0</td>\n",
       "      <td>1</td>\n",
       "      <td>0</td>\n",
       "      <td>0</td>\n",
       "    </tr>\n",
       "    <tr>\n",
       "      <th>3</th>\n",
       "      <td>6223112302</td>\n",
       "      <td>2017-12-04 16:16:00</td>\n",
       "      <td>2017-12-04 09:32:00</td>\n",
       "      <td>1554</td>\n",
       "      <td>70553.0</td>\n",
       "      <td>6223112302</td>\n",
       "      <td>404.0</td>\n",
       "      <td>0</td>\n",
       "      <td>0</td>\n",
       "      <td>1</td>\n",
       "      <td>0</td>\n",
       "      <td>0</td>\n",
       "    </tr>\n",
       "    <tr>\n",
       "      <th>4</th>\n",
       "      <td>6223108688</td>\n",
       "      <td>2017-12-04 21:52:00</td>\n",
       "      <td>2017-12-04 09:59:00</td>\n",
       "      <td>447</td>\n",
       "      <td>70551.0</td>\n",
       "      <td>6223108688</td>\n",
       "      <td>713.0</td>\n",
       "      <td>0</td>\n",
       "      <td>0</td>\n",
       "      <td>1</td>\n",
       "      <td>0</td>\n",
       "      <td>0</td>\n",
       "    </tr>\n",
       "  </tbody>\n",
       "</table>\n",
       "</div>"
      ],
      "text/plain": [
       "         acct           stp_dtime       ord_for_dtime  proc_no cpt_code  \\\n",
       "0  4004017060 2017-12-04 17:11:00 2017-12-04 01:56:00     1601  70543.0   \n",
       "1  4004017134 2017-04-13 17:20:00 2017-12-04 08:06:00     1602  72197.0   \n",
       "2  6223112189 2017-12-04 22:07:00 2017-12-04 09:26:00     1604  74183.0   \n",
       "3  6223112302 2017-12-04 16:16:00 2017-12-04 09:32:00     1554  70553.0   \n",
       "4  6223108688 2017-12-04 21:52:00 2017-12-04 09:59:00      447  70551.0   \n",
       "\n",
       "   pt_adm_no_ext  duration  priority_Neuro  priority_Priority  \\\n",
       "0     4004017060     915.0               0                  0   \n",
       "1     4004017134  337846.0               0                  0   \n",
       "2     6223112189     761.0               0                  0   \n",
       "3     6223112302     404.0               0                  0   \n",
       "4     6223108688     713.0               0                  0   \n",
       "\n",
       "   priority_Routine  priority_STAT  priority_Schedule  \n",
       "0                 1              0                  0  \n",
       "1                 1              0                  0  \n",
       "2                 1              0                  0  \n",
       "3                 1              0                  0  \n",
       "4                 1              0                  0  "
      ]
     },
     "execution_count": 422,
     "metadata": {},
     "output_type": "execute_result"
    }
   ],
   "source": [
    "dummies.head()"
   ]
  },
  {
   "cell_type": "code",
   "execution_count": 423,
   "metadata": {},
   "outputs": [],
   "source": [
    "from sklearn.preprocessing import StandardScaler"
   ]
  },
  {
   "cell_type": "code",
   "execution_count": 430,
   "metadata": {},
   "outputs": [],
   "source": [
    "X=dummies.drop(labels=['duration','ord_for_dtime','stp_dtime', 'acct'],axis=1)\n",
    "y=dummies[\"duration\"]\n",
    "\n",
    "X = StandardScaler().fit_transform(X)"
   ]
  },
  {
   "cell_type": "code",
   "execution_count": 431,
   "metadata": {},
   "outputs": [],
   "source": [
    "\n",
    "X_train, X_test, y_train, y_test = train_test_split(X, y, test_size=0.20, random_state=1)"
   ]
  },
  {
   "cell_type": "code",
   "execution_count": 432,
   "metadata": {},
   "outputs": [
    {
     "name": "stdout",
     "output_type": "stream",
     "text": [
      "(3804, 8)\n",
      "(951, 8)\n",
      "(3804,)\n",
      "(951,)\n"
     ]
    }
   ],
   "source": [
    "print(X_train.shape)\n",
    "print(X_test.shape)\n",
    "print(y_train.shape)\n",
    "print(y_test.shape)"
   ]
  },
  {
   "cell_type": "markdown",
   "metadata": {},
   "source": [
    "# Random Forest Base Model using The Pycaret Library "
   ]
  },
  {
   "cell_type": "code",
   "execution_count": 433,
   "metadata": {},
   "outputs": [
    {
     "data": {
      "text/plain": [
       "RandomForestRegressor(random_state=0)"
      ]
     },
     "execution_count": 433,
     "metadata": {},
     "output_type": "execute_result"
    }
   ],
   "source": [
    "from sklearn.ensemble import RandomForestRegressor\n",
    "\n",
    "model = RandomForestRegressor(random_state = 0)\n",
    "\n",
    "model.fit(X_train, y_train)"
   ]
  },
  {
   "cell_type": "code",
   "execution_count": 434,
   "metadata": {},
   "outputs": [],
   "source": [
    "y_pred_train = model.predict(X_train)\n",
    "y_pred_test = model.predict(X_test)  "
   ]
  },
  {
   "cell_type": "code",
   "execution_count": 435,
   "metadata": {},
   "outputs": [
    {
     "name": "stdout",
     "output_type": "stream",
     "text": [
      "RMSE for the train set is 27859.374625813576\n",
      "RMSE for the test set is 56168.796407873895\n"
     ]
    }
   ],
   "source": [
    "from sklearn import metrics\n",
    "RMSE_train = np.sqrt(metrics.mean_squared_error(y_train, y_pred_train))       \n",
    "RMSE_test = np.sqrt(metrics.mean_squared_error(y_test, y_pred_test))  \n",
    "# compute the RMSE of our predictions\n",
    "print('RMSE for the train set is {}'.format(RMSE_train))\n",
    "print('RMSE for the test set is {}'.format(RMSE_test))"
   ]
  },
  {
   "cell_type": "markdown",
   "metadata": {},
   "source": [
    "# Observation "
   ]
  },
  {
   "cell_type": "markdown",
   "metadata": {},
   "source": [
    "The Model Underfits because the features are very very less correlated with the target variable and there are less features. Maybe if we consider taking some more columns, we can do with with this regression model. Also we need to make sure to consider those features which directly impact the duration. Analyze and see, that brings delay in the scan or what saves time in the scan and add that as a new feature which will be highly correlated with the duration and hence will bring us better results"
   ]
  },
  {
   "cell_type": "markdown",
   "metadata": {},
   "source": [
    "# Classification"
   ]
  },
  {
   "cell_type": "markdown",
   "metadata": {},
   "source": [
    "'cpt_code' has 35 unique code which means we have 35 different classes for the model to classify and we hardly have 5000 rows which is good for our classification model."
   ]
  },
  {
   "cell_type": "code",
   "execution_count": 436,
   "metadata": {},
   "outputs": [
    {
     "data": {
      "text/plain": [
       "70551.0    1701\n",
       "70553.0     625\n",
       "70544.0     425\n",
       "72148.0     223\n",
       "74181.0     221\n",
       "70549.0     218\n",
       "73720.0     184\n",
       "72141.0     157\n",
       "74183.0     140\n",
       "72158.0     125\n",
       "72156.0      97\n",
       "72157.0      72\n",
       "72146.0      69\n",
       "75561.0      66\n",
       "73721.0      64\n",
       "73718.0      57\n",
       "72197.0      47\n",
       "73221.0      45\n",
       "73220.0      43\n",
       "73223.0      33\n",
       "73723.0      30\n",
       "70547.0      19\n",
       "72195.0      18\n",
       "70546.0      18\n",
       "75557.0      13\n",
       "71552.0       8\n",
       "73218.0       8\n",
       "70552.0       8\n",
       "74185.0       6\n",
       "73725.0       4\n",
       "71555.0       4\n",
       "70543.0       3\n",
       "71550.0       2\n",
       "70540.0       1\n",
       "73722.0       1\n",
       "Name: cpt_code, dtype: int64"
      ]
     },
     "execution_count": 436,
     "metadata": {},
     "output_type": "execute_result"
    }
   ],
   "source": [
    "df.cpt_code.value_counts()"
   ]
  },
  {
   "cell_type": "code",
   "execution_count": 437,
   "metadata": {},
   "outputs": [
    {
     "data": {
      "text/html": [
       "<div>\n",
       "<style scoped>\n",
       "    .dataframe tbody tr th:only-of-type {\n",
       "        vertical-align: middle;\n",
       "    }\n",
       "\n",
       "    .dataframe tbody tr th {\n",
       "        vertical-align: top;\n",
       "    }\n",
       "\n",
       "    .dataframe thead th {\n",
       "        text-align: right;\n",
       "    }\n",
       "</style>\n",
       "<table border=\"1\" class=\"dataframe\">\n",
       "  <thead>\n",
       "    <tr style=\"text-align: right;\">\n",
       "      <th></th>\n",
       "      <th>acct</th>\n",
       "      <th>stp_dtime</th>\n",
       "      <th>ord_for_dtime</th>\n",
       "      <th>proc_no</th>\n",
       "      <th>cpt_code</th>\n",
       "      <th>pt_adm_no_ext</th>\n",
       "      <th>duration</th>\n",
       "      <th>priority_Neuro</th>\n",
       "      <th>priority_Priority</th>\n",
       "      <th>priority_Routine</th>\n",
       "      <th>priority_STAT</th>\n",
       "      <th>priority_Schedule</th>\n",
       "    </tr>\n",
       "  </thead>\n",
       "  <tbody>\n",
       "    <tr>\n",
       "      <th>0</th>\n",
       "      <td>4004017060</td>\n",
       "      <td>2017-12-04 17:11:00</td>\n",
       "      <td>2017-12-04 01:56:00</td>\n",
       "      <td>1601</td>\n",
       "      <td>70543.0</td>\n",
       "      <td>4004017060</td>\n",
       "      <td>915.0</td>\n",
       "      <td>0</td>\n",
       "      <td>0</td>\n",
       "      <td>1</td>\n",
       "      <td>0</td>\n",
       "      <td>0</td>\n",
       "    </tr>\n",
       "    <tr>\n",
       "      <th>1</th>\n",
       "      <td>4004017134</td>\n",
       "      <td>2017-04-13 17:20:00</td>\n",
       "      <td>2017-12-04 08:06:00</td>\n",
       "      <td>1602</td>\n",
       "      <td>72197.0</td>\n",
       "      <td>4004017134</td>\n",
       "      <td>337846.0</td>\n",
       "      <td>0</td>\n",
       "      <td>0</td>\n",
       "      <td>1</td>\n",
       "      <td>0</td>\n",
       "      <td>0</td>\n",
       "    </tr>\n",
       "    <tr>\n",
       "      <th>2</th>\n",
       "      <td>6223112189</td>\n",
       "      <td>2017-12-04 22:07:00</td>\n",
       "      <td>2017-12-04 09:26:00</td>\n",
       "      <td>1604</td>\n",
       "      <td>74183.0</td>\n",
       "      <td>6223112189</td>\n",
       "      <td>761.0</td>\n",
       "      <td>0</td>\n",
       "      <td>0</td>\n",
       "      <td>1</td>\n",
       "      <td>0</td>\n",
       "      <td>0</td>\n",
       "    </tr>\n",
       "    <tr>\n",
       "      <th>3</th>\n",
       "      <td>6223112302</td>\n",
       "      <td>2017-12-04 16:16:00</td>\n",
       "      <td>2017-12-04 09:32:00</td>\n",
       "      <td>1554</td>\n",
       "      <td>70553.0</td>\n",
       "      <td>6223112302</td>\n",
       "      <td>404.0</td>\n",
       "      <td>0</td>\n",
       "      <td>0</td>\n",
       "      <td>1</td>\n",
       "      <td>0</td>\n",
       "      <td>0</td>\n",
       "    </tr>\n",
       "    <tr>\n",
       "      <th>4</th>\n",
       "      <td>6223108688</td>\n",
       "      <td>2017-12-04 21:52:00</td>\n",
       "      <td>2017-12-04 09:59:00</td>\n",
       "      <td>447</td>\n",
       "      <td>70551.0</td>\n",
       "      <td>6223108688</td>\n",
       "      <td>713.0</td>\n",
       "      <td>0</td>\n",
       "      <td>0</td>\n",
       "      <td>1</td>\n",
       "      <td>0</td>\n",
       "      <td>0</td>\n",
       "    </tr>\n",
       "  </tbody>\n",
       "</table>\n",
       "</div>"
      ],
      "text/plain": [
       "         acct           stp_dtime       ord_for_dtime  proc_no cpt_code  \\\n",
       "0  4004017060 2017-12-04 17:11:00 2017-12-04 01:56:00     1601  70543.0   \n",
       "1  4004017134 2017-04-13 17:20:00 2017-12-04 08:06:00     1602  72197.0   \n",
       "2  6223112189 2017-12-04 22:07:00 2017-12-04 09:26:00     1604  74183.0   \n",
       "3  6223112302 2017-12-04 16:16:00 2017-12-04 09:32:00     1554  70553.0   \n",
       "4  6223108688 2017-12-04 21:52:00 2017-12-04 09:59:00      447  70551.0   \n",
       "\n",
       "   pt_adm_no_ext  duration  priority_Neuro  priority_Priority  \\\n",
       "0     4004017060     915.0               0                  0   \n",
       "1     4004017134  337846.0               0                  0   \n",
       "2     6223112189     761.0               0                  0   \n",
       "3     6223112302     404.0               0                  0   \n",
       "4     6223108688     713.0               0                  0   \n",
       "\n",
       "   priority_Routine  priority_STAT  priority_Schedule  \n",
       "0                 1              0                  0  \n",
       "1                 1              0                  0  \n",
       "2                 1              0                  0  \n",
       "3                 1              0                  0  \n",
       "4                 1              0                  0  "
      ]
     },
     "execution_count": 437,
     "metadata": {},
     "output_type": "execute_result"
    }
   ],
   "source": [
    "dummies.head()"
   ]
  },
  {
   "cell_type": "code",
   "execution_count": 438,
   "metadata": {},
   "outputs": [],
   "source": [
    "X_new=dummies.drop(labels=['cpt_code', 'acct', 'ord_for_dtime','stp_dtime'],axis=1)\n",
    "y_new=dummies[[\"cpt_code\"]]"
   ]
  },
  {
   "cell_type": "code",
   "execution_count": 439,
   "metadata": {},
   "outputs": [],
   "source": [
    "X_train, X_test, y_train, y_test = train_test_split(X_new,y_new,test_size=0.50,random_state=42)"
   ]
  },
  {
   "cell_type": "code",
   "execution_count": 440,
   "metadata": {},
   "outputs": [],
   "source": [
    "from sklearn.tree import DecisionTreeClassifier \n",
    "from sklearn.metrics import classification_report"
   ]
  },
  {
   "cell_type": "code",
   "execution_count": 441,
   "metadata": {},
   "outputs": [],
   "source": [
    "loreg= DecisionTreeClassifier()"
   ]
  },
  {
   "cell_type": "code",
   "execution_count": 442,
   "metadata": {},
   "outputs": [
    {
     "data": {
      "text/plain": [
       "DecisionTreeClassifier()"
      ]
     },
     "execution_count": 442,
     "metadata": {},
     "output_type": "execute_result"
    }
   ],
   "source": [
    "loreg.fit(X_train, y_train)"
   ]
  },
  {
   "cell_type": "markdown",
   "metadata": {},
   "source": [
    "# Metrices"
   ]
  },
  {
   "cell_type": "code",
   "execution_count": 446,
   "metadata": {},
   "outputs": [
    {
     "data": {
      "text/plain": [
       "0.9928511354079058"
      ]
     },
     "execution_count": 446,
     "metadata": {},
     "output_type": "execute_result"
    }
   ],
   "source": [
    "loreg.score(X_test, y_test)"
   ]
  },
  {
   "cell_type": "code",
   "execution_count": 447,
   "metadata": {},
   "outputs": [
    {
     "name": "stdout",
     "output_type": "stream",
     "text": [
      "              precision    recall  f1-score   support\n",
      "\n",
      "     70540.0       0.00      0.00      0.00         1\n",
      "     70543.0       1.00      1.00      1.00         1\n",
      "     70544.0       1.00      1.00      1.00       221\n",
      "     70546.0       0.83      1.00      0.91        10\n",
      "     70547.0       1.00      1.00      1.00         9\n",
      "     70549.0       1.00      1.00      1.00       114\n",
      "     70551.0       1.00      1.00      1.00       870\n",
      "     70552.0       0.83      1.00      0.91         5\n",
      "     70553.0       1.00      1.00      1.00       313\n",
      "     71550.0       1.00      1.00      1.00         1\n",
      "     71552.0       1.00      1.00      1.00         3\n",
      "     71555.0       0.00      0.00      0.00         3\n",
      "     72141.0       1.00      1.00      1.00        78\n",
      "     72146.0       1.00      1.00      1.00        34\n",
      "     72148.0       1.00      0.99      0.99        97\n",
      "     72156.0       1.00      1.00      1.00        49\n",
      "     72157.0       1.00      1.00      1.00        36\n",
      "     72158.0       1.00      1.00      1.00        66\n",
      "     72195.0       1.00      1.00      1.00         8\n",
      "     72197.0       1.00      1.00      1.00        24\n",
      "     73218.0       0.33      0.25      0.29         4\n",
      "     73220.0       1.00      1.00      1.00        17\n",
      "     73221.0       1.00      1.00      1.00        23\n",
      "     73223.0       0.93      0.82      0.87        17\n",
      "     73718.0       0.97      1.00      0.99        33\n",
      "     73720.0       1.00      1.00      1.00        82\n",
      "     73721.0       0.87      0.90      0.88        29\n",
      "     73723.0       0.80      0.92      0.86        13\n",
      "     73725.0       1.00      1.00      1.00         2\n",
      "     74181.0       1.00      1.00      1.00       106\n",
      "     74183.0       1.00      1.00      1.00        69\n",
      "     74185.0       0.33      1.00      0.50         1\n",
      "     75557.0       1.00      1.00      1.00         8\n",
      "     75561.0       1.00      1.00      1.00        31\n",
      "\n",
      "    accuracy                           0.99      2378\n",
      "   macro avg       0.88      0.91      0.89      2378\n",
      "weighted avg       0.99      0.99      0.99      2378\n",
      "\n"
     ]
    }
   ],
   "source": [
    "print(classification_report(y_test, loreg.predict(X_test)))"
   ]
  },
  {
   "cell_type": "code",
   "execution_count": 450,
   "metadata": {},
   "outputs": [],
   "source": [
    "y_pred_train_new = loreg.predict(X_train)\n",
    "y_pred_test_new = loreg.predict(X_test)  "
   ]
  },
  {
   "cell_type": "code",
   "execution_count": 451,
   "metadata": {},
   "outputs": [],
   "source": [
    "df1 = pd.DataFrame()"
   ]
  },
  {
   "cell_type": "code",
   "execution_count": 452,
   "metadata": {},
   "outputs": [],
   "source": [
    "df1['train_y'] = y_train['cpt_code']\n",
    "df1['train_pred_y'] = y_pred_train_new"
   ]
  },
  {
   "cell_type": "code",
   "execution_count": 453,
   "metadata": {},
   "outputs": [],
   "source": [
    "df2 = pd.DataFrame()"
   ]
  },
  {
   "cell_type": "code",
   "execution_count": 454,
   "metadata": {},
   "outputs": [],
   "source": [
    "df2['test_y'] = y_test['cpt_code']\n",
    "df2['test_pred_y'] = y_pred_test_new"
   ]
  },
  {
   "cell_type": "code",
   "execution_count": 455,
   "metadata": {},
   "outputs": [
    {
     "data": {
      "text/html": [
       "<div>\n",
       "<style scoped>\n",
       "    .dataframe tbody tr th:only-of-type {\n",
       "        vertical-align: middle;\n",
       "    }\n",
       "\n",
       "    .dataframe tbody tr th {\n",
       "        vertical-align: top;\n",
       "    }\n",
       "\n",
       "    .dataframe thead th {\n",
       "        text-align: right;\n",
       "    }\n",
       "</style>\n",
       "<table border=\"1\" class=\"dataframe\">\n",
       "  <thead>\n",
       "    <tr style=\"text-align: right;\">\n",
       "      <th></th>\n",
       "      <th>train_y</th>\n",
       "      <th>train_pred_y</th>\n",
       "    </tr>\n",
       "  </thead>\n",
       "  <tbody>\n",
       "    <tr>\n",
       "      <th>3351</th>\n",
       "      <td>72141.0</td>\n",
       "      <td>72141.0</td>\n",
       "    </tr>\n",
       "    <tr>\n",
       "      <th>1731</th>\n",
       "      <td>70551.0</td>\n",
       "      <td>70551.0</td>\n",
       "    </tr>\n",
       "    <tr>\n",
       "      <th>3398</th>\n",
       "      <td>72148.0</td>\n",
       "      <td>72148.0</td>\n",
       "    </tr>\n",
       "    <tr>\n",
       "      <th>4557</th>\n",
       "      <td>74183.0</td>\n",
       "      <td>74183.0</td>\n",
       "    </tr>\n",
       "    <tr>\n",
       "      <th>1791</th>\n",
       "      <td>72148.0</td>\n",
       "      <td>72148.0</td>\n",
       "    </tr>\n",
       "    <tr>\n",
       "      <th>...</th>\n",
       "      <td>...</td>\n",
       "      <td>...</td>\n",
       "    </tr>\n",
       "    <tr>\n",
       "      <th>4426</th>\n",
       "      <td>70551.0</td>\n",
       "      <td>70551.0</td>\n",
       "    </tr>\n",
       "    <tr>\n",
       "      <th>466</th>\n",
       "      <td>70544.0</td>\n",
       "      <td>70544.0</td>\n",
       "    </tr>\n",
       "    <tr>\n",
       "      <th>3092</th>\n",
       "      <td>73723.0</td>\n",
       "      <td>73723.0</td>\n",
       "    </tr>\n",
       "    <tr>\n",
       "      <th>3772</th>\n",
       "      <td>70547.0</td>\n",
       "      <td>70547.0</td>\n",
       "    </tr>\n",
       "    <tr>\n",
       "      <th>860</th>\n",
       "      <td>72158.0</td>\n",
       "      <td>72158.0</td>\n",
       "    </tr>\n",
       "  </tbody>\n",
       "</table>\n",
       "<p>2377 rows × 2 columns</p>\n",
       "</div>"
      ],
      "text/plain": [
       "      train_y  train_pred_y\n",
       "3351  72141.0       72141.0\n",
       "1731  70551.0       70551.0\n",
       "3398  72148.0       72148.0\n",
       "4557  74183.0       74183.0\n",
       "1791  72148.0       72148.0\n",
       "...       ...           ...\n",
       "4426  70551.0       70551.0\n",
       "466   70544.0       70544.0\n",
       "3092  73723.0       73723.0\n",
       "3772  70547.0       70547.0\n",
       "860   72158.0       72158.0\n",
       "\n",
       "[2377 rows x 2 columns]"
      ]
     },
     "execution_count": 455,
     "metadata": {},
     "output_type": "execute_result"
    }
   ],
   "source": [
    "df1"
   ]
  },
  {
   "cell_type": "code",
   "execution_count": 456,
   "metadata": {},
   "outputs": [
    {
     "data": {
      "text/html": [
       "<div>\n",
       "<style scoped>\n",
       "    .dataframe tbody tr th:only-of-type {\n",
       "        vertical-align: middle;\n",
       "    }\n",
       "\n",
       "    .dataframe tbody tr th {\n",
       "        vertical-align: top;\n",
       "    }\n",
       "\n",
       "    .dataframe thead th {\n",
       "        text-align: right;\n",
       "    }\n",
       "</style>\n",
       "<table border=\"1\" class=\"dataframe\">\n",
       "  <thead>\n",
       "    <tr style=\"text-align: right;\">\n",
       "      <th></th>\n",
       "      <th>test_y</th>\n",
       "      <th>test_pred_y</th>\n",
       "    </tr>\n",
       "  </thead>\n",
       "  <tbody>\n",
       "    <tr>\n",
       "      <th>731</th>\n",
       "      <td>70553.0</td>\n",
       "      <td>70553.0</td>\n",
       "    </tr>\n",
       "    <tr>\n",
       "      <th>2602</th>\n",
       "      <td>74183.0</td>\n",
       "      <td>74183.0</td>\n",
       "    </tr>\n",
       "    <tr>\n",
       "      <th>1965</th>\n",
       "      <td>70551.0</td>\n",
       "      <td>70551.0</td>\n",
       "    </tr>\n",
       "    <tr>\n",
       "      <th>4038</th>\n",
       "      <td>73221.0</td>\n",
       "      <td>73221.0</td>\n",
       "    </tr>\n",
       "    <tr>\n",
       "      <th>1497</th>\n",
       "      <td>70549.0</td>\n",
       "      <td>70549.0</td>\n",
       "    </tr>\n",
       "    <tr>\n",
       "      <th>...</th>\n",
       "      <td>...</td>\n",
       "      <td>...</td>\n",
       "    </tr>\n",
       "    <tr>\n",
       "      <th>3994</th>\n",
       "      <td>70553.0</td>\n",
       "      <td>70553.0</td>\n",
       "    </tr>\n",
       "    <tr>\n",
       "      <th>2581</th>\n",
       "      <td>70544.0</td>\n",
       "      <td>70544.0</td>\n",
       "    </tr>\n",
       "    <tr>\n",
       "      <th>3365</th>\n",
       "      <td>70551.0</td>\n",
       "      <td>70551.0</td>\n",
       "    </tr>\n",
       "    <tr>\n",
       "      <th>4740</th>\n",
       "      <td>73720.0</td>\n",
       "      <td>73720.0</td>\n",
       "    </tr>\n",
       "    <tr>\n",
       "      <th>1587</th>\n",
       "      <td>70551.0</td>\n",
       "      <td>70551.0</td>\n",
       "    </tr>\n",
       "  </tbody>\n",
       "</table>\n",
       "<p>2378 rows × 2 columns</p>\n",
       "</div>"
      ],
      "text/plain": [
       "       test_y  test_pred_y\n",
       "731   70553.0      70553.0\n",
       "2602  74183.0      74183.0\n",
       "1965  70551.0      70551.0\n",
       "4038  73221.0      73221.0\n",
       "1497  70549.0      70549.0\n",
       "...       ...          ...\n",
       "3994  70553.0      70553.0\n",
       "2581  70544.0      70544.0\n",
       "3365  70551.0      70551.0\n",
       "4740  73720.0      73720.0\n",
       "1587  70551.0      70551.0\n",
       "\n",
       "[2378 rows x 2 columns]"
      ]
     },
     "execution_count": 456,
     "metadata": {},
     "output_type": "execute_result"
    }
   ],
   "source": [
    "df2"
   ]
  },
  {
   "cell_type": "markdown",
   "metadata": {},
   "source": [
    "# Comments"
   ]
  },
  {
   "cell_type": "markdown",
   "metadata": {},
   "source": [
    "Even if you split data for train and test on 50% ratio. Train on 50% and test on 50%, the model still gives perfect results\n",
    "\n",
    "We are predicting 2000 UNSEEN values, and it still is predicting accurately\n",
    "\n",
    "No, there isn't an over fitting problem because I checked on 50-50 ratio and it was still performing better which means we have good features for classification. They are making the best splits on decision tree nodes and hence giving good results\n",
    "\n",
    "Another reason is that, we have 35 classes for around 4000 observations. 35 classes are too many which make it easy for the model to classify since there are 35 options for the model\n",
    "\n",
    "We dont get good accuracy when there are a few classes say 2 or 3 or 4 or 5. That's why the model is left with a very few choices to classify\n",
    "\n",
    "Usually, data is in millions and classes are less - so we get less accuracy\n",
    "\n",
    "Here, we have small data and too many classes, so better accuracy rate"
   ]
  },
  {
   "cell_type": "code",
   "execution_count": null,
   "metadata": {},
   "outputs": [],
   "source": []
  }
 ],
 "metadata": {
  "kernelspec": {
   "display_name": "Python 3",
   "language": "python",
   "name": "python3"
  },
  "language_info": {
   "codemirror_mode": {
    "name": "ipython",
    "version": 3
   },
   "file_extension": ".py",
   "mimetype": "text/x-python",
   "name": "python",
   "nbconvert_exporter": "python",
   "pygments_lexer": "ipython3",
   "version": "3.7.7"
  }
 },
 "nbformat": 4,
 "nbformat_minor": 4
}
